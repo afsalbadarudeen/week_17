{
 "cells": [
  {
   "cell_type": "code",
   "execution_count": 1,
   "metadata": {},
   "outputs": [
    {
     "data": {
      "text/plain": [
       "'/kaggle/working'"
      ]
     },
     "execution_count": 1,
     "metadata": {},
     "output_type": "execute_result"
    }
   ],
   "source": [
    "pwd"
   ]
  },
  {
   "cell_type": "markdown",
   "metadata": {},
   "source": [
    "## About Data and Objective\n",
    "\n",
    "#### Use Decision Trees to build a regressor & Grid Search to find the optimal value for the hyperparameters for the given dataset, and evaluate your model on the appropriate metrics try and predict gas consumption (in millions of gallons) in 48 US states based upon:\n",
    "1. Gas Tax (in cents)\n",
    "2. Per Capita Income (dollars)\n",
    "3. Paved Highways (in miles) &\n",
    "4. The proportion of the population with a driver license."
   ]
  },
  {
   "cell_type": "markdown",
   "metadata": {},
   "source": [
    "#### Importing Packages"
   ]
  },
  {
   "cell_type": "code",
   "execution_count": 2,
   "metadata": {},
   "outputs": [],
   "source": [
    "import warnings\n",
    "warnings.filterwarnings('ignore')\n",
    "import os\n",
    "import pandas as pd\n",
    "from pandas import DataFrame\n",
    "import pylab as pl\n",
    "import numpy as np\n",
    "import seaborn as sns\n",
    "from scipy import stats\n",
    "import matplotlib.pyplot as plt\n",
    "%matplotlib inline"
   ]
  },
  {
   "cell_type": "code",
   "execution_count": 3,
   "metadata": {},
   "outputs": [],
   "source": [
    "Fuel_cons=pd.read_csv(\"../input/petrol_consumption.csv\") #Importing Data"
   ]
  },
  {
   "cell_type": "code",
   "execution_count": 4,
   "metadata": {},
   "outputs": [
    {
     "data": {
      "text/html": [
       "<div>\n",
       "<style scoped>\n",
       "    .dataframe tbody tr th:only-of-type {\n",
       "        vertical-align: middle;\n",
       "    }\n",
       "\n",
       "    .dataframe tbody tr th {\n",
       "        vertical-align: top;\n",
       "    }\n",
       "\n",
       "    .dataframe thead th {\n",
       "        text-align: right;\n",
       "    }\n",
       "</style>\n",
       "<table border=\"1\" class=\"dataframe\">\n",
       "  <thead>\n",
       "    <tr style=\"text-align: right;\">\n",
       "      <th></th>\n",
       "      <th>Petrol_tax</th>\n",
       "      <th>Average_income</th>\n",
       "      <th>Paved_Highways</th>\n",
       "      <th>Population_Driver_licence(%)</th>\n",
       "      <th>Petrol_Consumption</th>\n",
       "    </tr>\n",
       "  </thead>\n",
       "  <tbody>\n",
       "    <tr>\n",
       "      <th>0</th>\n",
       "      <td>9.0</td>\n",
       "      <td>3571</td>\n",
       "      <td>1976</td>\n",
       "      <td>0.525</td>\n",
       "      <td>541</td>\n",
       "    </tr>\n",
       "    <tr>\n",
       "      <th>1</th>\n",
       "      <td>9.0</td>\n",
       "      <td>4092</td>\n",
       "      <td>1250</td>\n",
       "      <td>0.572</td>\n",
       "      <td>524</td>\n",
       "    </tr>\n",
       "    <tr>\n",
       "      <th>2</th>\n",
       "      <td>9.0</td>\n",
       "      <td>3865</td>\n",
       "      <td>1586</td>\n",
       "      <td>0.580</td>\n",
       "      <td>561</td>\n",
       "    </tr>\n",
       "    <tr>\n",
       "      <th>3</th>\n",
       "      <td>7.5</td>\n",
       "      <td>4870</td>\n",
       "      <td>2351</td>\n",
       "      <td>0.529</td>\n",
       "      <td>414</td>\n",
       "    </tr>\n",
       "    <tr>\n",
       "      <th>4</th>\n",
       "      <td>8.0</td>\n",
       "      <td>4399</td>\n",
       "      <td>431</td>\n",
       "      <td>0.544</td>\n",
       "      <td>410</td>\n",
       "    </tr>\n",
       "  </tbody>\n",
       "</table>\n",
       "</div>"
      ],
      "text/plain": [
       "   Petrol_tax  Average_income  Paved_Highways  Population_Driver_licence(%)  \\\n",
       "0         9.0            3571            1976                         0.525   \n",
       "1         9.0            4092            1250                         0.572   \n",
       "2         9.0            3865            1586                         0.580   \n",
       "3         7.5            4870            2351                         0.529   \n",
       "4         8.0            4399             431                         0.544   \n",
       "\n",
       "   Petrol_Consumption  \n",
       "0                 541  \n",
       "1                 524  \n",
       "2                 561  \n",
       "3                 414  \n",
       "4                 410  "
      ]
     },
     "execution_count": 4,
     "metadata": {},
     "output_type": "execute_result"
    }
   ],
   "source": [
    "Fuel_cons.head()"
   ]
  },
  {
   "cell_type": "markdown",
   "metadata": {},
   "source": [
    "#### Structure and Datatypes of Dataset along with Summary Statistics"
   ]
  },
  {
   "cell_type": "code",
   "execution_count": 5,
   "metadata": {},
   "outputs": [
    {
     "name": "stdout",
     "output_type": "stream",
     "text": [
      "(48, 5)\n",
      "<class 'pandas.core.frame.DataFrame'>\n",
      "RangeIndex: 48 entries, 0 to 47\n",
      "Data columns (total 5 columns):\n",
      " #   Column                        Non-Null Count  Dtype  \n",
      "---  ------                        --------------  -----  \n",
      " 0   Petrol_tax                    48 non-null     float64\n",
      " 1   Average_income                48 non-null     int64  \n",
      " 2   Paved_Highways                48 non-null     int64  \n",
      " 3   Population_Driver_licence(%)  48 non-null     float64\n",
      " 4   Petrol_Consumption            48 non-null     int64  \n",
      "dtypes: float64(2), int64(3)\n",
      "memory usage: 2.0 KB\n"
     ]
    }
   ],
   "source": [
    "print(Fuel_cons.shape)\n",
    "Fuel_cons.info()"
   ]
  },
  {
   "cell_type": "code",
   "execution_count": 6,
   "metadata": {},
   "outputs": [
    {
     "data": {
      "text/html": [
       "<div>\n",
       "<style scoped>\n",
       "    .dataframe tbody tr th:only-of-type {\n",
       "        vertical-align: middle;\n",
       "    }\n",
       "\n",
       "    .dataframe tbody tr th {\n",
       "        vertical-align: top;\n",
       "    }\n",
       "\n",
       "    .dataframe thead th {\n",
       "        text-align: right;\n",
       "    }\n",
       "</style>\n",
       "<table border=\"1\" class=\"dataframe\">\n",
       "  <thead>\n",
       "    <tr style=\"text-align: right;\">\n",
       "      <th></th>\n",
       "      <th>count</th>\n",
       "      <th>mean</th>\n",
       "      <th>std</th>\n",
       "      <th>min</th>\n",
       "      <th>25%</th>\n",
       "      <th>50%</th>\n",
       "      <th>75%</th>\n",
       "      <th>max</th>\n",
       "    </tr>\n",
       "  </thead>\n",
       "  <tbody>\n",
       "    <tr>\n",
       "      <th>Petrol_tax</th>\n",
       "      <td>48.0000</td>\n",
       "      <td>7.6683</td>\n",
       "      <td>0.9508</td>\n",
       "      <td>5.0000</td>\n",
       "      <td>7.0000</td>\n",
       "      <td>7.5000</td>\n",
       "      <td>8.1250</td>\n",
       "      <td>10.0000</td>\n",
       "    </tr>\n",
       "    <tr>\n",
       "      <th>Average_income</th>\n",
       "      <td>48.0000</td>\n",
       "      <td>4241.8333</td>\n",
       "      <td>573.6238</td>\n",
       "      <td>3063.0000</td>\n",
       "      <td>3739.0000</td>\n",
       "      <td>4298.0000</td>\n",
       "      <td>4578.7500</td>\n",
       "      <td>5342.0000</td>\n",
       "    </tr>\n",
       "    <tr>\n",
       "      <th>Paved_Highways</th>\n",
       "      <td>48.0000</td>\n",
       "      <td>5565.4167</td>\n",
       "      <td>3491.5072</td>\n",
       "      <td>431.0000</td>\n",
       "      <td>3110.2500</td>\n",
       "      <td>4735.5000</td>\n",
       "      <td>7156.0000</td>\n",
       "      <td>17782.0000</td>\n",
       "    </tr>\n",
       "    <tr>\n",
       "      <th>Population_Driver_licence(%)</th>\n",
       "      <td>48.0000</td>\n",
       "      <td>0.5703</td>\n",
       "      <td>0.0555</td>\n",
       "      <td>0.4510</td>\n",
       "      <td>0.5298</td>\n",
       "      <td>0.5645</td>\n",
       "      <td>0.5952</td>\n",
       "      <td>0.7240</td>\n",
       "    </tr>\n",
       "    <tr>\n",
       "      <th>Petrol_Consumption</th>\n",
       "      <td>48.0000</td>\n",
       "      <td>576.7708</td>\n",
       "      <td>111.8858</td>\n",
       "      <td>344.0000</td>\n",
       "      <td>509.5000</td>\n",
       "      <td>568.5000</td>\n",
       "      <td>632.7500</td>\n",
       "      <td>968.0000</td>\n",
       "    </tr>\n",
       "  </tbody>\n",
       "</table>\n",
       "</div>"
      ],
      "text/plain": [
       "                               count      mean       std       min       25%  \\\n",
       "Petrol_tax                   48.0000    7.6683    0.9508    5.0000    7.0000   \n",
       "Average_income               48.0000 4241.8333  573.6238 3063.0000 3739.0000   \n",
       "Paved_Highways               48.0000 5565.4167 3491.5072  431.0000 3110.2500   \n",
       "Population_Driver_licence(%) 48.0000    0.5703    0.0555    0.4510    0.5298   \n",
       "Petrol_Consumption           48.0000  576.7708  111.8858  344.0000  509.5000   \n",
       "\n",
       "                                   50%       75%        max  \n",
       "Petrol_tax                      7.5000    8.1250    10.0000  \n",
       "Average_income               4298.0000 4578.7500  5342.0000  \n",
       "Paved_Highways               4735.5000 7156.0000 17782.0000  \n",
       "Population_Driver_licence(%)    0.5645    0.5952     0.7240  \n",
       "Petrol_Consumption            568.5000  632.7500   968.0000  "
      ]
     },
     "execution_count": 6,
     "metadata": {},
     "output_type": "execute_result"
    }
   ],
   "source": [
    "pd.options.display.float_format = '{:.4f}'.format\n",
    "data_summary=Fuel_cons.describe()\n",
    "data_summary.T"
   ]
  },
  {
   "cell_type": "markdown",
   "metadata": {},
   "source": [
    "###### Checking for Outliers"
   ]
  },
  {
   "cell_type": "code",
   "execution_count": 7,
   "metadata": {},
   "outputs": [
    {
     "name": "stdout",
     "output_type": "stream",
     "text": [
      "Column Petrol_tax outliers = 4.17%\n",
      "Column Average_income outliers = 0.00%\n",
      "Column Paved_Highways outliers = 4.17%\n",
      "Column Population_Driver_licence(%) outliers = 2.08%\n",
      "Column Petrol_Consumption outliers = 4.17%\n"
     ]
    }
   ],
   "source": [
    "for k, v in Fuel_cons.items():\n",
    "    q1 = v.quantile(0.25)\n",
    "    q3 = v.quantile(0.75)\n",
    "    irq = q3 - q1\n",
    "    v_col = v[(v <= q1 - 1.5 * irq) | (v >= q3 + 1.5 * irq)]\n",
    "    perc = np.shape(v_col)[0] * 100.0 / np.shape(Fuel_cons)[0]\n",
    "    print(\"Column %s outliers = %.2f%%\" % (k, perc))"
   ]
  },
  {
   "cell_type": "code",
   "execution_count": 8,
   "metadata": {},
   "outputs": [
    {
     "data": {
      "text/plain": [
       "<matplotlib.axes._subplots.AxesSubplot at 0x7f6d708e4890>"
      ]
     },
     "execution_count": 8,
     "metadata": {},
     "output_type": "execute_result"
    },
    {
     "data": {
      "image/png": "[encoded data removed]",
      "text/plain": [
       "<Figure size 864x360 with 1 Axes>"
      ]
     },
     "metadata": {
      "needs_background": "light"
     },
     "output_type": "display_data"
    }
   ],
   "source": [
    "plt.figure(figsize=(12,5))\n",
    "Fuel_cons.boxplot(patch_artist=True,vert=False)"
   ]
  },
  {
   "cell_type": "markdown",
   "metadata": {},
   "source": [
    "###### Correlation Chart"
   ]
  },
  {
   "cell_type": "code",
   "execution_count": 9,
   "metadata": {},
   "outputs": [
    {
     "data": {
      "text/html": [
       "<div>\n",
       "<style scoped>\n",
       "    .dataframe tbody tr th:only-of-type {\n",
       "        vertical-align: middle;\n",
       "    }\n",
       "\n",
       "    .dataframe tbody tr th {\n",
       "        vertical-align: top;\n",
       "    }\n",
       "\n",
       "    .dataframe thead th {\n",
       "        text-align: right;\n",
       "    }\n",
       "</style>\n",
       "<table border=\"1\" class=\"dataframe\">\n",
       "  <thead>\n",
       "    <tr style=\"text-align: right;\">\n",
       "      <th></th>\n",
       "      <th>Petrol_tax</th>\n",
       "      <th>Average_income</th>\n",
       "      <th>Paved_Highways</th>\n",
       "      <th>Population_Driver_licence(%)</th>\n",
       "      <th>Petrol_Consumption</th>\n",
       "    </tr>\n",
       "  </thead>\n",
       "  <tbody>\n",
       "    <tr>\n",
       "      <th>Petrol_tax</th>\n",
       "      <td>1.0000</td>\n",
       "      <td>0.0127</td>\n",
       "      <td>-0.5221</td>\n",
       "      <td>-0.2880</td>\n",
       "      <td>-0.4513</td>\n",
       "    </tr>\n",
       "    <tr>\n",
       "      <th>Average_income</th>\n",
       "      <td>0.0127</td>\n",
       "      <td>1.0000</td>\n",
       "      <td>0.0502</td>\n",
       "      <td>0.1571</td>\n",
       "      <td>-0.2449</td>\n",
       "    </tr>\n",
       "    <tr>\n",
       "      <th>Paved_Highways</th>\n",
       "      <td>-0.5221</td>\n",
       "      <td>0.0502</td>\n",
       "      <td>1.0000</td>\n",
       "      <td>-0.0641</td>\n",
       "      <td>0.0190</td>\n",
       "    </tr>\n",
       "    <tr>\n",
       "      <th>Population_Driver_licence(%)</th>\n",
       "      <td>-0.2880</td>\n",
       "      <td>0.1571</td>\n",
       "      <td>-0.0641</td>\n",
       "      <td>1.0000</td>\n",
       "      <td>0.6990</td>\n",
       "    </tr>\n",
       "    <tr>\n",
       "      <th>Petrol_Consumption</th>\n",
       "      <td>-0.4513</td>\n",
       "      <td>-0.2449</td>\n",
       "      <td>0.0190</td>\n",
       "      <td>0.6990</td>\n",
       "      <td>1.0000</td>\n",
       "    </tr>\n",
       "  </tbody>\n",
       "</table>\n",
       "</div>"
      ],
      "text/plain": [
       "                              Petrol_tax  Average_income  Paved_Highways  \\\n",
       "Petrol_tax                        1.0000          0.0127         -0.5221   \n",
       "Average_income                    0.0127          1.0000          0.0502   \n",
       "Paved_Highways                   -0.5221          0.0502          1.0000   \n",
       "Population_Driver_licence(%)     -0.2880          0.1571         -0.0641   \n",
       "Petrol_Consumption               -0.4513         -0.2449          0.0190   \n",
       "\n",
       "                              Population_Driver_licence(%)  Petrol_Consumption  \n",
       "Petrol_tax                                         -0.2880             -0.4513  \n",
       "Average_income                                      0.1571             -0.2449  \n",
       "Paved_Highways                                     -0.0641              0.0190  \n",
       "Population_Driver_licence(%)                        1.0000              0.6990  \n",
       "Petrol_Consumption                                  0.6990              1.0000  "
      ]
     },
     "execution_count": 9,
     "metadata": {},
     "output_type": "execute_result"
    }
   ],
   "source": [
    "my_corr=Fuel_cons.corr()\n",
    "my_corr"
   ]
  },
  {
   "cell_type": "code",
   "execution_count": 10,
   "metadata": {},
   "outputs": [
    {
     "data": {
      "image/png": "[encoded data removed]",
      "text/plain": [
       "<Figure size 864x360 with 2 Axes>"
      ]
     },
     "metadata": {
      "needs_background": "light"
     },
     "output_type": "display_data"
    }
   ],
   "source": [
    "plt.figure(figsize=(12,5))\n",
    "sns.heatmap(my_corr,linewidth=0.5)\n",
    "plt.show()"
   ]
  },
  {
   "cell_type": "markdown",
   "metadata": {},
   "source": [
    "##### Understanding Data: Exploratory Data Analysis \n",
    "\n",
    "Calculating Correlation, P-value and Regression plot\n",
    "\n",
    "To understand the spread of datapoints this regression plot has been plotted along with pearson coefficients."
   ]
  },
  {
   "cell_type": "code",
   "execution_count": 11,
   "metadata": {},
   "outputs": [
    {
     "name": "stdout",
     "output_type": "stream",
     "text": [
      "The Pearson Correlation Coefficient of Petrol_tax is -0.45128027518698666  with a P-value of P = 0.0012848906734289317\n"
     ]
    },
    {
     "data": {
      "text/plain": [
       "(0.0, 999.2)"
      ]
     },
     "execution_count": 11,
     "metadata": {},
     "output_type": "execute_result"
    },
    {
     "data": {
      "image/png": "[encoded data removed]",
      "text/plain": [
       "<Figure size 432x288 with 1 Axes>"
      ]
     },
     "metadata": {
      "needs_background": "light"
     },
     "output_type": "display_data"
    }
   ],
   "source": [
    "pearson_coef, p_value = stats.pearsonr(Fuel_cons['Petrol_tax'], Fuel_cons['Petrol_Consumption'])\n",
    "print(\"The Pearson Correlation Coefficient of Petrol_tax is\", pearson_coef, \" with a P-value of P =\", p_value)  \n",
    "sns.regplot(x=\"Petrol_tax\", y=\"Petrol_Consumption\", data=Fuel_cons)\n",
    "plt.ylim(0,)"
   ]
  },
  {
   "cell_type": "code",
   "execution_count": 12,
   "metadata": {},
   "outputs": [
    {
     "name": "stdout",
     "output_type": "stream",
     "text": [
      "The Pearson Correlation Coefficient of Petrol_tax is -0.24486207498269905  with a P-value of P = 0.09346842977474583\n"
     ]
    },
    {
     "data": {
      "text/plain": [
       "(0.0, 999.2)"
      ]
     },
     "execution_count": 12,
     "metadata": {},
     "output_type": "execute_result"
    },
    {
     "data": {
      "image/png": "[encoded data removed]",
      "text/plain": [
       "<Figure size 432x288 with 1 Axes>"
      ]
     },
     "metadata": {
      "needs_background": "light"
     },
     "output_type": "display_data"
    }
   ],
   "source": [
    "pearson_coef, p_value = stats.pearsonr(Fuel_cons['Average_income'], Fuel_cons['Petrol_Consumption'])\n",
    "print(\"The Pearson Correlation Coefficient of Petrol_tax is\", pearson_coef, \" with a P-value of P =\", p_value)  \n",
    "sns.regplot(x=\"Average_income\", y=\"Petrol_Consumption\", data=Fuel_cons)\n",
    "plt.ylim(0,)"
   ]
  },
  {
   "cell_type": "code",
   "execution_count": 13,
   "metadata": {},
   "outputs": [
    {
     "name": "stdout",
     "output_type": "stream",
     "text": [
      "The Pearson Correlation Coefficient of Petrol_tax is 0.01904193881958575  with a P-value of P = 0.8977846002496392\n"
     ]
    },
    {
     "data": {
      "text/plain": [
       "(0.0, 999.2)"
      ]
     },
     "execution_count": 13,
     "metadata": {},
     "output_type": "execute_result"
    },
    {
     "data": {
      "image/png": "[encoded data removed]",
      "text/plain": [
       "<Figure size 432x288 with 1 Axes>"
      ]
     },
     "metadata": {
      "needs_background": "light"
     },
     "output_type": "display_data"
    }
   ],
   "source": [
    "pearson_coef, p_value = stats.pearsonr(Fuel_cons['Paved_Highways'], Fuel_cons['Petrol_Consumption'])\n",
    "print(\"The Pearson Correlation Coefficient of Petrol_tax is\", pearson_coef, \" with a P-value of P =\", p_value)  \n",
    "sns.regplot(x=\"Paved_Highways\", y=\"Petrol_Consumption\", data=Fuel_cons)\n",
    "plt.ylim(0,)"
   ]
  },
  {
   "cell_type": "code",
   "execution_count": 14,
   "metadata": {},
   "outputs": [
    {
     "name": "stdout",
     "output_type": "stream",
     "text": [
      "The Pearson Correlation Coefficient of Petrol_tax is 0.6989654213627077  with a P-value of P = 3.289604948530826e-08\n"
     ]
    },
    {
     "data": {
      "text/plain": [
       "(0.0, 999.2)"
      ]
     },
     "execution_count": 14,
     "metadata": {},
     "output_type": "execute_result"
    },
    {
     "data": {
      "image/png": "[encoded data removed]",
      "text/plain": [
       "<Figure size 432x288 with 1 Axes>"
      ]
     },
     "metadata": {
      "needs_background": "light"
     },
     "output_type": "display_data"
    }
   ],
   "source": [
    "pearson_coef, p_value = stats.pearsonr(Fuel_cons['Population_Driver_licence(%)'], Fuel_cons['Petrol_Consumption'])\n",
    "print(\"The Pearson Correlation Coefficient of Petrol_tax is\", pearson_coef, \" with a P-value of P =\", p_value)  \n",
    "sns.regplot(x=\"Population_Driver_licence(%)\", y=\"Petrol_Consumption\", data=Fuel_cons)\n",
    "plt.ylim(0,)"
   ]
  },
  {
   "cell_type": "markdown",
   "metadata": {},
   "source": [
    "##### Knowing about the distribution of Predictors and target of dataset. "
   ]
  },
  {
   "cell_type": "code",
   "execution_count": 15,
   "metadata": {},
   "outputs": [
    {
     "data": {
      "text/plain": [
       "<matplotlib.axes._subplots.AxesSubplot at 0x7f6d6c426610>"
      ]
     },
     "execution_count": 15,
     "metadata": {},
     "output_type": "execute_result"
    },
    {
     "data": {
      "image/png": "[encoded data removed]",
      "text/plain": [
       "<Figure size 864x360 with 1 Axes>"
      ]
     },
     "metadata": {
      "needs_background": "light"
     },
     "output_type": "display_data"
    }
   ],
   "source": [
    "plt.figure(figsize=(12,5))\n",
    "sns.distplot(Fuel_cons['Petrol_tax'])"
   ]
  },
  {
   "cell_type": "code",
   "execution_count": 16,
   "metadata": {},
   "outputs": [
    {
     "data": {
      "text/plain": [
       "<matplotlib.axes._subplots.AxesSubplot at 0x7f6d6c6af2d0>"
      ]
     },
     "execution_count": 16,
     "metadata": {},
     "output_type": "execute_result"
    },
    {
     "data": {
      "image/png": "[encoded data removed]",
      "text/plain": [
       "<Figure size 864x360 with 1 Axes>"
      ]
     },
     "metadata": {
      "needs_background": "light"
     },
     "output_type": "display_data"
    }
   ],
   "source": [
    "plt.figure(figsize=(12,5))\n",
    "sns.distplot(Fuel_cons['Paved_Highways'])"
   ]
  },
  {
   "cell_type": "code",
   "execution_count": 17,
   "metadata": {},
   "outputs": [
    {
     "data": {
      "text/plain": [
       "<matplotlib.axes._subplots.AxesSubplot at 0x7f6d6c4e7910>"
      ]
     },
     "execution_count": 17,
     "metadata": {},
     "output_type": "execute_result"
    },
    {
     "data": {
      "image/png": "[encoded data removed]",
      "text/plain": [
       "<Figure size 864x360 with 1 Axes>"
      ]
     },
     "metadata": {
      "needs_background": "light"
     },
     "output_type": "display_data"
    }
   ],
   "source": [
    "plt.figure(figsize=(12,5))\n",
    "sns.distplot(Fuel_cons['Average_income'])"
   ]
  },
  {
   "cell_type": "code",
   "execution_count": 18,
   "metadata": {},
   "outputs": [
    {
     "data": {
      "text/plain": [
       "<matplotlib.axes._subplots.AxesSubplot at 0x7f6d6c3d9dd0>"
      ]
     },
     "execution_count": 18,
     "metadata": {},
     "output_type": "execute_result"
    },
    {
     "data": {
      "image/png": "[encoded data removed]",
      "text/plain": [
       "<Figure size 864x360 with 1 Axes>"
      ]
     },
     "metadata": {
      "needs_background": "light"
     },
     "output_type": "display_data"
    }
   ],
   "source": [
    "plt.figure(figsize=(12,5))\n",
    "sns.distplot(Fuel_cons['Petrol_Consumption'])"
   ]
  },
  {
   "cell_type": "code",
   "execution_count": 19,
   "metadata": {},
   "outputs": [
    {
     "data": {
      "text/plain": [
       "<matplotlib.axes._subplots.AxesSubplot at 0x7f6d6c60a510>"
      ]
     },
     "execution_count": 19,
     "metadata": {},
     "output_type": "execute_result"
    },
    {
     "data": {
      "image/png": "[encoded data removed]",
      "text/plain": [
       "<Figure size 864x360 with 1 Axes>"
      ]
     },
     "metadata": {
      "needs_background": "light"
     },
     "output_type": "display_data"
    }
   ],
   "source": [
    "plt.figure(figsize=(12,5))\n",
    "sns.distplot(Fuel_cons['Population_Driver_licence(%)'])"
   ]
  },
  {
   "cell_type": "markdown",
   "metadata": {},
   "source": [
    "#### Viz 3: The below plot has been plotted in order to show the Petrol Consumption as per tax.\n",
    "\n",
    "We can see from the below ploted graph that the bandwith of petrol Consumption with lower petrol tax is smooth shown by (Brown Curve) it has high bandwidth as it has shallow kernel and has high density. When we look at the area under Blue Curve we can see its density and amplitude is low which shows petrol tax with High petrol consumption people are less."
   ]
  },
  {
   "cell_type": "code",
   "execution_count": 20,
   "metadata": {},
   "outputs": [
    {
     "data": {
      "text/plain": [
       "<seaborn.axisgrid.FacetGrid at 0x7f6d6c67cc90>"
      ]
     },
     "execution_count": 20,
     "metadata": {},
     "output_type": "execute_result"
    },
    {
     "data": {
      "image/png": "[encoded data removed]",
      "text/plain": [
       "<Figure size 971.25x216 with 1 Axes>"
      ]
     },
     "metadata": {
      "needs_background": "light"
     },
     "output_type": "display_data"
    }
   ],
   "source": [
    "a = sns.FacetGrid(Fuel_cons, hue = 'Petrol_Consumption', aspect=4 )\n",
    "a.map(sns.kdeplot, 'Petrol_tax', shade= True )\n",
    "a.set(xlim=(0 ,Fuel_cons['Petrol_tax'].max()))\n",
    "a.add_legend()"
   ]
  },
  {
   "cell_type": "markdown",
   "metadata": {},
   "source": [
    "#### Viz 4:  The factor plot shows that people mostly taxes are less when there are paved Highways whereas there is high taxation in petrol fuel where there are less Paved Highways. This shows despite of high petrol taxes the condition of highways are not improved which says the improper management and lack of work done by authority."
   ]
  },
  {
   "cell_type": "code",
   "execution_count": 21,
   "metadata": {},
   "outputs": [
    {
     "data": {
      "image/png": "[encoded data removed]",
      "text/plain": [
       "<Figure size 900x360 with 1 Axes>"
      ]
     },
     "metadata": {
      "needs_background": "light"
     },
     "output_type": "display_data"
    }
   ],
   "source": [
    "axes = sns.factorplot('Petrol_tax','Paved_Highways',data=Fuel_cons, aspect = 2.5, )"
   ]
  },
  {
   "cell_type": "markdown",
   "metadata": {},
   "source": [
    "##### Dividing Data into Predictors and Target Variables"
   ]
  },
  {
   "cell_type": "code",
   "execution_count": 22,
   "metadata": {},
   "outputs": [],
   "source": [
    "predictor_var= Fuel_cons[['Petrol_tax','Average_income','Paved_Highways','Population_Driver_licence(%)']] #all columns except the last one\n",
    "target_var= Fuel_cons['Petrol_Consumption'] #only the last column"
   ]
  },
  {
   "cell_type": "code",
   "execution_count": 23,
   "metadata": {},
   "outputs": [
    {
     "data": {
      "text/plain": [
       "(48, 4)"
      ]
     },
     "execution_count": 23,
     "metadata": {},
     "output_type": "execute_result"
    }
   ],
   "source": [
    "predictor_var.shape"
   ]
  },
  {
   "cell_type": "code",
   "execution_count": 24,
   "metadata": {},
   "outputs": [
    {
     "data": {
      "text/plain": [
       "(48,)"
      ]
     },
     "execution_count": 24,
     "metadata": {},
     "output_type": "execute_result"
    }
   ],
   "source": [
    "target_var.shape"
   ]
  },
  {
   "cell_type": "markdown",
   "metadata": {},
   "source": [
    "### Plotting Decision Tree without using any external tool for Optimization such as Grid Search CV"
   ]
  },
  {
   "cell_type": "markdown",
   "metadata": {},
   "source": [
    "##### Importing Test Train Split from sklearn package"
   ]
  },
  {
   "cell_type": "code",
   "execution_count": 25,
   "metadata": {},
   "outputs": [],
   "source": [
    "from sklearn.model_selection import train_test_split"
   ]
  },
  {
   "cell_type": "markdown",
   "metadata": {},
   "source": [
    "**Now train_test_split will return 4 different parameters. We will name them:\\\n",
    "X_trainset, X_testset, y_trainset, y_testset**\n",
    "\n",
    "**The train_test_split will need the parameters:\\\n",
    "X, y, test_size=0.3, and random_state=123.**\n",
    "\n",
    "**The X and y are the arrays required before the split, the test_size represents the ratio of the testing dataset, and the random_state ensures that we obtain the same splits.**"
   ]
  },
  {
   "cell_type": "code",
   "execution_count": 26,
   "metadata": {},
   "outputs": [],
   "source": [
    "X_train, X_test, Y_train, Y_test = train_test_split(predictor_var,target_var, test_size=0.30, random_state=123)"
   ]
  },
  {
   "cell_type": "markdown",
   "metadata": {},
   "source": [
    "### Objective 1: Applied Decision Tree algorithm for regression."
   ]
  },
  {
   "cell_type": "markdown",
   "metadata": {},
   "source": [
    "Import Decision Tree Regressor and fit the model to the training data.\n",
    "\n"
   ]
  },
  {
   "cell_type": "code",
   "execution_count": 27,
   "metadata": {},
   "outputs": [],
   "source": [
    "from sklearn.tree import DecisionTreeRegressor"
   ]
  },
  {
   "cell_type": "code",
   "execution_count": 28,
   "metadata": {},
   "outputs": [],
   "source": [
    "tree = DecisionTreeRegressor(max_depth=4,max_features=4)"
   ]
  },
  {
   "cell_type": "markdown",
   "metadata": {},
   "source": [
    " ##### Inside of the regressor, specify criterion=\"mse\" so we can see the mse of each node."
   ]
  },
  {
   "cell_type": "code",
   "execution_count": 29,
   "metadata": {},
   "outputs": [
    {
     "data": {
      "text/plain": [
       "DecisionTreeRegressor(max_depth=4, max_features=4)"
      ]
     },
     "execution_count": 29,
     "metadata": {},
     "output_type": "execute_result"
    }
   ],
   "source": [
    "tree.fit(X_train, Y_train)"
   ]
  },
  {
   "cell_type": "markdown",
   "metadata": {},
   "source": [
    "##### Make predictions and evaluate output.\n",
    "\n"
   ]
  },
  {
   "cell_type": "code",
   "execution_count": 30,
   "metadata": {},
   "outputs": [],
   "source": [
    "predictions = tree.predict(X_test)"
   ]
  },
  {
   "cell_type": "code",
   "execution_count": 31,
   "metadata": {},
   "outputs": [
    {
     "data": {
      "text/html": [
       "<div>\n",
       "<style scoped>\n",
       "    .dataframe tbody tr th:only-of-type {\n",
       "        vertical-align: middle;\n",
       "    }\n",
       "\n",
       "    .dataframe tbody tr th {\n",
       "        vertical-align: top;\n",
       "    }\n",
       "\n",
       "    .dataframe thead th {\n",
       "        text-align: right;\n",
       "    }\n",
       "</style>\n",
       "<table border=\"1\" class=\"dataframe\">\n",
       "  <thead>\n",
       "    <tr style=\"text-align: right;\">\n",
       "      <th></th>\n",
       "      <th>Actual</th>\n",
       "      <th>Predicted</th>\n",
       "    </tr>\n",
       "  </thead>\n",
       "  <tbody>\n",
       "    <tr>\n",
       "      <th>18</th>\n",
       "      <td>865</td>\n",
       "      <td>709.0000</td>\n",
       "    </tr>\n",
       "    <tr>\n",
       "      <th>13</th>\n",
       "      <td>508</td>\n",
       "      <td>709.0000</td>\n",
       "    </tr>\n",
       "    <tr>\n",
       "      <th>26</th>\n",
       "      <td>577</td>\n",
       "      <td>585.0000</td>\n",
       "    </tr>\n",
       "    <tr>\n",
       "      <th>31</th>\n",
       "      <td>554</td>\n",
       "      <td>709.0000</td>\n",
       "    </tr>\n",
       "    <tr>\n",
       "      <th>10</th>\n",
       "      <td>580</td>\n",
       "      <td>428.0000</td>\n",
       "    </tr>\n",
       "  </tbody>\n",
       "</table>\n",
       "</div>"
      ],
      "text/plain": [
       "    Actual  Predicted\n",
       "18     865   709.0000\n",
       "13     508   709.0000\n",
       "26     577   585.0000\n",
       "31     554   709.0000\n",
       "10     580   428.0000"
      ]
     },
     "execution_count": 31,
     "metadata": {},
     "output_type": "execute_result"
    }
   ],
   "source": [
    "df=pd.DataFrame({'Actual':Y_test, 'Predicted':predictions})\n",
    "df.head(5)"
   ]
  },
  {
   "cell_type": "markdown",
   "metadata": {},
   "source": [
    "We see that the predictions are not accurate. Let's evaluate the prediction accuracy.\n",
    "\n",
    "##### Evaluating the Prediction Accuracy\n"
   ]
  },
  {
   "cell_type": "code",
   "execution_count": 32,
   "metadata": {},
   "outputs": [
    {
     "name": "stdout",
     "output_type": "stream",
     "text": [
      "Mean Absolute Error: 106.73333333333333\n",
      "Mean Squared Error: 18466.321333333333\n",
      "Root Mean Squared Error: 135.89084344919394\n",
      "r2_score: 0.20106927964521037\n"
     ]
    }
   ],
   "source": [
    "from sklearn import metrics\n",
    "print('Mean Absolute Error:', metrics.mean_absolute_error(Y_test,predictions))\n",
    "print('Mean Squared Error:', metrics.mean_squared_error(Y_test,predictions))\n",
    "print('Root Mean Squared Error:', np.sqrt(metrics.mean_squared_error(Y_test,predictions)))\n",
    "print('r2_score:', metrics.r2_score(Y_test,predictions))"
   ]
  },
  {
   "cell_type": "markdown",
   "metadata": {},
   "source": [
    "##### Looking after Feature Importances"
   ]
  },
  {
   "cell_type": "code",
   "execution_count": 33,
   "metadata": {},
   "outputs": [
    {
     "data": {
      "text/plain": [
       "Petrol_tax                     0.3401\n",
       "Paved_Highways                 0.2616\n",
       "Average_income                 0.2274\n",
       "Population_Driver_licence(%)   0.1709\n",
       "dtype: float64"
      ]
     },
     "execution_count": 33,
     "metadata": {},
     "output_type": "execute_result"
    }
   ],
   "source": [
    "tree.feature_importances_\n",
    "pd.Series(tree.feature_importances_,index=predictor_var.columns).sort_values(ascending=False)"
   ]
  },
  {
   "cell_type": "markdown",
   "metadata": {},
   "source": [
    "Importing Graphviz from Sklearn library to plot the decission tree"
   ]
  },
  {
   "cell_type": "code",
   "execution_count": 34,
   "metadata": {},
   "outputs": [],
   "source": [
    "from sklearn.tree import export_graphviz"
   ]
  },
  {
   "cell_type": "code",
   "execution_count": 35,
   "metadata": {},
   "outputs": [],
   "source": [
    "dot_data = export_graphviz(tree, filled=True, rounded=True, feature_names=predictor_var.columns, out_file=None)"
   ]
  },
  {
   "cell_type": "code",
   "execution_count": 36,
   "metadata": {},
   "outputs": [],
   "source": [
    "import graphviz"
   ]
  },
  {
   "cell_type": "code",
   "execution_count": 37,
   "metadata": {},
   "outputs": [
    {
     "data": {
      "image/svg+xml": [
       "<?xml version=\"1.0\" encoding=\"UTF-8\" standalone=\"no\"?>\n",
       "<!DOCTYPE svg PUBLIC \"-//W3C//DTD SVG 1.1//EN\"\n",
       " \"http://www.w3.org/Graphics/SVG/1.1/DTD/svg11.dtd\">\n",
       "<!-- Generated by graphviz version 2.42.3 (20191010.1750)\n",
       " -->\n",
       "<!-- Title: Tree Pages: 1 -->\n",
       "<svg width=\"1785pt\" height=\"477pt\"\n",
       " viewBox=\"0.00 0.00 1785.00 477.00\" xmlns=\"http://www.w3.org/2000/svg\" xmlns:xlink=\"http://www.w3.org/1999/xlink\">\n",
       "<g id=\"graph0\" class=\"graph\" transform=\"scale(1 1) rotate(0) translate(4 473)\">\n",
       "<title>Tree</title>\n",
       "<polygon fill=\"white\" stroke=\"transparent\" points=\"-4,4 -4,-473 1781,-473 1781,4 -4,4\"/>\n",
       "<!-- 0 -->\n",
       "<g id=\"node1\" class=\"node\">\n",
       "<title>0</title>\n",
       "<path fill=\"#f4cbad\" stroke=\"black\" d=\"M848,-469C848,-469 744,-469 744,-469 738,-469 732,-463 732,-457 732,-457 732,-413 732,-413 732,-407 738,-401 744,-401 744,-401 848,-401 848,-401 854,-401 860,-407 860,-413 860,-413 860,-457 860,-457 860,-463 854,-469 848,-469\"/>\n",
       "<text text-anchor=\"middle\" x=\"796\" y=\"-453.8\" font-family=\"Helvetica,sans-Serif\" font-size=\"14.00\">Petrol_tax &lt;= 7.25</text>\n",
       "<text text-anchor=\"middle\" x=\"796\" y=\"-438.8\" font-family=\"Helvetica,sans-Serif\" font-size=\"14.00\">mse = 7316.404</text>\n",
       "<text text-anchor=\"middle\" x=\"796\" y=\"-423.8\" font-family=\"Helvetica,sans-Serif\" font-size=\"14.00\">samples = 33</text>\n",
       "<text text-anchor=\"middle\" x=\"796\" y=\"-408.8\" font-family=\"Helvetica,sans-Serif\" font-size=\"14.00\">value = 575.333</text>\n",
       "</g>\n",
       "<!-- 1 -->\n",
       "<g id=\"node2\" class=\"node\">\n",
       "<title>1</title>\n",
       "<path fill=\"#f0b88f\" stroke=\"black\" d=\"M642,-365C642,-365 480,-365 480,-365 474,-365 468,-359 468,-353 468,-353 468,-309 468,-309 468,-303 474,-297 480,-297 480,-297 642,-297 642,-297 648,-297 654,-303 654,-309 654,-309 654,-353 654,-353 654,-359 648,-365 642,-365\"/>\n",
       "<text text-anchor=\"middle\" x=\"561\" y=\"-349.8\" font-family=\"Helvetica,sans-Serif\" font-size=\"14.00\">Paved_Highways &lt;= 6645.0</text>\n",
       "<text text-anchor=\"middle\" x=\"561\" y=\"-334.8\" font-family=\"Helvetica,sans-Serif\" font-size=\"14.00\">mse = 5313.716</text>\n",
       "<text text-anchor=\"middle\" x=\"561\" y=\"-319.8\" font-family=\"Helvetica,sans-Serif\" font-size=\"14.00\">samples = 15</text>\n",
       "<text text-anchor=\"middle\" x=\"561\" y=\"-304.8\" font-family=\"Helvetica,sans-Serif\" font-size=\"14.00\">value = 627.867</text>\n",
       "</g>\n",
       "<!-- 0&#45;&gt;1 -->\n",
       "<g id=\"edge1\" class=\"edge\">\n",
       "<title>0&#45;&gt;1</title>\n",
       "<path fill=\"none\" stroke=\"black\" d=\"M731.79,-406.13C705.53,-394.73 674.78,-381.39 646.66,-369.18\"/>\n",
       "<polygon fill=\"black\" stroke=\"black\" points=\"647.8,-365.86 637.24,-365.09 645.02,-372.28 647.8,-365.86\"/>\n",
       "<text text-anchor=\"middle\" x=\"646.41\" y=\"-384.64\" font-family=\"Helvetica,sans-Serif\" font-size=\"14.00\">True</text>\n",
       "</g>\n",
       "<!-- 14 -->\n",
       "<g id=\"node15\" class=\"node\">\n",
       "<title>14</title>\n",
       "<path fill=\"#f7dac5\" stroke=\"black\" d=\"M1113,-365C1113,-365 953,-365 953,-365 947,-365 941,-359 941,-353 941,-353 941,-309 941,-309 941,-303 947,-297 953,-297 953,-297 1113,-297 1113,-297 1119,-297 1125,-303 1125,-309 1125,-309 1125,-353 1125,-353 1125,-359 1119,-365 1113,-365\"/>\n",
       "<text text-anchor=\"middle\" x=\"1033\" y=\"-349.8\" font-family=\"Helvetica,sans-Serif\" font-size=\"14.00\">Average_income &lt;= 4370.0</text>\n",
       "<text text-anchor=\"middle\" x=\"1033\" y=\"-334.8\" font-family=\"Helvetica,sans-Serif\" font-size=\"14.00\">mse = 4769.025</text>\n",
       "<text text-anchor=\"middle\" x=\"1033\" y=\"-319.8\" font-family=\"Helvetica,sans-Serif\" font-size=\"14.00\">samples = 18</text>\n",
       "<text text-anchor=\"middle\" x=\"1033\" y=\"-304.8\" font-family=\"Helvetica,sans-Serif\" font-size=\"14.00\">value = 531.556</text>\n",
       "</g>\n",
       "<!-- 0&#45;&gt;14 -->\n",
       "<g id=\"edge14\" class=\"edge\">\n",
       "<title>0&#45;&gt;14</title>\n",
       "<path fill=\"none\" stroke=\"black\" d=\"M860.14,-406.4C886.85,-394.9 918.28,-381.37 946.96,-369.03\"/>\n",
       "<polygon fill=\"black\" stroke=\"black\" points=\"948.36,-372.24 956.17,-365.07 945.6,-365.81 948.36,-372.24\"/>\n",
       "<text text-anchor=\"middle\" x=\"946.92\" y=\"-384.59\" font-family=\"Helvetica,sans-Serif\" font-size=\"14.00\">False</text>\n",
       "</g>\n",
       "<!-- 2 -->\n",
       "<g id=\"node3\" class=\"node\">\n",
       "<title>2</title>\n",
       "<path fill=\"#eda774\" stroke=\"black\" d=\"M290,-261C290,-261 128,-261 128,-261 122,-261 116,-255 116,-249 116,-249 116,-205 116,-205 116,-199 122,-193 128,-193 128,-193 290,-193 290,-193 296,-193 302,-199 302,-205 302,-205 302,-249 302,-249 302,-255 296,-261 290,-261\"/>\n",
       "<text text-anchor=\"middle\" x=\"209\" y=\"-245.8\" font-family=\"Helvetica,sans-Serif\" font-size=\"14.00\">Paved_Highways &lt;= 2456.5</text>\n",
       "<text text-anchor=\"middle\" x=\"209\" y=\"-230.8\" font-family=\"Helvetica,sans-Serif\" font-size=\"14.00\">mse = 3930.0</text>\n",
       "<text text-anchor=\"middle\" x=\"209\" y=\"-215.8\" font-family=\"Helvetica,sans-Serif\" font-size=\"14.00\">samples = 7</text>\n",
       "<text text-anchor=\"middle\" x=\"209\" y=\"-200.8\" font-family=\"Helvetica,sans-Serif\" font-size=\"14.00\">value = 676.0</text>\n",
       "</g>\n",
       "<!-- 1&#45;&gt;2 -->\n",
       "<g id=\"edge2\" class=\"edge\">\n",
       "<title>1&#45;&gt;2</title>\n",
       "<path fill=\"none\" stroke=\"black\" d=\"M467.59,-302.93C419.67,-289.05 361.17,-272.1 311.95,-257.83\"/>\n",
       "<polygon fill=\"black\" stroke=\"black\" points=\"312.81,-254.44 302.23,-255.02 310.86,-261.16 312.81,-254.44\"/>\n",
       "</g>\n",
       "<!-- 7 -->\n",
       "<g id=\"node8\" class=\"node\">\n",
       "<title>7</title>\n",
       "<path fill=\"#f3c7a7\" stroke=\"black\" d=\"M646,-261C646,-261 476,-261 476,-261 470,-261 464,-255 464,-249 464,-249 464,-205 464,-205 464,-199 470,-193 476,-193 476,-193 646,-193 646,-193 652,-193 658,-199 658,-205 658,-205 658,-249 658,-249 658,-255 652,-261 646,-261\"/>\n",
       "<text text-anchor=\"middle\" x=\"561\" y=\"-245.8\" font-family=\"Helvetica,sans-Serif\" font-size=\"14.00\">Paved_Highways &lt;= 10067.0</text>\n",
       "<text text-anchor=\"middle\" x=\"561\" y=\"-230.8\" font-family=\"Helvetica,sans-Serif\" font-size=\"14.00\">mse = 2723.438</text>\n",
       "<text text-anchor=\"middle\" x=\"561\" y=\"-215.8\" font-family=\"Helvetica,sans-Serif\" font-size=\"14.00\">samples = 8</text>\n",
       "<text text-anchor=\"middle\" x=\"561\" y=\"-200.8\" font-family=\"Helvetica,sans-Serif\" font-size=\"14.00\">value = 585.75</text>\n",
       "</g>\n",
       "<!-- 1&#45;&gt;7 -->\n",
       "<g id=\"edge7\" class=\"edge\">\n",
       "<title>1&#45;&gt;7</title>\n",
       "<path fill=\"none\" stroke=\"black\" d=\"M561,-296.88C561,-288.78 561,-279.98 561,-271.47\"/>\n",
       "<polygon fill=\"black\" stroke=\"black\" points=\"564.5,-271.3 561,-261.3 557.5,-271.3 564.5,-271.3\"/>\n",
       "</g>\n",
       "<!-- 3 -->\n",
       "<g id=\"node4\" class=\"node\">\n",
       "<title>3</title>\n",
       "<path fill=\"#e58139\" stroke=\"black\" d=\"M86,-149.5C86,-149.5 12,-149.5 12,-149.5 6,-149.5 0,-143.5 0,-137.5 0,-137.5 0,-108.5 0,-108.5 0,-102.5 6,-96.5 12,-96.5 12,-96.5 86,-96.5 86,-96.5 92,-96.5 98,-102.5 98,-108.5 98,-108.5 98,-137.5 98,-137.5 98,-143.5 92,-149.5 86,-149.5\"/>\n",
       "<text text-anchor=\"middle\" x=\"49\" y=\"-134.3\" font-family=\"Helvetica,sans-Serif\" font-size=\"14.00\">mse = 0.0</text>\n",
       "<text text-anchor=\"middle\" x=\"49\" y=\"-119.3\" font-family=\"Helvetica,sans-Serif\" font-size=\"14.00\">samples = 1</text>\n",
       "<text text-anchor=\"middle\" x=\"49\" y=\"-104.3\" font-family=\"Helvetica,sans-Serif\" font-size=\"14.00\">value = 782.0</text>\n",
       "</g>\n",
       "<!-- 2&#45;&gt;3 -->\n",
       "<g id=\"edge3\" class=\"edge\">\n",
       "<title>2&#45;&gt;3</title>\n",
       "<path fill=\"none\" stroke=\"black\" d=\"M157.05,-192.88C137.9,-180.68 116.3,-166.9 97.47,-154.9\"/>\n",
       "<polygon fill=\"black\" stroke=\"black\" points=\"99.35,-151.94 89.03,-149.52 95.58,-157.85 99.35,-151.94\"/>\n",
       "</g>\n",
       "<!-- 4 -->\n",
       "<g id=\"node5\" class=\"node\">\n",
       "<title>4</title>\n",
       "<path fill=\"#eead7e\" stroke=\"black\" d=\"M290,-157C290,-157 128,-157 128,-157 122,-157 116,-151 116,-145 116,-145 116,-101 116,-101 116,-95 122,-89 128,-89 128,-89 290,-89 290,-89 296,-89 302,-95 302,-101 302,-101 302,-145 302,-145 302,-151 296,-157 290,-157\"/>\n",
       "<text text-anchor=\"middle\" x=\"209\" y=\"-141.8\" font-family=\"Helvetica,sans-Serif\" font-size=\"14.00\">Paved_Highways &lt;= 4404.0</text>\n",
       "<text text-anchor=\"middle\" x=\"209\" y=\"-126.8\" font-family=\"Helvetica,sans-Serif\" font-size=\"14.00\">mse = 2400.222</text>\n",
       "<text text-anchor=\"middle\" x=\"209\" y=\"-111.8\" font-family=\"Helvetica,sans-Serif\" font-size=\"14.00\">samples = 6</text>\n",
       "<text text-anchor=\"middle\" x=\"209\" y=\"-96.8\" font-family=\"Helvetica,sans-Serif\" font-size=\"14.00\">value = 658.333</text>\n",
       "</g>\n",
       "<!-- 2&#45;&gt;4 -->\n",
       "<g id=\"edge4\" class=\"edge\">\n",
       "<title>2&#45;&gt;4</title>\n",
       "<path fill=\"none\" stroke=\"black\" d=\"M209,-192.88C209,-184.78 209,-175.98 209,-167.47\"/>\n",
       "<polygon fill=\"black\" stroke=\"black\" points=\"212.5,-167.3 209,-157.3 205.5,-167.3 212.5,-167.3\"/>\n",
       "</g>\n",
       "<!-- 5 -->\n",
       "<g id=\"node6\" class=\"node\">\n",
       "<title>5</title>\n",
       "<path fill=\"#f0b68c\" stroke=\"black\" d=\"M143,-53C143,-53 67,-53 67,-53 61,-53 55,-47 55,-41 55,-41 55,-12 55,-12 55,-6 61,0 67,0 67,0 143,0 143,0 149,0 155,-6 155,-12 155,-12 155,-41 155,-41 155,-47 149,-53 143,-53\"/>\n",
       "<text text-anchor=\"middle\" x=\"105\" y=\"-37.8\" font-family=\"Helvetica,sans-Serif\" font-size=\"14.00\">mse = 1662.5</text>\n",
       "<text text-anchor=\"middle\" x=\"105\" y=\"-22.8\" font-family=\"Helvetica,sans-Serif\" font-size=\"14.00\">samples = 4</text>\n",
       "<text text-anchor=\"middle\" x=\"105\" y=\"-7.8\" font-family=\"Helvetica,sans-Serif\" font-size=\"14.00\">value = 633.0</text>\n",
       "</g>\n",
       "<!-- 4&#45;&gt;5 -->\n",
       "<g id=\"edge5\" class=\"edge\">\n",
       "<title>4&#45;&gt;5</title>\n",
       "<path fill=\"none\" stroke=\"black\" d=\"M172.63,-88.95C162.36,-79.62 151.19,-69.47 140.95,-60.16\"/>\n",
       "<polygon fill=\"black\" stroke=\"black\" points=\"143.08,-57.37 133.32,-53.24 138.37,-62.55 143.08,-57.37\"/>\n",
       "</g>\n",
       "<!-- 6 -->\n",
       "<g id=\"node7\" class=\"node\">\n",
       "<title>6</title>\n",
       "<path fill=\"#ea9b62\" stroke=\"black\" d=\"M259,-53C259,-53 185,-53 185,-53 179,-53 173,-47 173,-41 173,-41 173,-12 173,-12 173,-6 179,0 185,0 185,0 259,0 259,0 265,0 271,-6 271,-12 271,-12 271,-41 271,-41 271,-47 265,-53 259,-53\"/>\n",
       "<text text-anchor=\"middle\" x=\"222\" y=\"-37.8\" font-family=\"Helvetica,sans-Serif\" font-size=\"14.00\">mse = 25.0</text>\n",
       "<text text-anchor=\"middle\" x=\"222\" y=\"-22.8\" font-family=\"Helvetica,sans-Serif\" font-size=\"14.00\">samples = 2</text>\n",
       "<text text-anchor=\"middle\" x=\"222\" y=\"-7.8\" font-family=\"Helvetica,sans-Serif\" font-size=\"14.00\">value = 709.0</text>\n",
       "</g>\n",
       "<!-- 4&#45;&gt;6 -->\n",
       "<g id=\"edge6\" class=\"edge\">\n",
       "<title>4&#45;&gt;6</title>\n",
       "<path fill=\"none\" stroke=\"black\" d=\"M213.55,-88.95C214.69,-80.62 215.93,-71.65 217.09,-63.2\"/>\n",
       "<polygon fill=\"black\" stroke=\"black\" points=\"220.56,-63.62 218.46,-53.24 213.63,-62.67 220.56,-63.62\"/>\n",
       "</g>\n",
       "<!-- 8 -->\n",
       "<g id=\"node9\" class=\"node\">\n",
       "<title>8</title>\n",
       "<path fill=\"#f5cdb0\" stroke=\"black\" d=\"M561.5,-157C561.5,-157 332.5,-157 332.5,-157 326.5,-157 320.5,-151 320.5,-145 320.5,-145 320.5,-101 320.5,-101 320.5,-95 326.5,-89 332.5,-89 332.5,-89 561.5,-89 561.5,-89 567.5,-89 573.5,-95 573.5,-101 573.5,-101 573.5,-145 573.5,-145 573.5,-151 567.5,-157 561.5,-157\"/>\n",
       "<text text-anchor=\"middle\" x=\"447\" y=\"-141.8\" font-family=\"Helvetica,sans-Serif\" font-size=\"14.00\">Population_Driver_licence(%) &lt;= 0.635</text>\n",
       "<text text-anchor=\"middle\" x=\"447\" y=\"-126.8\" font-family=\"Helvetica,sans-Serif\" font-size=\"14.00\">mse = 2438.917</text>\n",
       "<text text-anchor=\"middle\" x=\"447\" y=\"-111.8\" font-family=\"Helvetica,sans-Serif\" font-size=\"14.00\">samples = 6</text>\n",
       "<text text-anchor=\"middle\" x=\"447\" y=\"-96.8\" font-family=\"Helvetica,sans-Serif\" font-size=\"14.00\">value = 568.5</text>\n",
       "</g>\n",
       "<!-- 7&#45;&gt;8 -->\n",
       "<g id=\"edge8\" class=\"edge\">\n",
       "<title>7&#45;&gt;8</title>\n",
       "<path fill=\"none\" stroke=\"black\" d=\"M523.99,-192.88C513.73,-183.71 502.49,-173.65 491.84,-164.12\"/>\n",
       "<polygon fill=\"black\" stroke=\"black\" points=\"494,-161.36 484.22,-157.3 489.34,-166.58 494,-161.36\"/>\n",
       "</g>\n",
       "<!-- 11 -->\n",
       "<g id=\"node12\" class=\"node\">\n",
       "<title>11</title>\n",
       "<path fill=\"#f0b48a\" stroke=\"black\" d=\"M764,-157C764,-157 604,-157 604,-157 598,-157 592,-151 592,-145 592,-145 592,-101 592,-101 592,-95 598,-89 604,-89 604,-89 764,-89 764,-89 770,-89 776,-95 776,-101 776,-101 776,-145 776,-145 776,-151 770,-157 764,-157\"/>\n",
       "<text text-anchor=\"middle\" x=\"684\" y=\"-141.8\" font-family=\"Helvetica,sans-Serif\" font-size=\"14.00\">Average_income &lt;= 4181.5</text>\n",
       "<text text-anchor=\"middle\" x=\"684\" y=\"-126.8\" font-family=\"Helvetica,sans-Serif\" font-size=\"14.00\">mse = 6.25</text>\n",
       "<text text-anchor=\"middle\" x=\"684\" y=\"-111.8\" font-family=\"Helvetica,sans-Serif\" font-size=\"14.00\">samples = 2</text>\n",
       "<text text-anchor=\"middle\" x=\"684\" y=\"-96.8\" font-family=\"Helvetica,sans-Serif\" font-size=\"14.00\">value = 637.5</text>\n",
       "</g>\n",
       "<!-- 7&#45;&gt;11 -->\n",
       "<g id=\"edge11\" class=\"edge\">\n",
       "<title>7&#45;&gt;11</title>\n",
       "<path fill=\"none\" stroke=\"black\" d=\"M600.93,-192.88C612.11,-183.62 624.36,-173.45 635.95,-163.85\"/>\n",
       "<polygon fill=\"black\" stroke=\"black\" points=\"638.38,-166.38 643.84,-157.3 633.91,-160.99 638.38,-166.38\"/>\n",
       "</g>\n",
       "<!-- 9 -->\n",
       "<g id=\"node10\" class=\"node\">\n",
       "<title>9</title>\n",
       "<path fill=\"#f6d3b9\" stroke=\"black\" d=\"M402.5,-53C402.5,-53 319.5,-53 319.5,-53 313.5,-53 307.5,-47 307.5,-41 307.5,-41 307.5,-12 307.5,-12 307.5,-6 313.5,0 319.5,0 319.5,0 402.5,0 402.5,0 408.5,0 414.5,-6 414.5,-12 414.5,-12 414.5,-41 414.5,-41 414.5,-47 408.5,-53 402.5,-53\"/>\n",
       "<text text-anchor=\"middle\" x=\"361\" y=\"-37.8\" font-family=\"Helvetica,sans-Serif\" font-size=\"14.00\">mse = 1371.44</text>\n",
       "<text text-anchor=\"middle\" x=\"361\" y=\"-22.8\" font-family=\"Helvetica,sans-Serif\" font-size=\"14.00\">samples = 5</text>\n",
       "<text text-anchor=\"middle\" x=\"361\" y=\"-7.8\" font-family=\"Helvetica,sans-Serif\" font-size=\"14.00\">value = 552.4</text>\n",
       "</g>\n",
       "<!-- 8&#45;&gt;9 -->\n",
       "<g id=\"edge9\" class=\"edge\">\n",
       "<title>8&#45;&gt;9</title>\n",
       "<path fill=\"none\" stroke=\"black\" d=\"M416.92,-88.95C408.6,-79.8 399.56,-69.87 391.23,-60.71\"/>\n",
       "<polygon fill=\"black\" stroke=\"black\" points=\"393.74,-58.28 384.42,-53.24 388.56,-62.99 393.74,-58.28\"/>\n",
       "</g>\n",
       "<!-- 10 -->\n",
       "<g id=\"node11\" class=\"node\">\n",
       "<title>10</title>\n",
       "<path fill=\"#efb083\" stroke=\"black\" d=\"M519,-53C519,-53 445,-53 445,-53 439,-53 433,-47 433,-41 433,-41 433,-12 433,-12 433,-6 439,0 445,0 445,0 519,0 519,0 525,0 531,-6 531,-12 531,-12 531,-41 531,-41 531,-47 525,-53 519,-53\"/>\n",
       "<text text-anchor=\"middle\" x=\"482\" y=\"-37.8\" font-family=\"Helvetica,sans-Serif\" font-size=\"14.00\">mse = 0.0</text>\n",
       "<text text-anchor=\"middle\" x=\"482\" y=\"-22.8\" font-family=\"Helvetica,sans-Serif\" font-size=\"14.00\">samples = 1</text>\n",
       "<text text-anchor=\"middle\" x=\"482\" y=\"-7.8\" font-family=\"Helvetica,sans-Serif\" font-size=\"14.00\">value = 649.0</text>\n",
       "</g>\n",
       "<!-- 8&#45;&gt;10 -->\n",
       "<g id=\"edge10\" class=\"edge\">\n",
       "<title>8&#45;&gt;10</title>\n",
       "<path fill=\"none\" stroke=\"black\" d=\"M459.24,-88.95C462.39,-80.44 465.79,-71.26 468.98,-62.65\"/>\n",
       "<polygon fill=\"black\" stroke=\"black\" points=\"472.28,-63.83 472.47,-53.24 465.71,-61.4 472.28,-63.83\"/>\n",
       "</g>\n",
       "<!-- 12 -->\n",
       "<g id=\"node13\" class=\"node\">\n",
       "<title>12</title>\n",
       "<path fill=\"#efb488\" stroke=\"black\" d=\"M644,-53C644,-53 570,-53 570,-53 564,-53 558,-47 558,-41 558,-41 558,-12 558,-12 558,-6 564,0 570,0 570,0 644,0 644,0 650,0 656,-6 656,-12 656,-12 656,-41 656,-41 656,-47 650,-53 644,-53\"/>\n",
       "<text text-anchor=\"middle\" x=\"607\" y=\"-37.8\" font-family=\"Helvetica,sans-Serif\" font-size=\"14.00\">mse = 0.0</text>\n",
       "<text text-anchor=\"middle\" x=\"607\" y=\"-22.8\" font-family=\"Helvetica,sans-Serif\" font-size=\"14.00\">samples = 1</text>\n",
       "<text text-anchor=\"middle\" x=\"607\" y=\"-7.8\" font-family=\"Helvetica,sans-Serif\" font-size=\"14.00\">value = 640.0</text>\n",
       "</g>\n",
       "<!-- 11&#45;&gt;12 -->\n",
       "<g id=\"edge12\" class=\"edge\">\n",
       "<title>11&#45;&gt;12</title>\n",
       "<path fill=\"none\" stroke=\"black\" d=\"M657.07,-88.95C649.76,-79.98 641.85,-70.27 634.51,-61.26\"/>\n",
       "<polygon fill=\"black\" stroke=\"black\" points=\"637,-58.78 627.97,-53.24 631.57,-63.2 637,-58.78\"/>\n",
       "</g>\n",
       "<!-- 13 -->\n",
       "<g id=\"node14\" class=\"node\">\n",
       "<title>13</title>\n",
       "<path fill=\"#f0b58b\" stroke=\"black\" d=\"M760,-53C760,-53 686,-53 686,-53 680,-53 674,-47 674,-41 674,-41 674,-12 674,-12 674,-6 680,0 686,0 686,0 760,0 760,0 766,0 772,-6 772,-12 772,-12 772,-41 772,-41 772,-47 766,-53 760,-53\"/>\n",
       "<text text-anchor=\"middle\" x=\"723\" y=\"-37.8\" font-family=\"Helvetica,sans-Serif\" font-size=\"14.00\">mse = 0.0</text>\n",
       "<text text-anchor=\"middle\" x=\"723\" y=\"-22.8\" font-family=\"Helvetica,sans-Serif\" font-size=\"14.00\">samples = 1</text>\n",
       "<text text-anchor=\"middle\" x=\"723\" y=\"-7.8\" font-family=\"Helvetica,sans-Serif\" font-size=\"14.00\">value = 635.0</text>\n",
       "</g>\n",
       "<!-- 11&#45;&gt;13 -->\n",
       "<g id=\"edge13\" class=\"edge\">\n",
       "<title>11&#45;&gt;13</title>\n",
       "<path fill=\"none\" stroke=\"black\" d=\"M697.64,-88.95C701.15,-80.44 704.94,-71.26 708.5,-62.65\"/>\n",
       "<polygon fill=\"black\" stroke=\"black\" points=\"711.8,-63.82 712.38,-53.24 705.33,-61.15 711.8,-63.82\"/>\n",
       "</g>\n",
       "<!-- 15 -->\n",
       "<g id=\"node16\" class=\"node\">\n",
       "<title>15</title>\n",
       "<path fill=\"#f4cbae\" stroke=\"black\" d=\"M1147.5,-261C1147.5,-261 918.5,-261 918.5,-261 912.5,-261 906.5,-255 906.5,-249 906.5,-249 906.5,-205 906.5,-205 906.5,-199 912.5,-193 918.5,-193 918.5,-193 1147.5,-193 1147.5,-193 1153.5,-193 1159.5,-199 1159.5,-205 1159.5,-205 1159.5,-249 1159.5,-249 1159.5,-255 1153.5,-261 1147.5,-261\"/>\n",
       "<text text-anchor=\"middle\" x=\"1033\" y=\"-245.8\" font-family=\"Helvetica,sans-Serif\" font-size=\"14.00\">Population_Driver_licence(%) &lt;= 0.546</text>\n",
       "<text text-anchor=\"middle\" x=\"1033\" y=\"-230.8\" font-family=\"Helvetica,sans-Serif\" font-size=\"14.00\">mse = 2178.727</text>\n",
       "<text text-anchor=\"middle\" x=\"1033\" y=\"-215.8\" font-family=\"Helvetica,sans-Serif\" font-size=\"14.00\">samples = 11</text>\n",
       "<text text-anchor=\"middle\" x=\"1033\" y=\"-200.8\" font-family=\"Helvetica,sans-Serif\" font-size=\"14.00\">value = 573.0</text>\n",
       "</g>\n",
       "<!-- 14&#45;&gt;15 -->\n",
       "<g id=\"edge15\" class=\"edge\">\n",
       "<title>14&#45;&gt;15</title>\n",
       "<path fill=\"none\" stroke=\"black\" d=\"M1033,-296.88C1033,-288.78 1033,-279.98 1033,-271.47\"/>\n",
       "<polygon fill=\"black\" stroke=\"black\" points=\"1036.5,-271.3 1033,-261.3 1029.5,-271.3 1036.5,-271.3\"/>\n",
       "</g>\n",
       "<!-- 22 -->\n",
       "<g id=\"node23\" class=\"node\">\n",
       "<title>22</title>\n",
       "<path fill=\"#fcf1ea\" stroke=\"black\" d=\"M1535.5,-261C1535.5,-261 1306.5,-261 1306.5,-261 1300.5,-261 1294.5,-255 1294.5,-249 1294.5,-249 1294.5,-205 1294.5,-205 1294.5,-199 1300.5,-193 1306.5,-193 1306.5,-193 1535.5,-193 1535.5,-193 1541.5,-193 1547.5,-199 1547.5,-205 1547.5,-205 1547.5,-249 1547.5,-249 1547.5,-255 1541.5,-261 1535.5,-261\"/>\n",
       "<text text-anchor=\"middle\" x=\"1421\" y=\"-245.8\" font-family=\"Helvetica,sans-Serif\" font-size=\"14.00\">Population_Driver_licence(%) &lt;= 0.562</text>\n",
       "<text text-anchor=\"middle\" x=\"1421\" y=\"-230.8\" font-family=\"Helvetica,sans-Serif\" font-size=\"14.00\">mse = 1898.816</text>\n",
       "<text text-anchor=\"middle\" x=\"1421\" y=\"-215.8\" font-family=\"Helvetica,sans-Serif\" font-size=\"14.00\">samples = 7</text>\n",
       "<text text-anchor=\"middle\" x=\"1421\" y=\"-200.8\" font-family=\"Helvetica,sans-Serif\" font-size=\"14.00\">value = 466.429</text>\n",
       "</g>\n",
       "<!-- 14&#45;&gt;22 -->\n",
       "<g id=\"edge22\" class=\"edge\">\n",
       "<title>14&#45;&gt;22</title>\n",
       "<path fill=\"none\" stroke=\"black\" d=\"M1125.44,-305.7C1173.24,-293.13 1232.48,-277.56 1285.35,-263.66\"/>\n",
       "<polygon fill=\"black\" stroke=\"black\" points=\"1286.37,-267.01 1295.15,-261.08 1284.59,-260.24 1286.37,-267.01\"/>\n",
       "</g>\n",
       "<!-- 16 -->\n",
       "<g id=\"node17\" class=\"node\">\n",
       "<title>16</title>\n",
       "<path fill=\"#f7d9c3\" stroke=\"black\" d=\"M1027.5,-157C1027.5,-157 806.5,-157 806.5,-157 800.5,-157 794.5,-151 794.5,-145 794.5,-145 794.5,-101 794.5,-101 794.5,-95 800.5,-89 806.5,-89 806.5,-89 1027.5,-89 1027.5,-89 1033.5,-89 1039.5,-95 1039.5,-101 1039.5,-101 1039.5,-145 1039.5,-145 1039.5,-151 1033.5,-157 1027.5,-157\"/>\n",
       "<text text-anchor=\"middle\" x=\"917\" y=\"-141.8\" font-family=\"Helvetica,sans-Serif\" font-size=\"14.00\">Population_Driver_licence(%) &lt;= 0.49</text>\n",
       "<text text-anchor=\"middle\" x=\"917\" y=\"-126.8\" font-family=\"Helvetica,sans-Serif\" font-size=\"14.00\">mse = 689.2</text>\n",
       "<text text-anchor=\"middle\" x=\"917\" y=\"-111.8\" font-family=\"Helvetica,sans-Serif\" font-size=\"14.00\">samples = 5</text>\n",
       "<text text-anchor=\"middle\" x=\"917\" y=\"-96.8\" font-family=\"Helvetica,sans-Serif\" font-size=\"14.00\">value = 535.0</text>\n",
       "</g>\n",
       "<!-- 15&#45;&gt;16 -->\n",
       "<g id=\"edge16\" class=\"edge\">\n",
       "<title>15&#45;&gt;16</title>\n",
       "<path fill=\"none\" stroke=\"black\" d=\"M995.34,-192.88C984.9,-183.71 973.46,-173.65 962.63,-164.12\"/>\n",
       "<polygon fill=\"black\" stroke=\"black\" points=\"964.69,-161.27 954.87,-157.3 960.07,-166.53 964.69,-161.27\"/>\n",
       "</g>\n",
       "<!-- 19 -->\n",
       "<g id=\"node20\" class=\"node\">\n",
       "<title>19</title>\n",
       "<path fill=\"#f2c09c\" stroke=\"black\" d=\"M1298.5,-157C1298.5,-157 1069.5,-157 1069.5,-157 1063.5,-157 1057.5,-151 1057.5,-145 1057.5,-145 1057.5,-101 1057.5,-101 1057.5,-95 1063.5,-89 1069.5,-89 1069.5,-89 1298.5,-89 1298.5,-89 1304.5,-89 1310.5,-95 1310.5,-101 1310.5,-101 1310.5,-145 1310.5,-145 1310.5,-151 1304.5,-157 1298.5,-157\"/>\n",
       "<text text-anchor=\"middle\" x=\"1184\" y=\"-141.8\" font-family=\"Helvetica,sans-Serif\" font-size=\"14.00\">Population_Driver_licence(%) &lt;= 0.621</text>\n",
       "<text text-anchor=\"middle\" x=\"1184\" y=\"-126.8\" font-family=\"Helvetica,sans-Serif\" font-size=\"14.00\">mse = 1213.889</text>\n",
       "<text text-anchor=\"middle\" x=\"1184\" y=\"-111.8\" font-family=\"Helvetica,sans-Serif\" font-size=\"14.00\">samples = 6</text>\n",
       "<text text-anchor=\"middle\" x=\"1184\" y=\"-96.8\" font-family=\"Helvetica,sans-Serif\" font-size=\"14.00\">value = 604.667</text>\n",
       "</g>\n",
       "<!-- 15&#45;&gt;19 -->\n",
       "<g id=\"edge19\" class=\"edge\">\n",
       "<title>15&#45;&gt;19</title>\n",
       "<path fill=\"none\" stroke=\"black\" d=\"M1082.03,-192.88C1096.21,-183.3 1111.82,-172.76 1126.47,-162.86\"/>\n",
       "<polygon fill=\"black\" stroke=\"black\" points=\"1128.63,-165.62 1134.96,-157.12 1124.72,-159.82 1128.63,-165.62\"/>\n",
       "</g>\n",
       "<!-- 17 -->\n",
       "<g id=\"node18\" class=\"node\">\n",
       "<title>17</title>\n",
       "<path fill=\"#fbeade\" stroke=\"black\" d=\"M881,-53C881,-53 807,-53 807,-53 801,-53 795,-47 795,-41 795,-41 795,-12 795,-12 795,-6 801,0 807,0 807,0 881,0 881,0 887,0 893,-6 893,-12 893,-12 893,-41 893,-41 893,-47 887,-53 881,-53\"/>\n",
       "<text text-anchor=\"middle\" x=\"844\" y=\"-37.8\" font-family=\"Helvetica,sans-Serif\" font-size=\"14.00\">mse = 0.0</text>\n",
       "<text text-anchor=\"middle\" x=\"844\" y=\"-22.8\" font-family=\"Helvetica,sans-Serif\" font-size=\"14.00\">samples = 1</text>\n",
       "<text text-anchor=\"middle\" x=\"844\" y=\"-7.8\" font-family=\"Helvetica,sans-Serif\" font-size=\"14.00\">value = 487.0</text>\n",
       "</g>\n",
       "<!-- 16&#45;&gt;17 -->\n",
       "<g id=\"edge17\" class=\"edge\">\n",
       "<title>16&#45;&gt;17</title>\n",
       "<path fill=\"none\" stroke=\"black\" d=\"M891.47,-88.95C884.54,-79.98 877.04,-70.27 870.08,-61.26\"/>\n",
       "<polygon fill=\"black\" stroke=\"black\" points=\"872.76,-59.01 863.88,-53.24 867.22,-63.29 872.76,-59.01\"/>\n",
       "</g>\n",
       "<!-- 18 -->\n",
       "<g id=\"node19\" class=\"node\">\n",
       "<title>18</title>\n",
       "<path fill=\"#f6d5bc\" stroke=\"black\" d=\"M997,-53C997,-53 923,-53 923,-53 917,-53 911,-47 911,-41 911,-41 911,-12 911,-12 911,-6 917,0 923,0 923,0 997,0 997,0 1003,0 1009,-6 1009,-12 1009,-12 1009,-41 1009,-41 1009,-47 1003,-53 997,-53\"/>\n",
       "<text text-anchor=\"middle\" x=\"960\" y=\"-37.8\" font-family=\"Helvetica,sans-Serif\" font-size=\"14.00\">mse = 141.5</text>\n",
       "<text text-anchor=\"middle\" x=\"960\" y=\"-22.8\" font-family=\"Helvetica,sans-Serif\" font-size=\"14.00\">samples = 4</text>\n",
       "<text text-anchor=\"middle\" x=\"960\" y=\"-7.8\" font-family=\"Helvetica,sans-Serif\" font-size=\"14.00\">value = 547.0</text>\n",
       "</g>\n",
       "<!-- 16&#45;&gt;18 -->\n",
       "<g id=\"edge18\" class=\"edge\">\n",
       "<title>16&#45;&gt;18</title>\n",
       "<path fill=\"none\" stroke=\"black\" d=\"M932.04,-88.95C935.95,-80.35 940.18,-71.06 944.13,-62.37\"/>\n",
       "<polygon fill=\"black\" stroke=\"black\" points=\"947.33,-63.79 948.29,-53.24 940.96,-60.89 947.33,-63.79\"/>\n",
       "</g>\n",
       "<!-- 20 -->\n",
       "<g id=\"node21\" class=\"node\">\n",
       "<title>20</title>\n",
       "<path fill=\"#f3c7a7\" stroke=\"black\" d=\"M1115,-53C1115,-53 1041,-53 1041,-53 1035,-53 1029,-47 1029,-41 1029,-41 1029,-12 1029,-12 1029,-6 1035,0 1041,0 1041,0 1115,0 1115,0 1121,0 1127,-6 1127,-12 1127,-12 1127,-41 1127,-41 1127,-47 1121,-53 1115,-53\"/>\n",
       "<text text-anchor=\"middle\" x=\"1078\" y=\"-37.8\" font-family=\"Helvetica,sans-Serif\" font-size=\"14.00\">mse = 652.5</text>\n",
       "<text text-anchor=\"middle\" x=\"1078\" y=\"-22.8\" font-family=\"Helvetica,sans-Serif\" font-size=\"14.00\">samples = 4</text>\n",
       "<text text-anchor=\"middle\" x=\"1078\" y=\"-7.8\" font-family=\"Helvetica,sans-Serif\" font-size=\"14.00\">value = 585.0</text>\n",
       "</g>\n",
       "<!-- 19&#45;&gt;20 -->\n",
       "<g id=\"edge20\" class=\"edge\">\n",
       "<title>19&#45;&gt;20</title>\n",
       "<path fill=\"none\" stroke=\"black\" d=\"M1146.93,-88.95C1136.46,-79.62 1125.08,-69.47 1114.64,-60.16\"/>\n",
       "<polygon fill=\"black\" stroke=\"black\" points=\"1116.66,-57.28 1106.87,-53.24 1112,-62.5 1116.66,-57.28\"/>\n",
       "</g>\n",
       "<!-- 21 -->\n",
       "<g id=\"node22\" class=\"node\">\n",
       "<title>21</title>\n",
       "<path fill=\"#efb286\" stroke=\"black\" d=\"M1231,-53C1231,-53 1157,-53 1157,-53 1151,-53 1145,-47 1145,-41 1145,-41 1145,-12 1145,-12 1145,-6 1151,0 1157,0 1157,0 1231,0 1231,0 1237,0 1243,-6 1243,-12 1243,-12 1243,-41 1243,-41 1243,-47 1237,-53 1231,-53\"/>\n",
       "<text text-anchor=\"middle\" x=\"1194\" y=\"-37.8\" font-family=\"Helvetica,sans-Serif\" font-size=\"14.00\">mse = 16.0</text>\n",
       "<text text-anchor=\"middle\" x=\"1194\" y=\"-22.8\" font-family=\"Helvetica,sans-Serif\" font-size=\"14.00\">samples = 2</text>\n",
       "<text text-anchor=\"middle\" x=\"1194\" y=\"-7.8\" font-family=\"Helvetica,sans-Serif\" font-size=\"14.00\">value = 644.0</text>\n",
       "</g>\n",
       "<!-- 19&#45;&gt;21 -->\n",
       "<g id=\"edge21\" class=\"edge\">\n",
       "<title>19&#45;&gt;21</title>\n",
       "<path fill=\"none\" stroke=\"black\" d=\"M1187.5,-88.95C1188.38,-80.62 1189.33,-71.65 1190.22,-63.2\"/>\n",
       "<polygon fill=\"black\" stroke=\"black\" points=\"1193.7,-63.55 1191.28,-53.24 1186.74,-62.81 1193.7,-63.55\"/>\n",
       "</g>\n",
       "<!-- 23 -->\n",
       "<g id=\"node24\" class=\"node\">\n",
       "<title>23</title>\n",
       "<path fill=\"#fefaf7\" stroke=\"black\" d=\"M1501,-157C1501,-157 1341,-157 1341,-157 1335,-157 1329,-151 1329,-145 1329,-145 1329,-101 1329,-101 1329,-95 1335,-89 1341,-89 1341,-89 1501,-89 1501,-89 1507,-89 1513,-95 1513,-101 1513,-101 1513,-145 1513,-145 1513,-151 1507,-157 1501,-157\"/>\n",
       "<text text-anchor=\"middle\" x=\"1421\" y=\"-141.8\" font-family=\"Helvetica,sans-Serif\" font-size=\"14.00\">Average_income &lt;= 4883.5</text>\n",
       "<text text-anchor=\"middle\" x=\"1421\" y=\"-126.8\" font-family=\"Helvetica,sans-Serif\" font-size=\"14.00\">mse = 647.2</text>\n",
       "<text text-anchor=\"middle\" x=\"1421\" y=\"-111.8\" font-family=\"Helvetica,sans-Serif\" font-size=\"14.00\">samples = 5</text>\n",
       "<text text-anchor=\"middle\" x=\"1421\" y=\"-96.8\" font-family=\"Helvetica,sans-Serif\" font-size=\"14.00\">value = 443.0</text>\n",
       "</g>\n",
       "<!-- 22&#45;&gt;23 -->\n",
       "<g id=\"edge23\" class=\"edge\">\n",
       "<title>22&#45;&gt;23</title>\n",
       "<path fill=\"none\" stroke=\"black\" d=\"M1421,-192.88C1421,-184.78 1421,-175.98 1421,-167.47\"/>\n",
       "<polygon fill=\"black\" stroke=\"black\" points=\"1424.5,-167.3 1421,-157.3 1417.5,-167.3 1424.5,-167.3\"/>\n",
       "</g>\n",
       "<!-- 26 -->\n",
       "<g id=\"node27\" class=\"node\">\n",
       "<title>26</title>\n",
       "<path fill=\"#f8dcc9\" stroke=\"black\" d=\"M1703,-157C1703,-157 1543,-157 1543,-157 1537,-157 1531,-151 1531,-145 1531,-145 1531,-101 1531,-101 1531,-95 1537,-89 1543,-89 1543,-89 1703,-89 1703,-89 1709,-89 1715,-95 1715,-101 1715,-101 1715,-145 1715,-145 1715,-151 1709,-157 1703,-157\"/>\n",
       "<text text-anchor=\"middle\" x=\"1623\" y=\"-141.8\" font-family=\"Helvetica,sans-Serif\" font-size=\"14.00\">Average_income &lt;= 4729.5</text>\n",
       "<text text-anchor=\"middle\" x=\"1623\" y=\"-126.8\" font-family=\"Helvetica,sans-Serif\" font-size=\"14.00\">mse = 225.0</text>\n",
       "<text text-anchor=\"middle\" x=\"1623\" y=\"-111.8\" font-family=\"Helvetica,sans-Serif\" font-size=\"14.00\">samples = 2</text>\n",
       "<text text-anchor=\"middle\" x=\"1623\" y=\"-96.8\" font-family=\"Helvetica,sans-Serif\" font-size=\"14.00\">value = 525.0</text>\n",
       "</g>\n",
       "<!-- 22&#45;&gt;26 -->\n",
       "<g id=\"edge26\" class=\"edge\">\n",
       "<title>22&#45;&gt;26</title>\n",
       "<path fill=\"none\" stroke=\"black\" d=\"M1486.58,-192.88C1506.26,-182.95 1528,-171.97 1548.23,-161.76\"/>\n",
       "<polygon fill=\"black\" stroke=\"black\" points=\"1550.05,-164.76 1557.4,-157.12 1546.9,-158.51 1550.05,-164.76\"/>\n",
       "</g>\n",
       "<!-- 24 -->\n",
       "<g id=\"node25\" class=\"node\">\n",
       "<title>24</title>\n",
       "<path fill=\"#ffffff\" stroke=\"black\" d=\"M1396.5,-53C1396.5,-53 1313.5,-53 1313.5,-53 1307.5,-53 1301.5,-47 1301.5,-41 1301.5,-41 1301.5,-12 1301.5,-12 1301.5,-6 1307.5,0 1313.5,0 1313.5,0 1396.5,0 1396.5,0 1402.5,0 1408.5,-6 1408.5,-12 1408.5,-12 1408.5,-41 1408.5,-41 1408.5,-47 1402.5,-53 1396.5,-53\"/>\n",
       "<text text-anchor=\"middle\" x=\"1355\" y=\"-37.8\" font-family=\"Helvetica,sans-Serif\" font-size=\"14.00\">mse = 514.667</text>\n",
       "<text text-anchor=\"middle\" x=\"1355\" y=\"-22.8\" font-family=\"Helvetica,sans-Serif\" font-size=\"14.00\">samples = 3</text>\n",
       "<text text-anchor=\"middle\" x=\"1355\" y=\"-7.8\" font-family=\"Helvetica,sans-Serif\" font-size=\"14.00\">value = 428.0</text>\n",
       "</g>\n",
       "<!-- 23&#45;&gt;24 -->\n",
       "<g id=\"edge24\" class=\"edge\">\n",
       "<title>23&#45;&gt;24</title>\n",
       "<path fill=\"none\" stroke=\"black\" d=\"M1397.92,-88.95C1391.72,-80.07 1385.01,-70.46 1378.77,-61.54\"/>\n",
       "<polygon fill=\"black\" stroke=\"black\" points=\"1381.57,-59.43 1372.97,-53.24 1375.83,-63.44 1381.57,-59.43\"/>\n",
       "</g>\n",
       "<!-- 25 -->\n",
       "<g id=\"node26\" class=\"node\">\n",
       "<title>25</title>\n",
       "<path fill=\"#fcf2ea\" stroke=\"black\" d=\"M1513,-53C1513,-53 1439,-53 1439,-53 1433,-53 1427,-47 1427,-41 1427,-41 1427,-12 1427,-12 1427,-6 1433,0 1439,0 1439,0 1513,0 1513,0 1519,0 1525,-6 1525,-12 1525,-12 1525,-41 1525,-41 1525,-47 1519,-53 1513,-53\"/>\n",
       "<text text-anchor=\"middle\" x=\"1476\" y=\"-37.8\" font-family=\"Helvetica,sans-Serif\" font-size=\"14.00\">mse = 2.25</text>\n",
       "<text text-anchor=\"middle\" x=\"1476\" y=\"-22.8\" font-family=\"Helvetica,sans-Serif\" font-size=\"14.00\">samples = 2</text>\n",
       "<text text-anchor=\"middle\" x=\"1476\" y=\"-7.8\" font-family=\"Helvetica,sans-Serif\" font-size=\"14.00\">value = 465.5</text>\n",
       "</g>\n",
       "<!-- 23&#45;&gt;25 -->\n",
       "<g id=\"edge25\" class=\"edge\">\n",
       "<title>23&#45;&gt;25</title>\n",
       "<path fill=\"none\" stroke=\"black\" d=\"M1440.24,-88.95C1445.29,-80.26 1450.76,-70.86 1455.87,-62.09\"/>\n",
       "<polygon fill=\"black\" stroke=\"black\" points=\"1459.02,-63.64 1461.02,-53.24 1452.97,-60.12 1459.02,-63.64\"/>\n",
       "</g>\n",
       "<!-- 27 -->\n",
       "<g id=\"node28\" class=\"node\">\n",
       "<title>27</title>\n",
       "<path fill=\"#f9e2d1\" stroke=\"black\" d=\"M1649,-53C1649,-53 1575,-53 1575,-53 1569,-53 1563,-47 1563,-41 1563,-41 1563,-12 1563,-12 1563,-6 1569,0 1575,0 1575,0 1649,0 1649,0 1655,0 1661,-6 1661,-12 1661,-12 1661,-41 1661,-41 1661,-47 1655,-53 1649,-53\"/>\n",
       "<text text-anchor=\"middle\" x=\"1612\" y=\"-37.8\" font-family=\"Helvetica,sans-Serif\" font-size=\"14.00\">mse = 0.0</text>\n",
       "<text text-anchor=\"middle\" x=\"1612\" y=\"-22.8\" font-family=\"Helvetica,sans-Serif\" font-size=\"14.00\">samples = 1</text>\n",
       "<text text-anchor=\"middle\" x=\"1612\" y=\"-7.8\" font-family=\"Helvetica,sans-Serif\" font-size=\"14.00\">value = 510.0</text>\n",
       "</g>\n",
       "<!-- 26&#45;&gt;27 -->\n",
       "<g id=\"edge27\" class=\"edge\">\n",
       "<title>26&#45;&gt;27</title>\n",
       "<path fill=\"none\" stroke=\"black\" d=\"M1619.15,-88.95C1618.18,-80.62 1617.14,-71.65 1616.16,-63.2\"/>\n",
       "<polygon fill=\"black\" stroke=\"black\" points=\"1619.63,-62.76 1615,-53.24 1612.68,-63.57 1619.63,-62.76\"/>\n",
       "</g>\n",
       "<!-- 28 -->\n",
       "<g id=\"node29\" class=\"node\">\n",
       "<title>28</title>\n",
       "<path fill=\"#f7d7c0\" stroke=\"black\" d=\"M1765,-53C1765,-53 1691,-53 1691,-53 1685,-53 1679,-47 1679,-41 1679,-41 1679,-12 1679,-12 1679,-6 1685,0 1691,0 1691,0 1765,0 1765,0 1771,0 1777,-6 1777,-12 1777,-12 1777,-41 1777,-41 1777,-47 1771,-53 1765,-53\"/>\n",
       "<text text-anchor=\"middle\" x=\"1728\" y=\"-37.8\" font-family=\"Helvetica,sans-Serif\" font-size=\"14.00\">mse = 0.0</text>\n",
       "<text text-anchor=\"middle\" x=\"1728\" y=\"-22.8\" font-family=\"Helvetica,sans-Serif\" font-size=\"14.00\">samples = 1</text>\n",
       "<text text-anchor=\"middle\" x=\"1728\" y=\"-7.8\" font-family=\"Helvetica,sans-Serif\" font-size=\"14.00\">value = 540.0</text>\n",
       "</g>\n",
       "<!-- 26&#45;&gt;28 -->\n",
       "<g id=\"edge28\" class=\"edge\">\n",
       "<title>26&#45;&gt;28</title>\n",
       "<path fill=\"none\" stroke=\"black\" d=\"M1659.72,-88.95C1670.09,-79.62 1681.36,-69.47 1691.71,-60.16\"/>\n",
       "<polygon fill=\"black\" stroke=\"black\" points=\"1694.31,-62.53 1699.4,-53.24 1689.63,-57.32 1694.31,-62.53\"/>\n",
       "</g>\n",
       "</g>\n",
       "</svg>\n"
      ],
      "text/plain": [
       "<graphviz.files.Source at 0x7f6d5d2a7790>"
      ]
     },
     "execution_count": 37,
     "metadata": {},
     "output_type": "execute_result"
    }
   ],
   "source": [
    "graphviz.Source(dot_data)"
   ]
  },
  {
   "cell_type": "markdown",
   "metadata": {},
   "source": [
    "The trees follow a top-down greedy approach known as recursive binary splitting. We call it as ‘top-down’ because it begins from the top of tree when all the observations are available in a single region and successively splits the predictor space into two new branches down the tree. It is known as ‘greedy’ because, the algorithm cares (looks for best variable available) about only the current split, and not about future splits which will lead to a better tree.\n",
    "\n",
    "Stopping Criteria: The most common stopping procedure is to use a minimum count on the number of training instances assigned to each leaf node. If the count is less than some minimum then the split is not accepted and the node is taken as a final leaf node.\n",
    "\n",
    "For this dataset Petrol_consumption is considered as the Target variable and rest are Predictors:\\\n",
    "\n",
    "**Q.  Why does Tree considered Petrol_tax as Root of Tree?**\\\n",
    "**Ans**The reason could be the feature_importances as from above codes we can see Petrol_tax has feature importance value compared to others. So, the Petrol_tax is selected as root of tree and other features as decision nodes.\n",
    "\n",
    "**The Split :** Purity of the node increases with respect to the target variable. Decision tree splits the nodes on all available variables and then selects the split which results in most homogeneous sub-nodes.\n",
    "\n",
    "##### Hyperparameters Considered:   max_depth=4,  max_features=4\n",
    "1. The tree uses Petrol Tax features with threshold value of 7.25 to initially divide the samples.\n",
    "2. We can see out of 33 Samples the root (Petrol Tax) split into two other decision nodes:\\\n",
    "   i.  Where Petrol_tax <= 7.25 then it uses another feature (Paved Highways) with total number of sample of 15 as decision node.\\\n",
    "   ii.Where Petrol_tax> 7.25 then it uses feature Average Income as another decision node with Sample count of 18.\n",
    "3. The tree considered Mean Squared Error(MSE) as the determining and decision making criteria. \n",
    "4. In the above plotted decision tree every node is a conditon how to split values. The least the MSE the better the result. \n",
    "5. We can see from decision nodes there are several boxes known as leaf nodes where MSE=0 and thus tree stops branching from that nodes.\n",
    "\n"
   ]
  },
  {
   "cell_type": "markdown",
   "metadata": {},
   "source": [
    "###  Using  Gridsearch & Cross Validation appropriately."
   ]
  },
  {
   "cell_type": "markdown",
   "metadata": {},
   "source": [
    "#### Now I will use grid search cv to find the optimal value of hyper_parameters to plot the Decision Tree"
   ]
  },
  {
   "cell_type": "code",
   "execution_count": 38,
   "metadata": {},
   "outputs": [],
   "source": [
    "from sklearn.model_selection import GridSearchCV"
   ]
  },
  {
   "cell_type": "code",
   "execution_count": 39,
   "metadata": {},
   "outputs": [],
   "source": [
    "param_grid = [{\"max_depth\":[3,4,5, None], \"max_features\":[3,4,5,6,7]}]"
   ]
  },
  {
   "cell_type": "code",
   "execution_count": 40,
   "metadata": {},
   "outputs": [],
   "source": [
    "gs = GridSearchCV(estimator=DecisionTreeRegressor(random_state=123),param_grid = param_grid,cv=10)"
   ]
  },
  {
   "cell_type": "code",
   "execution_count": 41,
   "metadata": {},
   "outputs": [
    {
     "data": {
      "text/plain": [
       "GridSearchCV(cv=10, estimator=DecisionTreeRegressor(random_state=123),\n",
       "             param_grid=[{'max_depth': [3, 4, 5, None],\n",
       "                          'max_features': [3, 4, 5, 6, 7]}])"
      ]
     },
     "execution_count": 41,
     "metadata": {},
     "output_type": "execute_result"
    }
   ],
   "source": [
    "gs.fit(X_train, Y_train)"
   ]
  },
  {
   "cell_type": "code",
   "execution_count": 42,
   "metadata": {},
   "outputs": [
    {
     "data": {
      "text/plain": [
       "[{'max_depth': 3, 'max_features': 3},\n",
       " {'max_depth': 3, 'max_features': 4},\n",
       " {'max_depth': 3, 'max_features': 5},\n",
       " {'max_depth': 3, 'max_features': 6},\n",
       " {'max_depth': 3, 'max_features': 7},\n",
       " {'max_depth': 4, 'max_features': 3},\n",
       " {'max_depth': 4, 'max_features': 4},\n",
       " {'max_depth': 4, 'max_features': 5},\n",
       " {'max_depth': 4, 'max_features': 6},\n",
       " {'max_depth': 4, 'max_features': 7},\n",
       " {'max_depth': 5, 'max_features': 3},\n",
       " {'max_depth': 5, 'max_features': 4},\n",
       " {'max_depth': 5, 'max_features': 5},\n",
       " {'max_depth': 5, 'max_features': 6},\n",
       " {'max_depth': 5, 'max_features': 7},\n",
       " {'max_depth': None, 'max_features': 3},\n",
       " {'max_depth': None, 'max_features': 4},\n",
       " {'max_depth': None, 'max_features': 5},\n",
       " {'max_depth': None, 'max_features': 6},\n",
       " {'max_depth': None, 'max_features': 7}]"
      ]
     },
     "execution_count": 42,
     "metadata": {},
     "output_type": "execute_result"
    }
   ],
   "source": [
    "gs.cv_results_['params']"
   ]
  },
  {
   "cell_type": "code",
   "execution_count": 43,
   "metadata": {},
   "outputs": [
    {
     "data": {
      "text/plain": [
       "array([ 3,  1, 18, 17, 16,  2,  6, 15, 14, 13,  4,  7, 12, 11, 10,  5,  8,\n",
       "        9, 19, 20], dtype=int32)"
      ]
     },
     "execution_count": 43,
     "metadata": {},
     "output_type": "execute_result"
    }
   ],
   "source": [
    "gs.cv_results_['rank_test_score']"
   ]
  },
  {
   "cell_type": "code",
   "execution_count": 44,
   "metadata": {},
   "outputs": [
    {
     "data": {
      "text/plain": [
       "DecisionTreeRegressor(max_depth=3, max_features=4, random_state=123)"
      ]
     },
     "execution_count": 44,
     "metadata": {},
     "output_type": "execute_result"
    }
   ],
   "source": [
    "gs.best_estimator_"
   ]
  },
  {
   "cell_type": "code",
   "execution_count": 45,
   "metadata": {},
   "outputs": [],
   "source": [
    "tree = DecisionTreeRegressor(max_depth=3,max_features=4)"
   ]
  },
  {
   "cell_type": "code",
   "execution_count": 46,
   "metadata": {},
   "outputs": [
    {
     "data": {
      "text/plain": [
       "DecisionTreeRegressor(max_depth=3, max_features=4)"
      ]
     },
     "execution_count": 46,
     "metadata": {},
     "output_type": "execute_result"
    }
   ],
   "source": [
    "tree.fit(X_train, Y_train)"
   ]
  },
  {
   "cell_type": "code",
   "execution_count": 47,
   "metadata": {},
   "outputs": [],
   "source": [
    "predictions = tree.predict(X_test)"
   ]
  },
  {
   "cell_type": "code",
   "execution_count": 48,
   "metadata": {},
   "outputs": [
    {
     "data": {
      "text/html": [
       "<div>\n",
       "<style scoped>\n",
       "    .dataframe tbody tr th:only-of-type {\n",
       "        vertical-align: middle;\n",
       "    }\n",
       "\n",
       "    .dataframe tbody tr th {\n",
       "        vertical-align: top;\n",
       "    }\n",
       "\n",
       "    .dataframe thead th {\n",
       "        text-align: right;\n",
       "    }\n",
       "</style>\n",
       "<table border=\"1\" class=\"dataframe\">\n",
       "  <thead>\n",
       "    <tr style=\"text-align: right;\">\n",
       "      <th></th>\n",
       "      <th>Actual</th>\n",
       "      <th>Predicted</th>\n",
       "    </tr>\n",
       "  </thead>\n",
       "  <tbody>\n",
       "    <tr>\n",
       "      <th>18</th>\n",
       "      <td>865</td>\n",
       "      <td>658.3333</td>\n",
       "    </tr>\n",
       "    <tr>\n",
       "      <th>13</th>\n",
       "      <td>508</td>\n",
       "      <td>658.3333</td>\n",
       "    </tr>\n",
       "    <tr>\n",
       "      <th>26</th>\n",
       "      <td>577</td>\n",
       "      <td>604.6667</td>\n",
       "    </tr>\n",
       "    <tr>\n",
       "      <th>31</th>\n",
       "      <td>554</td>\n",
       "      <td>658.3333</td>\n",
       "    </tr>\n",
       "    <tr>\n",
       "      <th>10</th>\n",
       "      <td>580</td>\n",
       "      <td>443.0000</td>\n",
       "    </tr>\n",
       "  </tbody>\n",
       "</table>\n",
       "</div>"
      ],
      "text/plain": [
       "    Actual  Predicted\n",
       "18     865   658.3333\n",
       "13     508   658.3333\n",
       "26     577   604.6667\n",
       "31     554   658.3333\n",
       "10     580   443.0000"
      ]
     },
     "execution_count": 48,
     "metadata": {},
     "output_type": "execute_result"
    }
   ],
   "source": [
    "df=pd.DataFrame({'Actual':Y_test, 'Predicted':predictions})\n",
    "df.head(5) #Check the top 5 predictions and actual values."
   ]
  },
  {
   "cell_type": "code",
   "execution_count": 49,
   "metadata": {},
   "outputs": [
    {
     "name": "stdout",
     "output_type": "stream",
     "text": [
      "Mean Absolute Error: 96.6\n",
      "Mean Squared Error: 15143.737037037035\n",
      "Root Mean Squared Error: 123.05989207307569\n",
      "r2_score: 0.3448182493161691\n"
     ]
    }
   ],
   "source": [
    "from sklearn import metrics\n",
    "print('Mean Absolute Error:', metrics.mean_absolute_error(Y_test,predictions))\n",
    "print('Mean Squared Error:', metrics.mean_squared_error(Y_test,predictions))\n",
    "print('Root Mean Squared Error:', np.sqrt(metrics.mean_squared_error(Y_test,predictions)))\n",
    "print('r2_score:', metrics.r2_score(Y_test,predictions))"
   ]
  },
  {
   "cell_type": "markdown",
   "metadata": {},
   "source": [
    "We use graphviz to plot the dot data as a decision tree."
   ]
  },
  {
   "cell_type": "code",
   "execution_count": 50,
   "metadata": {},
   "outputs": [],
   "source": [
    "from sklearn.tree import export_graphviz"
   ]
  },
  {
   "cell_type": "code",
   "execution_count": 51,
   "metadata": {},
   "outputs": [],
   "source": [
    "dot_data = export_graphviz(tree, filled=True, rounded=True, feature_names=predictor_var.columns, out_file=None)"
   ]
  },
  {
   "cell_type": "code",
   "execution_count": 52,
   "metadata": {},
   "outputs": [],
   "source": [
    "import graphviz"
   ]
  },
  {
   "cell_type": "code",
   "execution_count": 53,
   "metadata": {},
   "outputs": [
    {
     "data": {
      "image/svg+xml": [
       "<?xml version=\"1.0\" encoding=\"UTF-8\" standalone=\"no\"?>\n",
       "<!DOCTYPE svg PUBLIC \"-//W3C//DTD SVG 1.1//EN\"\n",
       " \"http://www.w3.org/Graphics/SVG/1.1/DTD/svg11.dtd\">\n",
       "<!-- Generated by graphviz version 2.42.3 (20191010.1750)\n",
       " -->\n",
       "<!-- Title: Tree Pages: 1 -->\n",
       "<svg width=\"1034pt\" height=\"373pt\"\n",
       " viewBox=\"0.00 0.00 1034.00 373.00\" xmlns=\"http://www.w3.org/2000/svg\" xmlns:xlink=\"http://www.w3.org/1999/xlink\">\n",
       "<g id=\"graph0\" class=\"graph\" transform=\"scale(1 1) rotate(0) translate(4 369)\">\n",
       "<title>Tree</title>\n",
       "<polygon fill=\"white\" stroke=\"transparent\" points=\"-4,4 -4,-369 1030,-369 1030,4 -4,4\"/>\n",
       "<!-- 0 -->\n",
       "<g id=\"node1\" class=\"node\">\n",
       "<title>0</title>\n",
       "<path fill=\"#f5ceb2\" stroke=\"black\" d=\"M536,-365C536,-365 432,-365 432,-365 426,-365 420,-359 420,-353 420,-353 420,-309 420,-309 420,-303 426,-297 432,-297 432,-297 536,-297 536,-297 542,-297 548,-303 548,-309 548,-309 548,-353 548,-353 548,-359 542,-365 536,-365\"/>\n",
       "<text text-anchor=\"middle\" x=\"484\" y=\"-349.8\" font-family=\"Helvetica,sans-Serif\" font-size=\"14.00\">Petrol_tax &lt;= 7.25</text>\n",
       "<text text-anchor=\"middle\" x=\"484\" y=\"-334.8\" font-family=\"Helvetica,sans-Serif\" font-size=\"14.00\">mse = 7316.404</text>\n",
       "<text text-anchor=\"middle\" x=\"484\" y=\"-319.8\" font-family=\"Helvetica,sans-Serif\" font-size=\"14.00\">samples = 33</text>\n",
       "<text text-anchor=\"middle\" x=\"484\" y=\"-304.8\" font-family=\"Helvetica,sans-Serif\" font-size=\"14.00\">value = 575.333</text>\n",
       "</g>\n",
       "<!-- 1 -->\n",
       "<g id=\"node2\" class=\"node\">\n",
       "<title>1</title>\n",
       "<path fill=\"#f1ba93\" stroke=\"black\" d=\"M444,-261C444,-261 282,-261 282,-261 276,-261 270,-255 270,-249 270,-249 270,-205 270,-205 270,-199 276,-193 282,-193 282,-193 444,-193 444,-193 450,-193 456,-199 456,-205 456,-205 456,-249 456,-249 456,-255 450,-261 444,-261\"/>\n",
       "<text text-anchor=\"middle\" x=\"363\" y=\"-245.8\" font-family=\"Helvetica,sans-Serif\" font-size=\"14.00\">Paved_Highways &lt;= 6645.0</text>\n",
       "<text text-anchor=\"middle\" x=\"363\" y=\"-230.8\" font-family=\"Helvetica,sans-Serif\" font-size=\"14.00\">mse = 5313.716</text>\n",
       "<text text-anchor=\"middle\" x=\"363\" y=\"-215.8\" font-family=\"Helvetica,sans-Serif\" font-size=\"14.00\">samples = 15</text>\n",
       "<text text-anchor=\"middle\" x=\"363\" y=\"-200.8\" font-family=\"Helvetica,sans-Serif\" font-size=\"14.00\">value = 627.867</text>\n",
       "</g>\n",
       "<!-- 0&#45;&gt;1 -->\n",
       "<g id=\"edge1\" class=\"edge\">\n",
       "<title>0&#45;&gt;1</title>\n",
       "<path fill=\"none\" stroke=\"black\" d=\"M444.71,-296.88C433.73,-287.62 421.67,-277.45 410.27,-267.85\"/>\n",
       "<polygon fill=\"black\" stroke=\"black\" points=\"412.4,-265.07 402.5,-261.3 407.89,-270.42 412.4,-265.07\"/>\n",
       "<text text-anchor=\"middle\" x=\"404.62\" y=\"-282.51\" font-family=\"Helvetica,sans-Serif\" font-size=\"14.00\">True</text>\n",
       "</g>\n",
       "<!-- 8 -->\n",
       "<g id=\"node9\" class=\"node\">\n",
       "<title>8</title>\n",
       "<path fill=\"#f8decb\" stroke=\"black\" d=\"M685,-261C685,-261 525,-261 525,-261 519,-261 513,-255 513,-249 513,-249 513,-205 513,-205 513,-199 519,-193 525,-193 525,-193 685,-193 685,-193 691,-193 697,-199 697,-205 697,-205 697,-249 697,-249 697,-255 691,-261 685,-261\"/>\n",
       "<text text-anchor=\"middle\" x=\"605\" y=\"-245.8\" font-family=\"Helvetica,sans-Serif\" font-size=\"14.00\">Average_income &lt;= 4370.0</text>\n",
       "<text text-anchor=\"middle\" x=\"605\" y=\"-230.8\" font-family=\"Helvetica,sans-Serif\" font-size=\"14.00\">mse = 4769.025</text>\n",
       "<text text-anchor=\"middle\" x=\"605\" y=\"-215.8\" font-family=\"Helvetica,sans-Serif\" font-size=\"14.00\">samples = 18</text>\n",
       "<text text-anchor=\"middle\" x=\"605\" y=\"-200.8\" font-family=\"Helvetica,sans-Serif\" font-size=\"14.00\">value = 531.556</text>\n",
       "</g>\n",
       "<!-- 0&#45;&gt;8 -->\n",
       "<g id=\"edge8\" class=\"edge\">\n",
       "<title>0&#45;&gt;8</title>\n",
       "<path fill=\"none\" stroke=\"black\" d=\"M523.29,-296.88C534.27,-287.62 546.33,-277.45 557.73,-267.85\"/>\n",
       "<polygon fill=\"black\" stroke=\"black\" points=\"560.11,-270.42 565.5,-261.3 555.6,-265.07 560.11,-270.42\"/>\n",
       "<text text-anchor=\"middle\" x=\"563.38\" y=\"-282.51\" font-family=\"Helvetica,sans-Serif\" font-size=\"14.00\">False</text>\n",
       "</g>\n",
       "<!-- 2 -->\n",
       "<g id=\"node3\" class=\"node\">\n",
       "<title>2</title>\n",
       "<path fill=\"#eda877\" stroke=\"black\" d=\"M236,-157C236,-157 74,-157 74,-157 68,-157 62,-151 62,-145 62,-145 62,-101 62,-101 62,-95 68,-89 74,-89 74,-89 236,-89 236,-89 242,-89 248,-95 248,-101 248,-101 248,-145 248,-145 248,-151 242,-157 236,-157\"/>\n",
       "<text text-anchor=\"middle\" x=\"155\" y=\"-141.8\" font-family=\"Helvetica,sans-Serif\" font-size=\"14.00\">Paved_Highways &lt;= 2456.5</text>\n",
       "<text text-anchor=\"middle\" x=\"155\" y=\"-126.8\" font-family=\"Helvetica,sans-Serif\" font-size=\"14.00\">mse = 3930.0</text>\n",
       "<text text-anchor=\"middle\" x=\"155\" y=\"-111.8\" font-family=\"Helvetica,sans-Serif\" font-size=\"14.00\">samples = 7</text>\n",
       "<text text-anchor=\"middle\" x=\"155\" y=\"-96.8\" font-family=\"Helvetica,sans-Serif\" font-size=\"14.00\">value = 676.0</text>\n",
       "</g>\n",
       "<!-- 1&#45;&gt;2 -->\n",
       "<g id=\"edge2\" class=\"edge\">\n",
       "<title>1&#45;&gt;2</title>\n",
       "<path fill=\"none\" stroke=\"black\" d=\"M295.47,-192.88C275.11,-182.9 252.62,-171.87 231.71,-161.62\"/>\n",
       "<polygon fill=\"black\" stroke=\"black\" points=\"233.07,-158.39 222.55,-157.12 229.99,-164.67 233.07,-158.39\"/>\n",
       "</g>\n",
       "<!-- 5 -->\n",
       "<g id=\"node6\" class=\"node\">\n",
       "<title>5</title>\n",
       "<path fill=\"#f4caac\" stroke=\"black\" d=\"M448,-157C448,-157 278,-157 278,-157 272,-157 266,-151 266,-145 266,-145 266,-101 266,-101 266,-95 272,-89 278,-89 278,-89 448,-89 448,-89 454,-89 460,-95 460,-101 460,-101 460,-145 460,-145 460,-151 454,-157 448,-157\"/>\n",
       "<text text-anchor=\"middle\" x=\"363\" y=\"-141.8\" font-family=\"Helvetica,sans-Serif\" font-size=\"14.00\">Paved_Highways &lt;= 10067.0</text>\n",
       "<text text-anchor=\"middle\" x=\"363\" y=\"-126.8\" font-family=\"Helvetica,sans-Serif\" font-size=\"14.00\">mse = 2723.438</text>\n",
       "<text text-anchor=\"middle\" x=\"363\" y=\"-111.8\" font-family=\"Helvetica,sans-Serif\" font-size=\"14.00\">samples = 8</text>\n",
       "<text text-anchor=\"middle\" x=\"363\" y=\"-96.8\" font-family=\"Helvetica,sans-Serif\" font-size=\"14.00\">value = 585.75</text>\n",
       "</g>\n",
       "<!-- 1&#45;&gt;5 -->\n",
       "<g id=\"edge5\" class=\"edge\">\n",
       "<title>1&#45;&gt;5</title>\n",
       "<path fill=\"none\" stroke=\"black\" d=\"M363,-192.88C363,-184.78 363,-175.98 363,-167.47\"/>\n",
       "<polygon fill=\"black\" stroke=\"black\" points=\"366.5,-167.3 363,-157.3 359.5,-167.3 366.5,-167.3\"/>\n",
       "</g>\n",
       "<!-- 3 -->\n",
       "<g id=\"node4\" class=\"node\">\n",
       "<title>3</title>\n",
       "<path fill=\"#e58139\" stroke=\"black\" d=\"M86,-53C86,-53 12,-53 12,-53 6,-53 0,-47 0,-41 0,-41 0,-12 0,-12 0,-6 6,0 12,0 12,0 86,0 86,0 92,0 98,-6 98,-12 98,-12 98,-41 98,-41 98,-47 92,-53 86,-53\"/>\n",
       "<text text-anchor=\"middle\" x=\"49\" y=\"-37.8\" font-family=\"Helvetica,sans-Serif\" font-size=\"14.00\">mse = 0.0</text>\n",
       "<text text-anchor=\"middle\" x=\"49\" y=\"-22.8\" font-family=\"Helvetica,sans-Serif\" font-size=\"14.00\">samples = 1</text>\n",
       "<text text-anchor=\"middle\" x=\"49\" y=\"-7.8\" font-family=\"Helvetica,sans-Serif\" font-size=\"14.00\">value = 782.0</text>\n",
       "</g>\n",
       "<!-- 2&#45;&gt;3 -->\n",
       "<g id=\"edge3\" class=\"edge\">\n",
       "<title>2&#45;&gt;3</title>\n",
       "<path fill=\"none\" stroke=\"black\" d=\"M117.93,-88.95C107.46,-79.62 96.08,-69.47 85.64,-60.16\"/>\n",
       "<polygon fill=\"black\" stroke=\"black\" points=\"87.66,-57.28 77.87,-53.24 83,-62.5 87.66,-57.28\"/>\n",
       "</g>\n",
       "<!-- 4 -->\n",
       "<g id=\"node5\" class=\"node\">\n",
       "<title>4</title>\n",
       "<path fill=\"#eeaf81\" stroke=\"black\" d=\"M219.5,-53C219.5,-53 128.5,-53 128.5,-53 122.5,-53 116.5,-47 116.5,-41 116.5,-41 116.5,-12 116.5,-12 116.5,-6 122.5,0 128.5,0 128.5,0 219.5,0 219.5,0 225.5,0 231.5,-6 231.5,-12 231.5,-12 231.5,-41 231.5,-41 231.5,-47 225.5,-53 219.5,-53\"/>\n",
       "<text text-anchor=\"middle\" x=\"174\" y=\"-37.8\" font-family=\"Helvetica,sans-Serif\" font-size=\"14.00\">mse = 2400.222</text>\n",
       "<text text-anchor=\"middle\" x=\"174\" y=\"-22.8\" font-family=\"Helvetica,sans-Serif\" font-size=\"14.00\">samples = 6</text>\n",
       "<text text-anchor=\"middle\" x=\"174\" y=\"-7.8\" font-family=\"Helvetica,sans-Serif\" font-size=\"14.00\">value = 658.333</text>\n",
       "</g>\n",
       "<!-- 2&#45;&gt;4 -->\n",
       "<g id=\"edge4\" class=\"edge\">\n",
       "<title>2&#45;&gt;4</title>\n",
       "<path fill=\"none\" stroke=\"black\" d=\"M161.65,-88.95C163.32,-80.62 165.12,-71.65 166.82,-63.2\"/>\n",
       "<polygon fill=\"black\" stroke=\"black\" points=\"170.29,-63.73 168.83,-53.24 163.42,-62.35 170.29,-63.73\"/>\n",
       "</g>\n",
       "<!-- 6 -->\n",
       "<g id=\"node7\" class=\"node\">\n",
       "<title>6</title>\n",
       "<path fill=\"#f5d0b6\" stroke=\"black\" d=\"M389.5,-53C389.5,-53 298.5,-53 298.5,-53 292.5,-53 286.5,-47 286.5,-41 286.5,-41 286.5,-12 286.5,-12 286.5,-6 292.5,0 298.5,0 298.5,0 389.5,0 389.5,0 395.5,0 401.5,-6 401.5,-12 401.5,-12 401.5,-41 401.5,-41 401.5,-47 395.5,-53 389.5,-53\"/>\n",
       "<text text-anchor=\"middle\" x=\"344\" y=\"-37.8\" font-family=\"Helvetica,sans-Serif\" font-size=\"14.00\">mse = 2438.917</text>\n",
       "<text text-anchor=\"middle\" x=\"344\" y=\"-22.8\" font-family=\"Helvetica,sans-Serif\" font-size=\"14.00\">samples = 6</text>\n",
       "<text text-anchor=\"middle\" x=\"344\" y=\"-7.8\" font-family=\"Helvetica,sans-Serif\" font-size=\"14.00\">value = 568.5</text>\n",
       "</g>\n",
       "<!-- 5&#45;&gt;6 -->\n",
       "<g id=\"edge6\" class=\"edge\">\n",
       "<title>5&#45;&gt;6</title>\n",
       "<path fill=\"none\" stroke=\"black\" d=\"M356.35,-88.95C354.68,-80.62 352.88,-71.65 351.18,-63.2\"/>\n",
       "<polygon fill=\"black\" stroke=\"black\" points=\"354.58,-62.35 349.17,-53.24 347.71,-63.73 354.58,-62.35\"/>\n",
       "</g>\n",
       "<!-- 7 -->\n",
       "<g id=\"node8\" class=\"node\">\n",
       "<title>7</title>\n",
       "<path fill=\"#f0b78d\" stroke=\"black\" d=\"M506,-53C506,-53 432,-53 432,-53 426,-53 420,-47 420,-41 420,-41 420,-12 420,-12 420,-6 426,0 432,0 432,0 506,0 506,0 512,0 518,-6 518,-12 518,-12 518,-41 518,-41 518,-47 512,-53 506,-53\"/>\n",
       "<text text-anchor=\"middle\" x=\"469\" y=\"-37.8\" font-family=\"Helvetica,sans-Serif\" font-size=\"14.00\">mse = 6.25</text>\n",
       "<text text-anchor=\"middle\" x=\"469\" y=\"-22.8\" font-family=\"Helvetica,sans-Serif\" font-size=\"14.00\">samples = 2</text>\n",
       "<text text-anchor=\"middle\" x=\"469\" y=\"-7.8\" font-family=\"Helvetica,sans-Serif\" font-size=\"14.00\">value = 637.5</text>\n",
       "</g>\n",
       "<!-- 5&#45;&gt;7 -->\n",
       "<g id=\"edge7\" class=\"edge\">\n",
       "<title>5&#45;&gt;7</title>\n",
       "<path fill=\"none\" stroke=\"black\" d=\"M400.07,-88.95C410.54,-79.62 421.92,-69.47 432.36,-60.16\"/>\n",
       "<polygon fill=\"black\" stroke=\"black\" points=\"435,-62.5 440.13,-53.24 430.34,-57.28 435,-62.5\"/>\n",
       "</g>\n",
       "<!-- 9 -->\n",
       "<g id=\"node10\" class=\"node\">\n",
       "<title>9</title>\n",
       "<path fill=\"#f5cfb3\" stroke=\"black\" d=\"M719.5,-157C719.5,-157 490.5,-157 490.5,-157 484.5,-157 478.5,-151 478.5,-145 478.5,-145 478.5,-101 478.5,-101 478.5,-95 484.5,-89 490.5,-89 490.5,-89 719.5,-89 719.5,-89 725.5,-89 731.5,-95 731.5,-101 731.5,-101 731.5,-145 731.5,-145 731.5,-151 725.5,-157 719.5,-157\"/>\n",
       "<text text-anchor=\"middle\" x=\"605\" y=\"-141.8\" font-family=\"Helvetica,sans-Serif\" font-size=\"14.00\">Population_Driver_licence(%) &lt;= 0.546</text>\n",
       "<text text-anchor=\"middle\" x=\"605\" y=\"-126.8\" font-family=\"Helvetica,sans-Serif\" font-size=\"14.00\">mse = 2178.727</text>\n",
       "<text text-anchor=\"middle\" x=\"605\" y=\"-111.8\" font-family=\"Helvetica,sans-Serif\" font-size=\"14.00\">samples = 11</text>\n",
       "<text text-anchor=\"middle\" x=\"605\" y=\"-96.8\" font-family=\"Helvetica,sans-Serif\" font-size=\"14.00\">value = 573.0</text>\n",
       "</g>\n",
       "<!-- 8&#45;&gt;9 -->\n",
       "<g id=\"edge9\" class=\"edge\">\n",
       "<title>8&#45;&gt;9</title>\n",
       "<path fill=\"none\" stroke=\"black\" d=\"M605,-192.88C605,-184.78 605,-175.98 605,-167.47\"/>\n",
       "<polygon fill=\"black\" stroke=\"black\" points=\"608.5,-167.3 605,-157.3 601.5,-167.3 608.5,-167.3\"/>\n",
       "</g>\n",
       "<!-- 12 -->\n",
       "<g id=\"node13\" class=\"node\">\n",
       "<title>12</title>\n",
       "<path fill=\"#fdf6f1\" stroke=\"black\" d=\"M990.5,-157C990.5,-157 761.5,-157 761.5,-157 755.5,-157 749.5,-151 749.5,-145 749.5,-145 749.5,-101 749.5,-101 749.5,-95 755.5,-89 761.5,-89 761.5,-89 990.5,-89 990.5,-89 996.5,-89 1002.5,-95 1002.5,-101 1002.5,-101 1002.5,-145 1002.5,-145 1002.5,-151 996.5,-157 990.5,-157\"/>\n",
       "<text text-anchor=\"middle\" x=\"876\" y=\"-141.8\" font-family=\"Helvetica,sans-Serif\" font-size=\"14.00\">Population_Driver_licence(%) &lt;= 0.562</text>\n",
       "<text text-anchor=\"middle\" x=\"876\" y=\"-126.8\" font-family=\"Helvetica,sans-Serif\" font-size=\"14.00\">mse = 1898.816</text>\n",
       "<text text-anchor=\"middle\" x=\"876\" y=\"-111.8\" font-family=\"Helvetica,sans-Serif\" font-size=\"14.00\">samples = 7</text>\n",
       "<text text-anchor=\"middle\" x=\"876\" y=\"-96.8\" font-family=\"Helvetica,sans-Serif\" font-size=\"14.00\">value = 466.429</text>\n",
       "</g>\n",
       "<!-- 8&#45;&gt;12 -->\n",
       "<g id=\"edge12\" class=\"edge\">\n",
       "<title>8&#45;&gt;12</title>\n",
       "<path fill=\"none\" stroke=\"black\" d=\"M692.99,-192.88C720.34,-182.59 750.65,-171.18 778.61,-160.66\"/>\n",
       "<polygon fill=\"black\" stroke=\"black\" points=\"779.87,-163.92 787.99,-157.12 777.4,-157.37 779.87,-163.92\"/>\n",
       "</g>\n",
       "<!-- 10 -->\n",
       "<g id=\"node11\" class=\"node\">\n",
       "<title>10</title>\n",
       "<path fill=\"#f8ddc9\" stroke=\"black\" d=\"M632,-53C632,-53 558,-53 558,-53 552,-53 546,-47 546,-41 546,-41 546,-12 546,-12 546,-6 552,0 558,0 558,0 632,0 632,0 638,0 644,-6 644,-12 644,-12 644,-41 644,-41 644,-47 638,-53 632,-53\"/>\n",
       "<text text-anchor=\"middle\" x=\"595\" y=\"-37.8\" font-family=\"Helvetica,sans-Serif\" font-size=\"14.00\">mse = 689.2</text>\n",
       "<text text-anchor=\"middle\" x=\"595\" y=\"-22.8\" font-family=\"Helvetica,sans-Serif\" font-size=\"14.00\">samples = 5</text>\n",
       "<text text-anchor=\"middle\" x=\"595\" y=\"-7.8\" font-family=\"Helvetica,sans-Serif\" font-size=\"14.00\">value = 535.0</text>\n",
       "</g>\n",
       "<!-- 9&#45;&gt;10 -->\n",
       "<g id=\"edge10\" class=\"edge\">\n",
       "<title>9&#45;&gt;10</title>\n",
       "<path fill=\"none\" stroke=\"black\" d=\"M601.5,-88.95C600.62,-80.62 599.67,-71.65 598.78,-63.2\"/>\n",
       "<polygon fill=\"black\" stroke=\"black\" points=\"602.26,-62.81 597.72,-53.24 595.3,-63.55 602.26,-62.81\"/>\n",
       "</g>\n",
       "<!-- 11 -->\n",
       "<g id=\"node12\" class=\"node\">\n",
       "<title>11</title>\n",
       "<path fill=\"#f3c3a1\" stroke=\"black\" d=\"M765.5,-53C765.5,-53 674.5,-53 674.5,-53 668.5,-53 662.5,-47 662.5,-41 662.5,-41 662.5,-12 662.5,-12 662.5,-6 668.5,0 674.5,0 674.5,0 765.5,0 765.5,0 771.5,0 777.5,-6 777.5,-12 777.5,-12 777.5,-41 777.5,-41 777.5,-47 771.5,-53 765.5,-53\"/>\n",
       "<text text-anchor=\"middle\" x=\"720\" y=\"-37.8\" font-family=\"Helvetica,sans-Serif\" font-size=\"14.00\">mse = 1213.889</text>\n",
       "<text text-anchor=\"middle\" x=\"720\" y=\"-22.8\" font-family=\"Helvetica,sans-Serif\" font-size=\"14.00\">samples = 6</text>\n",
       "<text text-anchor=\"middle\" x=\"720\" y=\"-7.8\" font-family=\"Helvetica,sans-Serif\" font-size=\"14.00\">value = 604.667</text>\n",
       "</g>\n",
       "<!-- 9&#45;&gt;11 -->\n",
       "<g id=\"edge11\" class=\"edge\">\n",
       "<title>9&#45;&gt;11</title>\n",
       "<path fill=\"none\" stroke=\"black\" d=\"M645.22,-88.95C656.8,-79.43 669.41,-69.07 680.92,-59.62\"/>\n",
       "<polygon fill=\"black\" stroke=\"black\" points=\"683.18,-62.29 688.68,-53.24 678.73,-56.88 683.18,-62.29\"/>\n",
       "</g>\n",
       "<!-- 13 -->\n",
       "<g id=\"node14\" class=\"node\">\n",
       "<title>13</title>\n",
       "<path fill=\"#ffffff\" stroke=\"black\" d=\"M898,-53C898,-53 824,-53 824,-53 818,-53 812,-47 812,-41 812,-41 812,-12 812,-12 812,-6 818,0 824,0 824,0 898,0 898,0 904,0 910,-6 910,-12 910,-12 910,-41 910,-41 910,-47 904,-53 898,-53\"/>\n",
       "<text text-anchor=\"middle\" x=\"861\" y=\"-37.8\" font-family=\"Helvetica,sans-Serif\" font-size=\"14.00\">mse = 647.2</text>\n",
       "<text text-anchor=\"middle\" x=\"861\" y=\"-22.8\" font-family=\"Helvetica,sans-Serif\" font-size=\"14.00\">samples = 5</text>\n",
       "<text text-anchor=\"middle\" x=\"861\" y=\"-7.8\" font-family=\"Helvetica,sans-Serif\" font-size=\"14.00\">value = 443.0</text>\n",
       "</g>\n",
       "<!-- 12&#45;&gt;13 -->\n",
       "<g id=\"edge13\" class=\"edge\">\n",
       "<title>12&#45;&gt;13</title>\n",
       "<path fill=\"none\" stroke=\"black\" d=\"M870.75,-88.95C869.43,-80.62 868.01,-71.65 866.67,-63.2\"/>\n",
       "<polygon fill=\"black\" stroke=\"black\" points=\"870.11,-62.56 865.09,-53.24 863.2,-63.66 870.11,-62.56\"/>\n",
       "</g>\n",
       "<!-- 14 -->\n",
       "<g id=\"node15\" class=\"node\">\n",
       "<title>14</title>\n",
       "<path fill=\"#f9e1cf\" stroke=\"black\" d=\"M1014,-53C1014,-53 940,-53 940,-53 934,-53 928,-47 928,-41 928,-41 928,-12 928,-12 928,-6 934,0 940,0 940,0 1014,0 1014,0 1020,0 1026,-6 1026,-12 1026,-12 1026,-41 1026,-41 1026,-47 1020,-53 1014,-53\"/>\n",
       "<text text-anchor=\"middle\" x=\"977\" y=\"-37.8\" font-family=\"Helvetica,sans-Serif\" font-size=\"14.00\">mse = 225.0</text>\n",
       "<text text-anchor=\"middle\" x=\"977\" y=\"-22.8\" font-family=\"Helvetica,sans-Serif\" font-size=\"14.00\">samples = 2</text>\n",
       "<text text-anchor=\"middle\" x=\"977\" y=\"-7.8\" font-family=\"Helvetica,sans-Serif\" font-size=\"14.00\">value = 525.0</text>\n",
       "</g>\n",
       "<!-- 12&#45;&gt;14 -->\n",
       "<g id=\"edge14\" class=\"edge\">\n",
       "<title>12&#45;&gt;14</title>\n",
       "<path fill=\"none\" stroke=\"black\" d=\"M911.32,-88.95C921.3,-79.62 932.14,-69.47 942.09,-60.16\"/>\n",
       "<polygon fill=\"black\" stroke=\"black\" points=\"944.58,-62.62 949.49,-53.24 939.8,-57.51 944.58,-62.62\"/>\n",
       "</g>\n",
       "</g>\n",
       "</svg>\n"
      ],
      "text/plain": [
       "<graphviz.files.Source at 0x7f6d5d277990>"
      ]
     },
     "execution_count": 53,
     "metadata": {},
     "output_type": "execute_result"
    }
   ],
   "source": [
    "graphviz.Source(dot_data)"
   ]
  },
  {
   "cell_type": "markdown",
   "metadata": {},
   "source": [
    "The above tree is the optimised result of the Base tree which we have used earlier in this assignment. To Optimisation I have used Grid Search to prune the tree and find the best estimator as shown below:\n",
    "\n",
    "##### Hyperparameters Considered:   max_depth=3,  max_features=4\n",
    "**The reason for defining\\\n",
    "i. Maximum depth of tree(vertical depth) to control over-fitting as higher depth will allow model to learn relations very specific to a particular sample.\\\n",
    "ii. max_features these are selected randomly but higher value selection results in Overfitting.**\n",
    "\n",
    "We have used the above mentioned parameters to improve decision tree accuracy and reduce MSE. by fitting in our model this can also be called a one way of prune the tree.\n",
    "\n",
    "Observation\n",
    "1. The tree uses Petrol Tax features with threshold value of 7.25 to initially divide the samples.\n",
    "2. We can see out of 33 Samples the root (Petrol Tax) split into two other decision nodes:\\\n",
    "   i.  Where Petrol_tax <= 7.25 then it uses another feature (Paved Highways) with total number of sample of 15 as decision node.\\\n",
    "   ii.Where Petrol_tax> 7.25 then it uses feature Average Income as another decision node with Sample count of 18.\n",
    "3. The tree considered Mean Squared Error(MSE) as the determining and decision making criteria. \n",
    "4. In the above plotted decision tree every node is a conditon how to split values. The least the MSE the better the result. \n",
    "5. We can see from decision nodes there are several boxes known as leaf nodes where MSE=0 and thus tree stops branching from that nodes.\n",
    "\n"
   ]
  },
  {
   "cell_type": "markdown",
   "metadata": {},
   "source": [
    "#### The Comparision Of Decision Tree without Applying GridSearch and One by applying with GridSearch"
   ]
  },
  {
   "cell_type": "code",
   "execution_count": 54,
   "metadata": {},
   "outputs": [
    {
     "data": {
      "text/html": [
       "<div>\n",
       "<style scoped>\n",
       "    .dataframe tbody tr th:only-of-type {\n",
       "        vertical-align: middle;\n",
       "    }\n",
       "\n",
       "    .dataframe tbody tr th {\n",
       "        vertical-align: top;\n",
       "    }\n",
       "\n",
       "    .dataframe thead th {\n",
       "        text-align: right;\n",
       "    }\n",
       "</style>\n",
       "<table border=\"1\" class=\"dataframe\">\n",
       "  <thead>\n",
       "    <tr style=\"text-align: right;\">\n",
       "      <th></th>\n",
       "      <th>Parameters</th>\n",
       "      <th>Without Grid Search</th>\n",
       "      <th>With Grid Search</th>\n",
       "    </tr>\n",
       "  </thead>\n",
       "  <tbody>\n",
       "    <tr>\n",
       "      <th>0</th>\n",
       "      <td>Max_Depth</td>\n",
       "      <td>4.0000</td>\n",
       "      <td>3.0000</td>\n",
       "    </tr>\n",
       "    <tr>\n",
       "      <th>1</th>\n",
       "      <td>Max_Feature</td>\n",
       "      <td>4.0000</td>\n",
       "      <td>4.0000</td>\n",
       "    </tr>\n",
       "    <tr>\n",
       "      <th>2</th>\n",
       "      <td>Mean Abs. Error</td>\n",
       "      <td>106.7300</td>\n",
       "      <td>96.6000</td>\n",
       "    </tr>\n",
       "    <tr>\n",
       "      <th>3</th>\n",
       "      <td>Mean Square Error</td>\n",
       "      <td>18466.3400</td>\n",
       "      <td>15143.7300</td>\n",
       "    </tr>\n",
       "    <tr>\n",
       "      <th>4</th>\n",
       "      <td>Root Mean Square</td>\n",
       "      <td>135.8900</td>\n",
       "      <td>123.0500</td>\n",
       "    </tr>\n",
       "    <tr>\n",
       "      <th>5</th>\n",
       "      <td>r2_Score</td>\n",
       "      <td>0.2000</td>\n",
       "      <td>0.3440</td>\n",
       "    </tr>\n",
       "  </tbody>\n",
       "</table>\n",
       "</div>"
      ],
      "text/plain": [
       "          Parameters  Without Grid Search  With Grid Search\n",
       "0          Max_Depth               4.0000            3.0000\n",
       "1        Max_Feature               4.0000            4.0000\n",
       "2    Mean Abs. Error             106.7300           96.6000\n",
       "3  Mean Square Error           18466.3400        15143.7300\n",
       "4   Root Mean Square             135.8900          123.0500\n",
       "5           r2_Score               0.2000            0.3440"
      ]
     },
     "execution_count": 54,
     "metadata": {},
     "output_type": "execute_result"
    }
   ],
   "source": [
    "DT_Regressor=[['Max_Depth',4,3],['Max_Feature',4,4],['Mean Abs. Error',106.73,96.6],['Mean Square Error',18466.34,15143.73],['Root Mean Square',135.89,123.05],['r2_Score',0.20,0.344]]\n",
    "Result_Summary2= pd.DataFrame(DT_Regressor, columns = ['Parameters','Without Grid Search','With Grid Search'])\n",
    "Result_Summary2"
   ]
  },
  {
   "cell_type": "markdown",
   "metadata": {},
   "source": [
    "**From the above comparision Dataframe we can see how Using GridSearch has affected the end result of Decision Tree Model. The Accuracy scores has also increased after substituting the optimum hyperparameters value. The MSE has reduced.**"
   ]
  },
  {
   "cell_type": "markdown",
   "metadata": {},
   "source": [
    "References:\n",
    "\n",
    "1. https://scikit-learn.org/stable/auto_examples/tree/plot_unveil_tree_structure.html\n",
    "2. https://webfocusinfocenter.informationbuilders.com/wfappent/TLs/TL_rstat/source/DecisionTree47.html\n",
    "3. https://machinelearningmastery.com/classification-and-regression-trees-for-machine-learning/"
   ]
  },
  {
   "cell_type": "code",
   "execution_count": null,
   "metadata": {},
   "outputs": [],
   "source": []
  }
 ],
 "metadata": {
  "kernelspec": {
   "display_name": "Python 3 (ipykernel)",
   "language": "python",
   "name": "python3"
  },
  "language_info": {
   "codemirror_mode": {
    "name": "ipython",
    "version": 3
   },
   "file_extension": ".py",
   "mimetype": "text/x-python",
   "name": "python",
   "nbconvert_exporter": "python",
   "pygments_lexer": "ipython3",
   "version": "3.10.9"
  }
 },
 "nbformat": 4,
 "nbformat_minor": 4
}
