{
 "cells": [
  {
   "cell_type": "code",
   "execution_count": 1,
   "id": "0b886051",
   "metadata": {
    "execution": {
     "iopub.execute_input": "2023-03-08T10:35:46.458766Z",
     "iopub.status.busy": "2023-03-08T10:35:46.457562Z",
     "iopub.status.idle": "2023-03-08T10:35:46.467846Z",
     "shell.execute_reply": "2023-03-08T10:35:46.466642Z"
    },
    "papermill": {
     "duration": 0.024572,
     "end_time": "2023-03-08T10:35:46.470522",
     "exception": false,
     "start_time": "2023-03-08T10:35:46.445950",
     "status": "completed"
    },
    "tags": []
   },
   "outputs": [],
   "source": [
    "import pandas as pd\n",
    "import numpy as np"
   ]
  },
  {
   "cell_type": "code",
   "execution_count": 2,
   "id": "087db58c",
   "metadata": {
    "execution": {
     "iopub.execute_input": "2023-03-08T10:35:46.491006Z",
     "iopub.status.busy": "2023-03-08T10:35:46.490315Z",
     "iopub.status.idle": "2023-03-08T10:35:48.393424Z",
     "shell.execute_reply": "2023-03-08T10:35:48.392409Z"
    },
    "papermill": {
     "duration": 1.916792,
     "end_time": "2023-03-08T10:35:48.396296",
     "exception": false,
     "start_time": "2023-03-08T10:35:46.479504",
     "status": "completed"
    },
    "tags": []
   },
   "outputs": [],
   "source": [
    "dataset=pd.read_excel(\"Date-Wise-Prices-all-Commodity.xlsx\")"
   ]
  },
  {
   "cell_type": "code",
   "execution_count": 3,
   "id": "ed2e1492",
   "metadata": {
    "execution": {
     "iopub.execute_input": "2023-03-08T10:35:48.416855Z",
     "iopub.status.busy": "2023-03-08T10:35:48.415901Z",
     "iopub.status.idle": "2023-03-08T10:35:48.458069Z",
     "shell.execute_reply": "2023-03-08T10:35:48.456806Z"
    },
    "papermill": {
     "duration": 0.056133,
     "end_time": "2023-03-08T10:35:48.461686",
     "exception": false,
     "start_time": "2023-03-08T10:35:48.405553",
     "status": "completed"
    },
    "tags": []
   },
   "outputs": [
    {
     "data": {
      "text/html": [
       "<div>\n",
       "<style scoped>\n",
       "    .dataframe tbody tr th:only-of-type {\n",
       "        vertical-align: middle;\n",
       "    }\n",
       "\n",
       "    .dataframe tbody tr th {\n",
       "        vertical-align: top;\n",
       "    }\n",
       "\n",
       "    .dataframe thead th {\n",
       "        text-align: right;\n",
       "    }\n",
       "</style>\n",
       "<table border=\"1\" class=\"dataframe\">\n",
       "  <thead>\n",
       "    <tr style=\"text-align: right;\">\n",
       "      <th></th>\n",
       "      <th>diffgr:id</th>\n",
       "      <th>msdata:rowOrder</th>\n",
       "      <th>State</th>\n",
       "      <th>District</th>\n",
       "      <th>Market</th>\n",
       "      <th>Commodity</th>\n",
       "      <th>Variety</th>\n",
       "      <th>Grade</th>\n",
       "      <th>Arrival_Date</th>\n",
       "      <th>Min_x0020_Price</th>\n",
       "      <th>Max_x0020_Price</th>\n",
       "      <th>Modal_x0020_Price</th>\n",
       "    </tr>\n",
       "  </thead>\n",
       "  <tbody>\n",
       "    <tr>\n",
       "      <th>0</th>\n",
       "      <td>Table1</td>\n",
       "      <td>0</td>\n",
       "      <td>Andhra Pradesh</td>\n",
       "      <td>Chittor</td>\n",
       "      <td>Chittoor</td>\n",
       "      <td>Gur(Jaggery)</td>\n",
       "      <td>NO 1</td>\n",
       "      <td>FAQ</td>\n",
       "      <td>24/02/2023</td>\n",
       "      <td>4000</td>\n",
       "      <td>4100.0</td>\n",
       "      <td>4000.0</td>\n",
       "    </tr>\n",
       "    <tr>\n",
       "      <th>1</th>\n",
       "      <td>Table2</td>\n",
       "      <td>1</td>\n",
       "      <td>Andhra Pradesh</td>\n",
       "      <td>Chittor</td>\n",
       "      <td>Chittoor</td>\n",
       "      <td>Gur(Jaggery)</td>\n",
       "      <td>NO 2</td>\n",
       "      <td>FAQ</td>\n",
       "      <td>24/02/2023</td>\n",
       "      <td>3000</td>\n",
       "      <td>3500.0</td>\n",
       "      <td>3500.0</td>\n",
       "    </tr>\n",
       "    <tr>\n",
       "      <th>2</th>\n",
       "      <td>Table3</td>\n",
       "      <td>2</td>\n",
       "      <td>Andhra Pradesh</td>\n",
       "      <td>Chittor</td>\n",
       "      <td>Chittoor</td>\n",
       "      <td>Gur(Jaggery)</td>\n",
       "      <td>NO 3</td>\n",
       "      <td>FAQ</td>\n",
       "      <td>24/02/2023</td>\n",
       "      <td>2300</td>\n",
       "      <td>2300.0</td>\n",
       "      <td>2300.0</td>\n",
       "    </tr>\n",
       "    <tr>\n",
       "      <th>3</th>\n",
       "      <td>Table4</td>\n",
       "      <td>3</td>\n",
       "      <td>Andhra Pradesh</td>\n",
       "      <td>Chittor</td>\n",
       "      <td>Punganur</td>\n",
       "      <td>Tomato</td>\n",
       "      <td>Hybrid</td>\n",
       "      <td>FAQ</td>\n",
       "      <td>24/02/2023</td>\n",
       "      <td>1340</td>\n",
       "      <td>2000.0</td>\n",
       "      <td>1670.0</td>\n",
       "    </tr>\n",
       "    <tr>\n",
       "      <th>4</th>\n",
       "      <td>Table5</td>\n",
       "      <td>4</td>\n",
       "      <td>Andhra Pradesh</td>\n",
       "      <td>Chittor</td>\n",
       "      <td>Vayalapadu</td>\n",
       "      <td>Tomato</td>\n",
       "      <td>Local</td>\n",
       "      <td>FAQ</td>\n",
       "      <td>24/02/2023</td>\n",
       "      <td>640</td>\n",
       "      <td>2160.0</td>\n",
       "      <td>1400.0</td>\n",
       "    </tr>\n",
       "    <tr>\n",
       "      <th>...</th>\n",
       "      <td>...</td>\n",
       "      <td>...</td>\n",
       "      <td>...</td>\n",
       "      <td>...</td>\n",
       "      <td>...</td>\n",
       "      <td>...</td>\n",
       "      <td>...</td>\n",
       "      <td>...</td>\n",
       "      <td>...</td>\n",
       "      <td>...</td>\n",
       "      <td>...</td>\n",
       "      <td>...</td>\n",
       "    </tr>\n",
       "    <tr>\n",
       "      <th>6430</th>\n",
       "      <td>Table6431</td>\n",
       "      <td>6430</td>\n",
       "      <td>West Bengal</td>\n",
       "      <td>Sounth 24 Parganas</td>\n",
       "      <td>Diamond Harbour(South 24-pgs)</td>\n",
       "      <td>Onion</td>\n",
       "      <td>Red</td>\n",
       "      <td>FAQ</td>\n",
       "      <td>24/02/2023</td>\n",
       "      <td>1400</td>\n",
       "      <td>1500.0</td>\n",
       "      <td>1450.0</td>\n",
       "    </tr>\n",
       "    <tr>\n",
       "      <th>6431</th>\n",
       "      <td>Table6432</td>\n",
       "      <td>6431</td>\n",
       "      <td>West Bengal</td>\n",
       "      <td>Sounth 24 Parganas</td>\n",
       "      <td>Diamond Harbour(South 24-pgs)</td>\n",
       "      <td>Potato</td>\n",
       "      <td>Jyoti</td>\n",
       "      <td>FAQ</td>\n",
       "      <td>24/02/2023</td>\n",
       "      <td>760</td>\n",
       "      <td>800.0</td>\n",
       "      <td>780.0</td>\n",
       "    </tr>\n",
       "    <tr>\n",
       "      <th>6432</th>\n",
       "      <td>Table6433</td>\n",
       "      <td>6432</td>\n",
       "      <td>West Bengal</td>\n",
       "      <td>Sounth 24 Parganas</td>\n",
       "      <td>Diamond Harbour(South 24-pgs)</td>\n",
       "      <td>Rice</td>\n",
       "      <td>Common</td>\n",
       "      <td>FAQ</td>\n",
       "      <td>24/02/2023</td>\n",
       "      <td>2700</td>\n",
       "      <td>2900.0</td>\n",
       "      <td>2800.0</td>\n",
       "    </tr>\n",
       "    <tr>\n",
       "      <th>6433</th>\n",
       "      <td>Table6434</td>\n",
       "      <td>6433</td>\n",
       "      <td>West Bengal</td>\n",
       "      <td>Sounth 24 Parganas</td>\n",
       "      <td>Diamond Harbour(South 24-pgs)</td>\n",
       "      <td>Rice</td>\n",
       "      <td>Super Fine</td>\n",
       "      <td>FAQ</td>\n",
       "      <td>24/02/2023</td>\n",
       "      <td>4700</td>\n",
       "      <td>4900.0</td>\n",
       "      <td>4800.0</td>\n",
       "    </tr>\n",
       "    <tr>\n",
       "      <th>6434</th>\n",
       "      <td>Table6435</td>\n",
       "      <td>6434</td>\n",
       "      <td>West Bengal</td>\n",
       "      <td>Sounth 24 Parganas</td>\n",
       "      <td>Diamond Harbour(South 24-pgs)</td>\n",
       "      <td>Tomato</td>\n",
       "      <td>Tomato</td>\n",
       "      <td>FAQ</td>\n",
       "      <td>24/02/2023</td>\n",
       "      <td>1400</td>\n",
       "      <td>1600.0</td>\n",
       "      <td>1500.0</td>\n",
       "    </tr>\n",
       "  </tbody>\n",
       "</table>\n",
       "<p>6435 rows × 12 columns</p>\n",
       "</div>"
      ],
      "text/plain": [
       "      diffgr:id  msdata:rowOrder           State            District  \\\n",
       "0        Table1                0  Andhra Pradesh             Chittor   \n",
       "1        Table2                1  Andhra Pradesh             Chittor   \n",
       "2        Table3                2  Andhra Pradesh             Chittor   \n",
       "3        Table4                3  Andhra Pradesh             Chittor   \n",
       "4        Table5                4  Andhra Pradesh             Chittor   \n",
       "...         ...              ...             ...                 ...   \n",
       "6430  Table6431             6430     West Bengal  Sounth 24 Parganas   \n",
       "6431  Table6432             6431     West Bengal  Sounth 24 Parganas   \n",
       "6432  Table6433             6432     West Bengal  Sounth 24 Parganas   \n",
       "6433  Table6434             6433     West Bengal  Sounth 24 Parganas   \n",
       "6434  Table6435             6434     West Bengal  Sounth 24 Parganas   \n",
       "\n",
       "                             Market     Commodity     Variety Grade  \\\n",
       "0                          Chittoor  Gur(Jaggery)        NO 1   FAQ   \n",
       "1                          Chittoor  Gur(Jaggery)        NO 2   FAQ   \n",
       "2                          Chittoor  Gur(Jaggery)        NO 3   FAQ   \n",
       "3                          Punganur        Tomato      Hybrid   FAQ   \n",
       "4                        Vayalapadu        Tomato       Local   FAQ   \n",
       "...                             ...           ...         ...   ...   \n",
       "6430  Diamond Harbour(South 24-pgs)         Onion         Red   FAQ   \n",
       "6431  Diamond Harbour(South 24-pgs)        Potato       Jyoti   FAQ   \n",
       "6432  Diamond Harbour(South 24-pgs)          Rice      Common   FAQ   \n",
       "6433  Diamond Harbour(South 24-pgs)          Rice  Super Fine   FAQ   \n",
       "6434  Diamond Harbour(South 24-pgs)        Tomato      Tomato   FAQ   \n",
       "\n",
       "     Arrival_Date  Min_x0020_Price  Max_x0020_Price  Modal_x0020_Price  \n",
       "0      24/02/2023             4000           4100.0             4000.0  \n",
       "1      24/02/2023             3000           3500.0             3500.0  \n",
       "2      24/02/2023             2300           2300.0             2300.0  \n",
       "3      24/02/2023             1340           2000.0             1670.0  \n",
       "4      24/02/2023              640           2160.0             1400.0  \n",
       "...           ...              ...              ...                ...  \n",
       "6430   24/02/2023             1400           1500.0             1450.0  \n",
       "6431   24/02/2023              760            800.0              780.0  \n",
       "6432   24/02/2023             2700           2900.0             2800.0  \n",
       "6433   24/02/2023             4700           4900.0             4800.0  \n",
       "6434   24/02/2023             1400           1600.0             1500.0  \n",
       "\n",
       "[6435 rows x 12 columns]"
      ]
     },
     "execution_count": 3,
     "metadata": {},
     "output_type": "execute_result"
    }
   ],
   "source": [
    "dataset"
   ]
  },
  {
   "cell_type": "code",
   "execution_count": 4,
   "id": "6799e0dc",
   "metadata": {
    "execution": {
     "iopub.execute_input": "2023-03-08T10:35:48.482645Z",
     "iopub.status.busy": "2023-03-08T10:35:48.482106Z",
     "iopub.status.idle": "2023-03-08T10:35:48.509692Z",
     "shell.execute_reply": "2023-03-08T10:35:48.507999Z"
    },
    "papermill": {
     "duration": 0.041031,
     "end_time": "2023-03-08T10:35:48.512351",
     "exception": false,
     "start_time": "2023-03-08T10:35:48.471320",
     "status": "completed"
    },
    "tags": []
   },
   "outputs": [
    {
     "name": "stdout",
     "output_type": "stream",
     "text": [
      "<class 'pandas.core.frame.DataFrame'>\n",
      "RangeIndex: 6435 entries, 0 to 6434\n",
      "Data columns (total 12 columns):\n",
      " #   Column             Non-Null Count  Dtype  \n",
      "---  ------             --------------  -----  \n",
      " 0   diffgr:id          6435 non-null   object \n",
      " 1   msdata:rowOrder    6435 non-null   int64  \n",
      " 2   State              6435 non-null   object \n",
      " 3   District           6435 non-null   object \n",
      " 4   Market             6435 non-null   object \n",
      " 5   Commodity          6435 non-null   object \n",
      " 6   Variety            6435 non-null   object \n",
      " 7   Grade              6435 non-null   object \n",
      " 8   Arrival_Date       6435 non-null   object \n",
      " 9   Min_x0020_Price    6435 non-null   int64  \n",
      " 10  Max_x0020_Price    6435 non-null   float64\n",
      " 11  Modal_x0020_Price  6435 non-null   float64\n",
      "dtypes: float64(2), int64(2), object(8)\n",
      "memory usage: 603.4+ KB\n"
     ]
    }
   ],
   "source": [
    "dataset.info()"
   ]
  },
  {
   "cell_type": "markdown",
   "id": "ac9943ec",
   "metadata": {
    "papermill": {
     "duration": 0.009385,
     "end_time": "2023-03-08T10:35:48.531423",
     "exception": false,
     "start_time": "2023-03-08T10:35:48.522038",
     "status": "completed"
    },
    "tags": []
   },
   "source": [
    "# dataset having null or not"
   ]
  },
  {
   "cell_type": "code",
   "execution_count": 5,
   "id": "5f21719a",
   "metadata": {
    "execution": {
     "iopub.execute_input": "2023-03-08T10:35:48.552762Z",
     "iopub.status.busy": "2023-03-08T10:35:48.552306Z",
     "iopub.status.idle": "2023-03-08T10:35:48.565952Z",
     "shell.execute_reply": "2023-03-08T10:35:48.564686Z"
    },
    "papermill": {
     "duration": 0.027291,
     "end_time": "2023-03-08T10:35:48.568280",
     "exception": false,
     "start_time": "2023-03-08T10:35:48.540989",
     "status": "completed"
    },
    "tags": []
   },
   "outputs": [
    {
     "data": {
      "text/plain": [
       "diffgr:id            0\n",
       "msdata:rowOrder      0\n",
       "State                0\n",
       "District             0\n",
       "Market               0\n",
       "Commodity            0\n",
       "Variety              0\n",
       "Grade                0\n",
       "Arrival_Date         0\n",
       "Min_x0020_Price      0\n",
       "Max_x0020_Price      0\n",
       "Modal_x0020_Price    0\n",
       "dtype: int64"
      ]
     },
     "execution_count": 5,
     "metadata": {},
     "output_type": "execute_result"
    }
   ],
   "source": [
    "dataset.isnull().sum()"
   ]
  },
  {
   "cell_type": "code",
   "execution_count": 6,
   "id": "9b45ed29",
   "metadata": {
    "execution": {
     "iopub.execute_input": "2023-03-08T10:35:48.590971Z",
     "iopub.status.busy": "2023-03-08T10:35:48.590527Z",
     "iopub.status.idle": "2023-03-08T10:35:48.600945Z",
     "shell.execute_reply": "2023-03-08T10:35:48.599746Z"
    },
    "papermill": {
     "duration": 0.024165,
     "end_time": "2023-03-08T10:35:48.603326",
     "exception": false,
     "start_time": "2023-03-08T10:35:48.579161",
     "status": "completed"
    },
    "tags": []
   },
   "outputs": [
    {
     "data": {
      "text/plain": [
       "array(['Chittoor', 'Punganur', 'Vayalapadu', 'Alur', 'Atmakur',\n",
       "       'Banaganapalli', 'Nandikotkur', 'Gopalavaram', 'Bihiya', 'Kaimur',\n",
       "       'Bahadurganj', 'Munghair', 'Nawada',\n",
       "       'Parsoniya Mandi, Mahua block', 'Chandigarh(Grain/Fruit)',\n",
       "       'Bhatgaon', 'Kasdol', 'Sarsiwan', 'Kusmee', 'Bilaspur',\n",
       "       'Pendraroad', 'Sakri', 'Takhatpur', 'Tiphra', 'Gidam',\n",
       "       'Belarbahara', 'Belargaon', 'Boraee', 'Gattasilli', 'Nagari',\n",
       "       'Durg', 'Champa', 'Pathalgaon', 'Kawardha', 'Pipriya',\n",
       "       'Bhanupratappur', 'Charama', 'Korar', 'Lakhanpuri', 'Narharpur',\n",
       "       'Sambalpur', 'Manendragarh', 'Abhanpur', 'Arang', 'Rajnandgaon',\n",
       "       'Pratappur', 'Surajpur', 'Sanquelim', 'Babra', 'Bagasara',\n",
       "       'Damnagar', 'Vav', 'Ankleshwar', 'Jambusar', 'Jambusar(Kaavi)',\n",
       "       'Botad(Haddad)', 'Dahod', 'Dahod(Veg. Market)', 'Dehgam',\n",
       "       'Dehgam(Rekhiyal)', 'Mansa(Manas Veg Yard)', 'Bhanvad', 'Dhrol',\n",
       "       'Kodinar', 'Kodinar(Dollasa)', 'Mangrol', 'Visavadar', 'Rapar',\n",
       "       'Mehmadabad', 'Vankaner', 'Vankaner(Sub yard)', 'Sami', 'Dhoraji',\n",
       "       'Rajkot', 'Rajkot(Ghee Peeth)', 'Modasa', 'Modasa(Tintoi)',\n",
       "       'Surat', 'Chotila', 'Dasada Patadi', 'Halvad', 'Vadhvan', 'Bodeli',\n",
       "       'Padra', 'Mullana', 'Mullana(saha)', 'Naraingarh', 'Shahzadpur',\n",
       "       'New Grain Market , Faridabad', 'Farukh Nagar', 'Hansi', 'Pehowa',\n",
       "       'Shahabad', 'Mohindergarh', 'Narnaul', 'FerozpurZirkha(Nagina)',\n",
       "       'Punhana', 'Taura', 'New Grain Market , Panchkula',\n",
       "       'Panchkul(Kalka)', 'Panipat', 'Rewari', 'Meham', 'kalanwali',\n",
       "       'Gohana', 'Chhachrauli', 'Radaur', 'Chamba', 'Kangra',\n",
       "       'Kangra(Baijnath)', 'Kangra(Jaisinghpur)',\n",
       "       'Kangra(Nagrota Bagwan)', 'Palampur', 'Bhuntar', 'Kullu', 'Shimla',\n",
       "       'Shimla and Kinnaur(Rampur)', 'Nahan', 'Paonta Sahib', 'Solan',\n",
       "       'Santoshgarh', 'Una', 'Udhampur', 'Kanakapura', 'Ramanagara',\n",
       "       'Chikkamagalore', 'Harihara', 'Honnali', 'Arasikere', 'Bangarpet',\n",
       "       'Chintamani', 'Mandya', 'Sindhanur', 'Shimoga', 'Alappuzha',\n",
       "       'Aroor', 'Chengannur', 'Cherthala', 'Harippad', 'Kayamkulam',\n",
       "       'Madhavapuram', 'Aluva', 'Angamaly', 'Ernakulam', 'Perumbavoor',\n",
       "       'Piravam', 'Thrippunithura', 'Kattappana', 'Thodupuzha', 'Irikkur',\n",
       "       'Payyannur', 'Taliparamba', 'Kanjangadu', 'Anchal', 'Chathanoor',\n",
       "       'Kottarakkara', 'Punalur', 'Sasthamkotta', 'Kanjirappally',\n",
       "       'Pampady', 'Thalayolaparambu', 'Kallachi', 'Mukkom', 'Palayam',\n",
       "       'Kottakkal', 'Manjeri', 'Perinthalmanna', 'Thirurrangadi',\n",
       "       'Palakkad', 'Pattambi', 'Vadakkenchery', 'Chavakkad',\n",
       "       'Kodungalloor', 'Mattathur', 'Wadakkanchery', 'Anyara(EEC)',\n",
       "       'Aralamoodu', 'Neyyatinkara', 'Pothencode', 'Kalpetta',\n",
       "       'Manathavady', 'Pulpally', 'Ashoknagar', 'Ashoknagar(F&V)',\n",
       "       'Balaghat', 'Pandhurna', 'Dewas', 'Dewas(F&V)', 'Khategaon',\n",
       "       'Dhamnod', 'Jhabua', 'Pandhana(F&V)', 'Khargone', 'Bhanpura',\n",
       "       'Panna', 'Pawai', 'Khujner', 'Sailana', 'Kalapipal', 'Magroni',\n",
       "       'Rahata', 'Rahuri', 'Shrirampur', 'Gandchiroli',\n",
       "       'Jalgaon(Masawat)', 'Mumbai', 'Kalmeshwar', 'Kamthi', 'Mudkhed',\n",
       "       'Devala', 'Kalvan', 'Lasalgaon', 'Lasalgaon(Niphad)', 'Manmad',\n",
       "       'Khed(Chakan)', 'Pune(Khadiki)', 'Pune(Moshi)', 'Pune(Pimpri)',\n",
       "       'Alibagh', 'Murud', 'Roha', 'Sangli(Phale, Bhajipura Market)',\n",
       "       'Vai', 'Kalyan', 'Murbad', 'Palghar', 'Bishenpur',\n",
       "       'Lamlong Bazaar', 'Thoubal', 'Shillong', 'Rongram', 'Tura',\n",
       "       'Niuland', 'Kohima', 'Azadpur',\n",
       "       'Fish,Poultry & Egg Market, Gazipur', 'Nilagiri', 'Attabira',\n",
       "       'Bargarh', 'Bargarh(Barapalli)', 'Bhadrak', 'Chandabali',\n",
       "       'Sahidngar', 'Kantabaji', 'Hindol', 'Kamakhyanagar', 'Kasinagar',\n",
       "       'Parlakhemundi', 'Jagatsinghpur', 'Jharsuguda', 'Kesinga',\n",
       "       'Anandapur', 'Baripada', 'Betnoti', 'Karanjia', 'Birmaharajpur',\n",
       "       'Panposh', 'Sargipali', 'Mehta', 'Rayya', 'Bhagta Bhai Ka', 'Maur',\n",
       "       'Talwandi Sabo', 'Bassi Pathana', 'Sirhind', 'Fazilka',\n",
       "       'Jalalabad', 'Firozepur City', 'Dinanagar', 'Garh Shankar',\n",
       "       'Mukerian(Talwara)', 'Bilga', 'Lohian Khas', 'Sultanpur', 'Doraha',\n",
       "       'Khanna', 'Sahnewal', 'Mansa', 'Kot ise Khan', 'Moga',\n",
       "       'Dera Bassi', 'Lalru', 'Chamkaur Sahib', 'Morinda', 'Ropar',\n",
       "       'Bhawanigarh', 'Dhuri', 'Khadur Sahib(Fetehabad)', 'Patti',\n",
       "       'Ajmer(F&V)', 'Beawar', 'Bijay Nagar', 'Vijay Nagar(Gulabpura)',\n",
       "       'Barmer', 'Bikaner(F&V)', 'Kapasan', 'Churu', 'Lalsot',\n",
       "       'Lalsot(Mandabari)', 'Sriganganagar', 'Goluwala',\n",
       "       'Hanumangarh Town', 'Sangriya', 'Jaipur(Bassi)',\n",
       "       'Bheenmal(Ranlwada)', 'Jalore', 'Nawalgarh',\n",
       "       'Jodhpur (Grain)(Mandor)', 'Jodhpur(F&V)(Bhadwasia)', 'Rani',\n",
       "       'Rajasamand', 'Surajgarh', 'Malpura', 'Jayamkondam', 'Chengeri',\n",
       "       'Karamadai', 'Madathukulam', 'Palladam', 'Pethappampatti',\n",
       "       'Pollachi', 'Pudupalayam', 'Thiruppur', 'Udumalpet', 'Gopalpatti',\n",
       "       'Oddunchairum', 'Anthiyur', 'Erode', 'Kangeyam', 'Muthur',\n",
       "       'Perundurai', 'Vellakkoil', 'Madurai', 'Usilampatty',\n",
       "       'Namagiripettai', 'Namakkal', 'Rasipuram', 'Tiruchengode', 'Velur',\n",
       "       'Attur', 'Gangavalli', 'Karumanturai', 'Kolathur', 'Konganapuram',\n",
       "       'Omalur', 'Salem', 'Thalaivasal', 'Thammampati', 'Vazhapadi',\n",
       "       'Theni', 'Vettavalam', 'Ammoor', 'Chinnasalem', 'Kallakurichi',\n",
       "       'Thiryagadurgam', 'Adilabad', 'Adilabad(Rythu Bazar)', 'Boath',\n",
       "       'Ichoda', 'Kuber', 'Nirmal', 'Sarangapur', 'L B Nagar',\n",
       "       'Mahboob Manison', 'Choppadandi', 'Dharmaram', 'Gangadhara',\n",
       "       'Gopalraopet', 'Karimnagar', 'Kataram', 'Koratla',\n",
       "       'Mallial(Cheppial)', 'Pudur', 'Vemulawada', 'Bhadrachalam',\n",
       "       'Charla', 'Khammam', 'Madhira', 'Alampur', 'Devarakadra', 'Gadwal',\n",
       "       'Gadwal(Lezza)', 'Makthal', 'Nagarkurnool', 'Wanaparthy town',\n",
       "       'Dubbak', 'Sangareddy', 'Aler', 'Chandur', 'Chandur(Mungodu)',\n",
       "       'Chityal', 'Devarakonda', 'Devarkonda(Dindi)',\n",
       "       'Devarkonda(Mallepalli)', 'Halia', 'Kodad', 'Miryalaguda',\n",
       "       'Mothkur', 'Nakrekal', 'Nalgonda', 'Ramannapet', 'Thungathurthy',\n",
       "       'Tirumalagiri', 'Venkateswarnagar',\n",
       "       'Venkateswarnagar(Chintapalli)', 'Voligonda', 'Bhiknoor',\n",
       "       'Kamareddy', 'Pitlam', 'Chevella', 'Ibrahimputnam',\n",
       "       'Kukatpally(Rythu Bazar)', 'Mehndipatnam(Rythu Bazar)',\n",
       "       'Sardarnagar', 'Warangal', 'Chowmanu', 'Boxonagar', 'Sonamura',\n",
       "       'Pabiacherra', 'Khairagarh', 'Samsabad', 'Aligarh', 'Atrauli',\n",
       "       'Charra', 'Khair', 'Ajuha', 'Allahabad', 'Jasra', 'Sirsa',\n",
       "       'Akbarpur', 'Achalda', 'Auraiya', 'Azamgarh', 'Babrala',\n",
       "       'Badayoun', 'Shahaswan', 'Visoli', 'Wazirganj', 'Baraut',\n",
       "       'Bahraich', 'Mihipurwa', 'Naanpara', 'Risia', 'Ballia',\n",
       "       'Chitwadagaon', 'Tulsipur', 'Baberu', 'Banda', 'Rudauli',\n",
       "       'Safdarganj', 'Bahedi', 'Bareilly', 'Richha', 'Basti', 'Bijnaur',\n",
       "       'Nagina', 'Divai', 'Gulavati', 'Khurja', 'Sikarpur', 'Siyana',\n",
       "       'Chandoli', 'Barhaj', 'Devariya', 'Aliganj', 'Awagarh', 'Etah',\n",
       "       'Ganjdudwara', 'Kasganj', 'Bharthna', 'Etawah', 'Jasvantnagar',\n",
       "       'Farukhabad', 'Kamlaganj', 'Kayamganj', 'Bindki', 'Fatehpur',\n",
       "       'Jahanabad', 'Kishunpur', 'Firozabad', 'Shikohabad', 'Tundla',\n",
       "       'Dadri', 'Ghaziabad', 'Muradnagar', 'Noida', 'Gazipur',\n",
       "       'Jangipura', 'Nawabganj', 'Gorakhpur', 'Kurara', 'Maudaha',\n",
       "       'Hardoi', 'Madhoganj', 'Sandila', 'Haathras', 'Shadabad', 'Ait',\n",
       "       'Jalaun', 'Kalpi', 'Madhogarh', 'Orai', 'Jaunpur',\n",
       "       'Mugrabaadshahpur', 'Shahganj', 'Baruwasagar', 'Chirgaon',\n",
       "       'Gurusarai', 'Moth', 'Hasanpur', 'Chhibramau(Kannuj)', 'Kannauj',\n",
       "       'Choubepur', 'Kanpur(Grain)', 'Uttaripura', 'Maigalganj',\n",
       "       'Mohammdi', 'Tikonia', 'Golagokarnath', 'Lakhimpur', 'Lalitpur',\n",
       "       'Mehrauni', 'Lucknow', 'Gadaura', 'Nautnava', 'Charkhari',\n",
       "       'Mahoba', 'Bewar', 'Mainpuri', 'Kosikalan', 'Mathura', 'Kopaganj',\n",
       "       'Mirzapur', 'Sambhal', 'Kadhle', 'Muzzafarnagar', 'Shahpur',\n",
       "       'Thanabhawan', 'Pilibhit', 'Puranpur', 'Vishalpur', 'Bachranwa',\n",
       "       'Jayas', 'Lalganj', 'Raibareilly', 'Salon', 'Rampur', 'Vilaspur',\n",
       "       'Chutmalpur', 'Gangoh', 'Nakud', 'Saharanpur', 'Khalilabad',\n",
       "       'Puwaha', 'Shahjahanpur', 'Payagpur', 'Sahiyapur', 'Misrikh',\n",
       "       'Sindholi', 'Sitapur', 'Viswan', 'Purwa', 'Unnao', 'Vikasnagar',\n",
       "       'Bhagwanpur(Naveen Mandi Sthal)', 'Haridwar Union', 'Gadarpur',\n",
       "       'Bankura Sadar', 'Indus(Bankura Sadar)', 'Rampurhat', 'Sainthia',\n",
       "       'Asansol', 'Durgapur', 'Baxirhat', 'Dinhata', 'Mathabhanga',\n",
       "       'Toofanganj', 'Gangarampur(Dakshin Dinajpur)',\n",
       "       'Karsiyang(Matigara)', 'Pandua', 'Sheoraphuly', 'Belacoba',\n",
       "       'Dhupguri', 'Jalpaiguri Sadar', 'Moynaguri', 'English Bazar',\n",
       "       'Jhargram', 'Beldanga', 'Kandi', 'Nadia', 'Baruipur(Canning)',\n",
       "       'Diamond Harbour(South 24-pgs)'], dtype=object)"
      ]
     },
     "execution_count": 6,
     "metadata": {},
     "output_type": "execute_result"
    }
   ],
   "source": [
    "# work on Data Preproessing \n",
    "dataset[\"Market\"].unique()"
   ]
  },
  {
   "cell_type": "code",
   "execution_count": 7,
   "id": "2c42084e",
   "metadata": {
    "execution": {
     "iopub.execute_input": "2023-03-08T10:35:48.625637Z",
     "iopub.status.busy": "2023-03-08T10:35:48.625168Z",
     "iopub.status.idle": "2023-03-08T10:35:48.644036Z",
     "shell.execute_reply": "2023-03-08T10:35:48.642842Z"
    },
    "papermill": {
     "duration": 0.032866,
     "end_time": "2023-03-08T10:35:48.646488",
     "exception": false,
     "start_time": "2023-03-08T10:35:48.613622",
     "status": "completed"
    },
    "tags": []
   },
   "outputs": [
    {
     "data": {
      "text/html": [
       "<div>\n",
       "<style scoped>\n",
       "    .dataframe tbody tr th:only-of-type {\n",
       "        vertical-align: middle;\n",
       "    }\n",
       "\n",
       "    .dataframe tbody tr th {\n",
       "        vertical-align: top;\n",
       "    }\n",
       "\n",
       "    .dataframe thead th {\n",
       "        text-align: right;\n",
       "    }\n",
       "</style>\n",
       "<table border=\"1\" class=\"dataframe\">\n",
       "  <thead>\n",
       "    <tr style=\"text-align: right;\">\n",
       "      <th></th>\n",
       "      <th>diffgr:id</th>\n",
       "      <th>msdata:rowOrder</th>\n",
       "      <th>State</th>\n",
       "      <th>District</th>\n",
       "      <th>Market</th>\n",
       "      <th>Commodity</th>\n",
       "      <th>Variety</th>\n",
       "      <th>Grade</th>\n",
       "      <th>Arrival_Date</th>\n",
       "      <th>Min_x0020_Price</th>\n",
       "      <th>Max_x0020_Price</th>\n",
       "      <th>Modal_x0020_Price</th>\n",
       "    </tr>\n",
       "  </thead>\n",
       "  <tbody>\n",
       "    <tr>\n",
       "      <th>0</th>\n",
       "      <td>Table1</td>\n",
       "      <td>0</td>\n",
       "      <td>Andhra Pradesh</td>\n",
       "      <td>Chittor</td>\n",
       "      <td>Chittoor</td>\n",
       "      <td>Gur(Jaggery)</td>\n",
       "      <td>NO 1</td>\n",
       "      <td>FAQ</td>\n",
       "      <td>24/02/2023</td>\n",
       "      <td>4000</td>\n",
       "      <td>4100.0</td>\n",
       "      <td>4000.0</td>\n",
       "    </tr>\n",
       "    <tr>\n",
       "      <th>1</th>\n",
       "      <td>Table2</td>\n",
       "      <td>1</td>\n",
       "      <td>Andhra Pradesh</td>\n",
       "      <td>Chittor</td>\n",
       "      <td>Chittoor</td>\n",
       "      <td>Gur(Jaggery)</td>\n",
       "      <td>NO 2</td>\n",
       "      <td>FAQ</td>\n",
       "      <td>24/02/2023</td>\n",
       "      <td>3000</td>\n",
       "      <td>3500.0</td>\n",
       "      <td>3500.0</td>\n",
       "    </tr>\n",
       "    <tr>\n",
       "      <th>2</th>\n",
       "      <td>Table3</td>\n",
       "      <td>2</td>\n",
       "      <td>Andhra Pradesh</td>\n",
       "      <td>Chittor</td>\n",
       "      <td>Chittoor</td>\n",
       "      <td>Gur(Jaggery)</td>\n",
       "      <td>NO 3</td>\n",
       "      <td>FAQ</td>\n",
       "      <td>24/02/2023</td>\n",
       "      <td>2300</td>\n",
       "      <td>2300.0</td>\n",
       "      <td>2300.0</td>\n",
       "    </tr>\n",
       "    <tr>\n",
       "      <th>3</th>\n",
       "      <td>Table4</td>\n",
       "      <td>3</td>\n",
       "      <td>Andhra Pradesh</td>\n",
       "      <td>Chittor</td>\n",
       "      <td>Punganur</td>\n",
       "      <td>Tomato</td>\n",
       "      <td>Hybrid</td>\n",
       "      <td>FAQ</td>\n",
       "      <td>24/02/2023</td>\n",
       "      <td>1340</td>\n",
       "      <td>2000.0</td>\n",
       "      <td>1670.0</td>\n",
       "    </tr>\n",
       "    <tr>\n",
       "      <th>4</th>\n",
       "      <td>Table5</td>\n",
       "      <td>4</td>\n",
       "      <td>Andhra Pradesh</td>\n",
       "      <td>Chittor</td>\n",
       "      <td>Vayalapadu</td>\n",
       "      <td>Tomato</td>\n",
       "      <td>Local</td>\n",
       "      <td>FAQ</td>\n",
       "      <td>24/02/2023</td>\n",
       "      <td>640</td>\n",
       "      <td>2160.0</td>\n",
       "      <td>1400.0</td>\n",
       "    </tr>\n",
       "  </tbody>\n",
       "</table>\n",
       "</div>"
      ],
      "text/plain": [
       "  diffgr:id  msdata:rowOrder           State District      Market  \\\n",
       "0    Table1                0  Andhra Pradesh  Chittor    Chittoor   \n",
       "1    Table2                1  Andhra Pradesh  Chittor    Chittoor   \n",
       "2    Table3                2  Andhra Pradesh  Chittor    Chittoor   \n",
       "3    Table4                3  Andhra Pradesh  Chittor    Punganur   \n",
       "4    Table5                4  Andhra Pradesh  Chittor  Vayalapadu   \n",
       "\n",
       "      Commodity Variety Grade Arrival_Date  Min_x0020_Price  Max_x0020_Price  \\\n",
       "0  Gur(Jaggery)    NO 1   FAQ   24/02/2023             4000           4100.0   \n",
       "1  Gur(Jaggery)    NO 2   FAQ   24/02/2023             3000           3500.0   \n",
       "2  Gur(Jaggery)    NO 3   FAQ   24/02/2023             2300           2300.0   \n",
       "3        Tomato  Hybrid   FAQ   24/02/2023             1340           2000.0   \n",
       "4        Tomato   Local   FAQ   24/02/2023              640           2160.0   \n",
       "\n",
       "   Modal_x0020_Price  \n",
       "0             4000.0  \n",
       "1             3500.0  \n",
       "2             2300.0  \n",
       "3             1670.0  \n",
       "4             1400.0  "
      ]
     },
     "execution_count": 7,
     "metadata": {},
     "output_type": "execute_result"
    }
   ],
   "source": [
    "dataset.head()"
   ]
  },
  {
   "cell_type": "code",
   "execution_count": 8,
   "id": "0e854358",
   "metadata": {
    "execution": {
     "iopub.execute_input": "2023-03-08T10:35:48.669291Z",
     "iopub.status.busy": "2023-03-08T10:35:48.668434Z",
     "iopub.status.idle": "2023-03-08T10:35:49.630892Z",
     "shell.execute_reply": "2023-03-08T10:35:49.629828Z"
    },
    "papermill": {
     "duration": 0.976784,
     "end_time": "2023-03-08T10:35:49.633763",
     "exception": false,
     "start_time": "2023-03-08T10:35:48.656979",
     "status": "completed"
    },
    "tags": []
   },
   "outputs": [],
   "source": [
    "from sklearn.preprocessing import LabelEncoder\n",
    "lbl=LabelEncoder()\n",
    "dataset[\"Market\"]=lbl.fit_transform(dataset[\"Market\"])"
   ]
  },
  {
   "cell_type": "code",
   "execution_count": 9,
   "id": "d6b57c4c",
   "metadata": {
    "execution": {
     "iopub.execute_input": "2023-03-08T10:35:49.656896Z",
     "iopub.status.busy": "2023-03-08T10:35:49.656075Z",
     "iopub.status.idle": "2023-03-08T10:35:49.665225Z",
     "shell.execute_reply": "2023-03-08T10:35:49.664308Z"
    },
    "papermill": {
     "duration": 0.023571,
     "end_time": "2023-03-08T10:35:49.667593",
     "exception": false,
     "start_time": "2023-03-08T10:35:49.644022",
     "status": "completed"
    },
    "tags": []
   },
   "outputs": [],
   "source": [
    "dataset[\"Commodity\"]=lbl.fit_transform(dataset[\"Commodity\"])"
   ]
  },
  {
   "cell_type": "code",
   "execution_count": 10,
   "id": "a1b987c4",
   "metadata": {
    "execution": {
     "iopub.execute_input": "2023-03-08T10:35:49.690227Z",
     "iopub.status.busy": "2023-03-08T10:35:49.689459Z",
     "iopub.status.idle": "2023-03-08T10:35:49.697359Z",
     "shell.execute_reply": "2023-03-08T10:35:49.696234Z"
    },
    "papermill": {
     "duration": 0.0217,
     "end_time": "2023-03-08T10:35:49.699534",
     "exception": false,
     "start_time": "2023-03-08T10:35:49.677834",
     "status": "completed"
    },
    "tags": []
   },
   "outputs": [],
   "source": [
    "dataset[\"Grade\"]=lbl.fit_transform(dataset[\"Grade\"])"
   ]
  },
  {
   "cell_type": "code",
   "execution_count": 11,
   "id": "3fe41487",
   "metadata": {
    "execution": {
     "iopub.execute_input": "2023-03-08T10:35:49.721978Z",
     "iopub.status.busy": "2023-03-08T10:35:49.721590Z",
     "iopub.status.idle": "2023-03-08T10:35:49.730625Z",
     "shell.execute_reply": "2023-03-08T10:35:49.729319Z"
    },
    "papermill": {
     "duration": 0.023272,
     "end_time": "2023-03-08T10:35:49.733070",
     "exception": false,
     "start_time": "2023-03-08T10:35:49.709798",
     "status": "completed"
    },
    "tags": []
   },
   "outputs": [],
   "source": [
    "dataset[\"Variety\"]=lbl.fit_transform(dataset[\"Variety\"])"
   ]
  },
  {
   "cell_type": "code",
   "execution_count": 12,
   "id": "c04193c8",
   "metadata": {
    "execution": {
     "iopub.execute_input": "2023-03-08T10:35:49.755662Z",
     "iopub.status.busy": "2023-03-08T10:35:49.755123Z",
     "iopub.status.idle": "2023-03-08T10:35:49.779824Z",
     "shell.execute_reply": "2023-03-08T10:35:49.778432Z"
    },
    "papermill": {
     "duration": 0.039027,
     "end_time": "2023-03-08T10:35:49.782318",
     "exception": false,
     "start_time": "2023-03-08T10:35:49.743291",
     "status": "completed"
    },
    "tags": []
   },
   "outputs": [
    {
     "data": {
      "text/html": [
       "<div>\n",
       "<style scoped>\n",
       "    .dataframe tbody tr th:only-of-type {\n",
       "        vertical-align: middle;\n",
       "    }\n",
       "\n",
       "    .dataframe tbody tr th {\n",
       "        vertical-align: top;\n",
       "    }\n",
       "\n",
       "    .dataframe thead th {\n",
       "        text-align: right;\n",
       "    }\n",
       "</style>\n",
       "<table border=\"1\" class=\"dataframe\">\n",
       "  <thead>\n",
       "    <tr style=\"text-align: right;\">\n",
       "      <th></th>\n",
       "      <th>diffgr:id</th>\n",
       "      <th>msdata:rowOrder</th>\n",
       "      <th>State</th>\n",
       "      <th>District</th>\n",
       "      <th>Market</th>\n",
       "      <th>Commodity</th>\n",
       "      <th>Variety</th>\n",
       "      <th>Grade</th>\n",
       "      <th>Arrival_Date</th>\n",
       "      <th>Min_x0020_Price</th>\n",
       "      <th>Max_x0020_Price</th>\n",
       "      <th>Modal_x0020_Price</th>\n",
       "    </tr>\n",
       "  </thead>\n",
       "  <tbody>\n",
       "    <tr>\n",
       "      <th>0</th>\n",
       "      <td>Table1</td>\n",
       "      <td>0</td>\n",
       "      <td>Andhra Pradesh</td>\n",
       "      <td>Chittor</td>\n",
       "      <td>124</td>\n",
       "      <td>85</td>\n",
       "      <td>222</td>\n",
       "      <td>0</td>\n",
       "      <td>24/02/2023</td>\n",
       "      <td>4000</td>\n",
       "      <td>4100.0</td>\n",
       "      <td>4000.0</td>\n",
       "    </tr>\n",
       "    <tr>\n",
       "      <th>1</th>\n",
       "      <td>Table2</td>\n",
       "      <td>1</td>\n",
       "      <td>Andhra Pradesh</td>\n",
       "      <td>Chittor</td>\n",
       "      <td>124</td>\n",
       "      <td>85</td>\n",
       "      <td>223</td>\n",
       "      <td>0</td>\n",
       "      <td>24/02/2023</td>\n",
       "      <td>3000</td>\n",
       "      <td>3500.0</td>\n",
       "      <td>3500.0</td>\n",
       "    </tr>\n",
       "    <tr>\n",
       "      <th>2</th>\n",
       "      <td>Table3</td>\n",
       "      <td>2</td>\n",
       "      <td>Andhra Pradesh</td>\n",
       "      <td>Chittor</td>\n",
       "      <td>124</td>\n",
       "      <td>85</td>\n",
       "      <td>224</td>\n",
       "      <td>0</td>\n",
       "      <td>24/02/2023</td>\n",
       "      <td>2300</td>\n",
       "      <td>2300.0</td>\n",
       "      <td>2300.0</td>\n",
       "    </tr>\n",
       "    <tr>\n",
       "      <th>3</th>\n",
       "      <td>Table4</td>\n",
       "      <td>3</td>\n",
       "      <td>Andhra Pradesh</td>\n",
       "      <td>Chittor</td>\n",
       "      <td>453</td>\n",
       "      <td>166</td>\n",
       "      <td>155</td>\n",
       "      <td>0</td>\n",
       "      <td>24/02/2023</td>\n",
       "      <td>1340</td>\n",
       "      <td>2000.0</td>\n",
       "      <td>1670.0</td>\n",
       "    </tr>\n",
       "    <tr>\n",
       "      <th>4</th>\n",
       "      <td>Table5</td>\n",
       "      <td>4</td>\n",
       "      <td>Andhra Pradesh</td>\n",
       "      <td>Chittor</td>\n",
       "      <td>570</td>\n",
       "      <td>166</td>\n",
       "      <td>192</td>\n",
       "      <td>0</td>\n",
       "      <td>24/02/2023</td>\n",
       "      <td>640</td>\n",
       "      <td>2160.0</td>\n",
       "      <td>1400.0</td>\n",
       "    </tr>\n",
       "    <tr>\n",
       "      <th>...</th>\n",
       "      <td>...</td>\n",
       "      <td>...</td>\n",
       "      <td>...</td>\n",
       "      <td>...</td>\n",
       "      <td>...</td>\n",
       "      <td>...</td>\n",
       "      <td>...</td>\n",
       "      <td>...</td>\n",
       "      <td>...</td>\n",
       "      <td>...</td>\n",
       "      <td>...</td>\n",
       "      <td>...</td>\n",
       "    </tr>\n",
       "    <tr>\n",
       "      <th>6430</th>\n",
       "      <td>Table6431</td>\n",
       "      <td>6430</td>\n",
       "      <td>West Bengal</td>\n",
       "      <td>Sounth 24 Parganas</td>\n",
       "      <td>155</td>\n",
       "      <td>118</td>\n",
       "      <td>269</td>\n",
       "      <td>0</td>\n",
       "      <td>24/02/2023</td>\n",
       "      <td>1400</td>\n",
       "      <td>1500.0</td>\n",
       "      <td>1450.0</td>\n",
       "    </tr>\n",
       "    <tr>\n",
       "      <th>6431</th>\n",
       "      <td>Table6432</td>\n",
       "      <td>6431</td>\n",
       "      <td>West Bengal</td>\n",
       "      <td>Sounth 24 Parganas</td>\n",
       "      <td>155</td>\n",
       "      <td>133</td>\n",
       "      <td>169</td>\n",
       "      <td>0</td>\n",
       "      <td>24/02/2023</td>\n",
       "      <td>760</td>\n",
       "      <td>800.0</td>\n",
       "      <td>780.0</td>\n",
       "    </tr>\n",
       "    <tr>\n",
       "      <th>6432</th>\n",
       "      <td>Table6433</td>\n",
       "      <td>6432</td>\n",
       "      <td>West Bengal</td>\n",
       "      <td>Sounth 24 Parganas</td>\n",
       "      <td>155</td>\n",
       "      <td>139</td>\n",
       "      <td>87</td>\n",
       "      <td>0</td>\n",
       "      <td>24/02/2023</td>\n",
       "      <td>2700</td>\n",
       "      <td>2900.0</td>\n",
       "      <td>2800.0</td>\n",
       "    </tr>\n",
       "    <tr>\n",
       "      <th>6433</th>\n",
       "      <td>Table6434</td>\n",
       "      <td>6433</td>\n",
       "      <td>West Bengal</td>\n",
       "      <td>Sounth 24 Parganas</td>\n",
       "      <td>155</td>\n",
       "      <td>139</td>\n",
       "      <td>304</td>\n",
       "      <td>0</td>\n",
       "      <td>24/02/2023</td>\n",
       "      <td>4700</td>\n",
       "      <td>4900.0</td>\n",
       "      <td>4800.0</td>\n",
       "    </tr>\n",
       "    <tr>\n",
       "      <th>6434</th>\n",
       "      <td>Table6435</td>\n",
       "      <td>6434</td>\n",
       "      <td>West Bengal</td>\n",
       "      <td>Sounth 24 Parganas</td>\n",
       "      <td>155</td>\n",
       "      <td>166</td>\n",
       "      <td>319</td>\n",
       "      <td>0</td>\n",
       "      <td>24/02/2023</td>\n",
       "      <td>1400</td>\n",
       "      <td>1600.0</td>\n",
       "      <td>1500.0</td>\n",
       "    </tr>\n",
       "  </tbody>\n",
       "</table>\n",
       "<p>6435 rows × 12 columns</p>\n",
       "</div>"
      ],
      "text/plain": [
       "      diffgr:id  msdata:rowOrder           State            District  Market  \\\n",
       "0        Table1                0  Andhra Pradesh             Chittor     124   \n",
       "1        Table2                1  Andhra Pradesh             Chittor     124   \n",
       "2        Table3                2  Andhra Pradesh             Chittor     124   \n",
       "3        Table4                3  Andhra Pradesh             Chittor     453   \n",
       "4        Table5                4  Andhra Pradesh             Chittor     570   \n",
       "...         ...              ...             ...                 ...     ...   \n",
       "6430  Table6431             6430     West Bengal  Sounth 24 Parganas     155   \n",
       "6431  Table6432             6431     West Bengal  Sounth 24 Parganas     155   \n",
       "6432  Table6433             6432     West Bengal  Sounth 24 Parganas     155   \n",
       "6433  Table6434             6433     West Bengal  Sounth 24 Parganas     155   \n",
       "6434  Table6435             6434     West Bengal  Sounth 24 Parganas     155   \n",
       "\n",
       "      Commodity  Variety  Grade Arrival_Date  Min_x0020_Price  \\\n",
       "0            85      222      0   24/02/2023             4000   \n",
       "1            85      223      0   24/02/2023             3000   \n",
       "2            85      224      0   24/02/2023             2300   \n",
       "3           166      155      0   24/02/2023             1340   \n",
       "4           166      192      0   24/02/2023              640   \n",
       "...         ...      ...    ...          ...              ...   \n",
       "6430        118      269      0   24/02/2023             1400   \n",
       "6431        133      169      0   24/02/2023              760   \n",
       "6432        139       87      0   24/02/2023             2700   \n",
       "6433        139      304      0   24/02/2023             4700   \n",
       "6434        166      319      0   24/02/2023             1400   \n",
       "\n",
       "      Max_x0020_Price  Modal_x0020_Price  \n",
       "0              4100.0             4000.0  \n",
       "1              3500.0             3500.0  \n",
       "2              2300.0             2300.0  \n",
       "3              2000.0             1670.0  \n",
       "4              2160.0             1400.0  \n",
       "...               ...                ...  \n",
       "6430           1500.0             1450.0  \n",
       "6431            800.0              780.0  \n",
       "6432           2900.0             2800.0  \n",
       "6433           4900.0             4800.0  \n",
       "6434           1600.0             1500.0  \n",
       "\n",
       "[6435 rows x 12 columns]"
      ]
     },
     "execution_count": 12,
     "metadata": {},
     "output_type": "execute_result"
    }
   ],
   "source": [
    "dataset"
   ]
  },
  {
   "cell_type": "code",
   "execution_count": 13,
   "id": "271f1d89",
   "metadata": {
    "execution": {
     "iopub.execute_input": "2023-03-08T10:35:49.806267Z",
     "iopub.status.busy": "2023-03-08T10:35:49.805121Z",
     "iopub.status.idle": "2023-03-08T10:35:50.611257Z",
     "shell.execute_reply": "2023-03-08T10:35:50.609995Z"
    },
    "papermill": {
     "duration": 0.820675,
     "end_time": "2023-03-08T10:35:50.613799",
     "exception": false,
     "start_time": "2023-03-08T10:35:49.793124",
     "status": "completed"
    },
    "tags": []
   },
   "outputs": [
    {
     "name": "stderr",
     "output_type": "stream",
     "text": [
      "/var/folders/v5/ls97yl7n7d5c_101lnk76gl00000gn/T/ipykernel_92886/131510761.py:2: FutureWarning: The default value of numeric_only in DataFrame.corr is deprecated. In a future version, it will default to False. Select only valid columns or specify the value of numeric_only to silence this warning.\n",
      "  sns.heatmap(data=dataset.corr())\n"
     ]
    },
    {
     "data": {
      "text/plain": [
       "<Axes: >"
      ]
     },
     "execution_count": 13,
     "metadata": {},
     "output_type": "execute_result"
    },
    {
     "data": {
      "image/png": "[encoded data removed]",
      "text/plain": [
       "<Figure size 640x480 with 2 Axes>"
      ]
     },
     "metadata": {},
     "output_type": "display_data"
    }
   ],
   "source": [
    "import seaborn as sns\n",
    "sns.heatmap(data=dataset.corr())"
   ]
  },
  {
   "cell_type": "markdown",
   "id": "9c2d1e8e",
   "metadata": {
    "papermill": {
     "duration": 0.011077,
     "end_time": "2023-03-08T10:35:50.636518",
     "exception": false,
     "start_time": "2023-03-08T10:35:50.625441",
     "status": "completed"
    },
    "tags": []
   },
   "source": [
    "### We are predicting product price"
   ]
  },
  {
   "cell_type": "code",
   "execution_count": 14,
   "id": "5165bab4",
   "metadata": {
    "execution": {
     "iopub.execute_input": "2023-03-08T10:35:50.661900Z",
     "iopub.status.busy": "2023-03-08T10:35:50.660667Z",
     "iopub.status.idle": "2023-03-08T10:35:50.668429Z",
     "shell.execute_reply": "2023-03-08T10:35:50.667516Z"
    },
    "papermill": {
     "duration": 0.023039,
     "end_time": "2023-03-08T10:35:50.670939",
     "exception": false,
     "start_time": "2023-03-08T10:35:50.647900",
     "status": "completed"
    },
    "tags": []
   },
   "outputs": [],
   "source": [
    "# We have select features\n",
    "x=dataset.iloc[:,[4,5,6,7,9,10]].values\n",
    "y=dataset.iloc[:,-1].values"
   ]
  },
  {
   "cell_type": "markdown",
   "id": "4e400e44",
   "metadata": {
    "papermill": {
     "duration": 0.011158,
     "end_time": "2023-03-08T10:35:50.693646",
     "exception": false,
     "start_time": "2023-03-08T10:35:50.682488",
     "status": "completed"
    },
    "tags": []
   },
   "source": [
    "# Work on Standardization Tech to Rescale the Dataset"
   ]
  },
  {
   "cell_type": "code",
   "execution_count": 15,
   "id": "6eec3891",
   "metadata": {
    "execution": {
     "iopub.execute_input": "2023-03-08T10:35:50.718880Z",
     "iopub.status.busy": "2023-03-08T10:35:50.717801Z",
     "iopub.status.idle": "2023-03-08T10:35:50.724497Z",
     "shell.execute_reply": "2023-03-08T10:35:50.723245Z"
    },
    "papermill": {
     "duration": 0.022053,
     "end_time": "2023-03-08T10:35:50.727041",
     "exception": false,
     "start_time": "2023-03-08T10:35:50.704988",
     "status": "completed"
    },
    "tags": []
   },
   "outputs": [],
   "source": [
    "from sklearn.preprocessing import StandardScaler\n",
    "s1=StandardScaler()\n",
    "x=s1.fit_transform(x)"
   ]
  },
  {
   "cell_type": "code",
   "execution_count": 16,
   "id": "4d1580a2",
   "metadata": {
    "execution": {
     "iopub.execute_input": "2023-03-08T10:35:50.752561Z",
     "iopub.status.busy": "2023-03-08T10:35:50.751193Z",
     "iopub.status.idle": "2023-03-08T10:35:50.759395Z",
     "shell.execute_reply": "2023-03-08T10:35:50.758440Z"
    },
    "papermill": {
     "duration": 0.023274,
     "end_time": "2023-03-08T10:35:50.761779",
     "exception": false,
     "start_time": "2023-03-08T10:35:50.738505",
     "status": "completed"
    },
    "tags": []
   },
   "outputs": [
    {
     "data": {
      "text/plain": [
       "0"
      ]
     },
     "execution_count": 16,
     "metadata": {},
     "output_type": "execute_result"
    }
   ],
   "source": [
    "e1=x.mean()\n",
    "e1=round(e1)\n",
    "e1"
   ]
  },
  {
   "cell_type": "code",
   "execution_count": 17,
   "id": "264f1484",
   "metadata": {
    "execution": {
     "iopub.execute_input": "2023-03-08T10:35:50.787951Z",
     "iopub.status.busy": "2023-03-08T10:35:50.786941Z",
     "iopub.status.idle": "2023-03-08T10:35:50.794185Z",
     "shell.execute_reply": "2023-03-08T10:35:50.793153Z"
    },
    "papermill": {
     "duration": 0.022786,
     "end_time": "2023-03-08T10:35:50.796395",
     "exception": false,
     "start_time": "2023-03-08T10:35:50.773609",
     "status": "completed"
    },
    "tags": []
   },
   "outputs": [
    {
     "data": {
      "text/plain": [
       "1"
      ]
     },
     "execution_count": 17,
     "metadata": {},
     "output_type": "execute_result"
    }
   ],
   "source": [
    "e1=x.var()\n",
    "e1=round(e1)\n",
    "e1"
   ]
  },
  {
   "cell_type": "code",
   "execution_count": 18,
   "id": "e2678cc0",
   "metadata": {
    "execution": {
     "iopub.execute_input": "2023-03-08T10:35:50.822526Z",
     "iopub.status.busy": "2023-03-08T10:35:50.821654Z",
     "iopub.status.idle": "2023-03-08T10:35:50.904707Z",
     "shell.execute_reply": "2023-03-08T10:35:50.903573Z"
    },
    "papermill": {
     "duration": 0.099552,
     "end_time": "2023-03-08T10:35:50.907623",
     "exception": false,
     "start_time": "2023-03-08T10:35:50.808071",
     "status": "completed"
    },
    "tags": []
   },
   "outputs": [],
   "source": [
    "# Will check Data is Normal Distribusted or not\n",
    "\n",
    "from sklearn.model_selection import train_test_split\n",
    "x_train,x_test,y_train,y_test=train_test_split(x,y,test_size=0.2,random_state=11)"
   ]
  },
  {
   "cell_type": "markdown",
   "id": "ba322a14",
   "metadata": {
    "papermill": {
     "duration": 0.011117,
     "end_time": "2023-03-08T10:35:50.930393",
     "exception": false,
     "start_time": "2023-03-08T10:35:50.919276",
     "status": "completed"
    },
    "tags": []
   },
   "source": [
    "# apply your linear model"
   ]
  },
  {
   "cell_type": "code",
   "execution_count": 19,
   "id": "35dcf52e",
   "metadata": {
    "execution": {
     "iopub.execute_input": "2023-03-08T10:35:50.955125Z",
     "iopub.status.busy": "2023-03-08T10:35:50.954731Z",
     "iopub.status.idle": "2023-03-08T10:35:51.064301Z",
     "shell.execute_reply": "2023-03-08T10:35:51.063022Z"
    },
    "papermill": {
     "duration": 0.125366,
     "end_time": "2023-03-08T10:35:51.067122",
     "exception": false,
     "start_time": "2023-03-08T10:35:50.941756",
     "status": "completed"
    },
    "tags": []
   },
   "outputs": [
    {
     "data": {
      "text/html": [
       "<style>#sk-container-id-1 {color: black;background-color: white;}#sk-container-id-1 pre{padding: 0;}#sk-container-id-1 div.sk-toggleable {background-color: white;}#sk-container-id-1 label.sk-toggleable__label {cursor: pointer;display: block;width: 100%;margin-bottom: 0;padding: 0.3em;box-sizing: border-box;text-align: center;}#sk-container-id-1 label.sk-toggleable__label-arrow:before {content: \"▸\";float: left;margin-right: 0.25em;color: #696969;}#sk-container-id-1 label.sk-toggleable__label-arrow:hover:before {color: black;}#sk-container-id-1 div.sk-estimator:hover label.sk-toggleable__label-arrow:before {color: black;}#sk-container-id-1 div.sk-toggleable__content {max-height: 0;max-width: 0;overflow: hidden;text-align: left;background-color: #f0f8ff;}#sk-container-id-1 div.sk-toggleable__content pre {margin: 0.2em;color: black;border-radius: 0.25em;background-color: #f0f8ff;}#sk-container-id-1 input.sk-toggleable__control:checked~div.sk-toggleable__content {max-height: 200px;max-width: 100%;overflow: auto;}#sk-container-id-1 input.sk-toggleable__control:checked~label.sk-toggleable__label-arrow:before {content: \"▾\";}#sk-container-id-1 div.sk-estimator input.sk-toggleable__control:checked~label.sk-toggleable__label {background-color: #d4ebff;}#sk-container-id-1 div.sk-label input.sk-toggleable__control:checked~label.sk-toggleable__label {background-color: #d4ebff;}#sk-container-id-1 input.sk-hidden--visually {border: 0;clip: rect(1px 1px 1px 1px);clip: rect(1px, 1px, 1px, 1px);height: 1px;margin: -1px;overflow: hidden;padding: 0;position: absolute;width: 1px;}#sk-container-id-1 div.sk-estimator {font-family: monospace;background-color: #f0f8ff;border: 1px dotted black;border-radius: 0.25em;box-sizing: border-box;margin-bottom: 0.5em;}#sk-container-id-1 div.sk-estimator:hover {background-color: #d4ebff;}#sk-container-id-1 div.sk-parallel-item::after {content: \"\";width: 100%;border-bottom: 1px solid gray;flex-grow: 1;}#sk-container-id-1 div.sk-label:hover label.sk-toggleable__label {background-color: #d4ebff;}#sk-container-id-1 div.sk-serial::before {content: \"\";position: absolute;border-left: 1px solid gray;box-sizing: border-box;top: 0;bottom: 0;left: 50%;z-index: 0;}#sk-container-id-1 div.sk-serial {display: flex;flex-direction: column;align-items: center;background-color: white;padding-right: 0.2em;padding-left: 0.2em;position: relative;}#sk-container-id-1 div.sk-item {position: relative;z-index: 1;}#sk-container-id-1 div.sk-parallel {display: flex;align-items: stretch;justify-content: center;background-color: white;position: relative;}#sk-container-id-1 div.sk-item::before, #sk-container-id-1 div.sk-parallel-item::before {content: \"\";position: absolute;border-left: 1px solid gray;box-sizing: border-box;top: 0;bottom: 0;left: 50%;z-index: -1;}#sk-container-id-1 div.sk-parallel-item {display: flex;flex-direction: column;z-index: 1;position: relative;background-color: white;}#sk-container-id-1 div.sk-parallel-item:first-child::after {align-self: flex-end;width: 50%;}#sk-container-id-1 div.sk-parallel-item:last-child::after {align-self: flex-start;width: 50%;}#sk-container-id-1 div.sk-parallel-item:only-child::after {width: 0;}#sk-container-id-1 div.sk-dashed-wrapped {border: 1px dashed gray;margin: 0 0.4em 0.5em 0.4em;box-sizing: border-box;padding-bottom: 0.4em;background-color: white;}#sk-container-id-1 div.sk-label label {font-family: monospace;font-weight: bold;display: inline-block;line-height: 1.2em;}#sk-container-id-1 div.sk-label-container {text-align: center;}#sk-container-id-1 div.sk-container {/* jupyter's `normalize.less` sets `[hidden] { display: none; }` but bootstrap.min.css set `[hidden] { display: none !important; }` so we also need the `!important` here to be able to override the default hidden behavior on the sphinx rendered scikit-learn.org. See: https://github.com/scikit-learn/scikit-learn/issues/21755 */display: inline-block !important;position: relative;}#sk-container-id-1 div.sk-text-repr-fallback {display: none;}</style><div id=\"sk-container-id-1\" class=\"sk-top-container\"><div class=\"sk-text-repr-fallback\"><pre>LinearRegression()</pre><b>In a Jupyter environment, please rerun this cell to show the HTML representation or trust the notebook. <br />On GitHub, the HTML representation is unable to render, please try loading this page with nbviewer.org.</b></div><div class=\"sk-container\" hidden><div class=\"sk-item\"><div class=\"sk-estimator sk-toggleable\"><input class=\"sk-toggleable__control sk-hidden--visually\" id=\"sk-estimator-id-1\" type=\"checkbox\" checked><label for=\"sk-estimator-id-1\" class=\"sk-toggleable__label sk-toggleable__label-arrow\">LinearRegression</label><div class=\"sk-toggleable__content\"><pre>LinearRegression()</pre></div></div></div></div></div>"
      ],
      "text/plain": [
       "LinearRegression()"
      ]
     },
     "execution_count": 19,
     "metadata": {},
     "output_type": "execute_result"
    }
   ],
   "source": [
    "from sklearn.linear_model import LinearRegression \n",
    "l1=LinearRegression()\n",
    "l1.fit(x_train,y_train)"
   ]
  },
  {
   "cell_type": "code",
   "execution_count": 20,
   "id": "7e2949ab",
   "metadata": {
    "execution": {
     "iopub.execute_input": "2023-03-08T10:35:51.093228Z",
     "iopub.status.busy": "2023-03-08T10:35:51.092790Z",
     "iopub.status.idle": "2023-03-08T10:35:51.101381Z",
     "shell.execute_reply": "2023-03-08T10:35:51.100106Z"
    },
    "papermill": {
     "duration": 0.024695,
     "end_time": "2023-03-08T10:35:51.103795",
     "exception": false,
     "start_time": "2023-03-08T10:35:51.079100",
     "status": "completed"
    },
    "tags": []
   },
   "outputs": [
    {
     "data": {
      "text/plain": [
       "array([ 859.43279458, 2355.86215266, 3748.27723854, ..., 1527.22452285,\n",
       "       3800.48137786,  453.63848044])"
      ]
     },
     "execution_count": 20,
     "metadata": {},
     "output_type": "execute_result"
    }
   ],
   "source": [
    "y_reg_score=l1.predict(x_test)\n",
    "y_reg_score"
   ]
  },
  {
   "cell_type": "code",
   "execution_count": 21,
   "id": "4bb45cae",
   "metadata": {
    "execution": {
     "iopub.execute_input": "2023-03-08T10:35:51.130143Z",
     "iopub.status.busy": "2023-03-08T10:35:51.129271Z",
     "iopub.status.idle": "2023-03-08T10:35:51.137719Z",
     "shell.execute_reply": "2023-03-08T10:35:51.136721Z"
    },
    "papermill": {
     "duration": 0.024325,
     "end_time": "2023-03-08T10:35:51.140128",
     "exception": false,
     "start_time": "2023-03-08T10:35:51.115803",
     "status": "completed"
    },
    "tags": []
   },
   "outputs": [
    {
     "data": {
      "text/plain": [
       "99.98679475505587"
      ]
     },
     "execution_count": 21,
     "metadata": {},
     "output_type": "execute_result"
    }
   ],
   "source": [
    "from sklearn.metrics import mean_squared_error, r2_score\n",
    "r2_score(y_test,y_reg_score)*100"
   ]
  },
  {
   "cell_type": "markdown",
   "id": "a6c7f89d",
   "metadata": {
    "papermill": {
     "duration": 0.011642,
     "end_time": "2023-03-08T10:35:51.163912",
     "exception": false,
     "start_time": "2023-03-08T10:35:51.152270",
     "status": "completed"
    },
    "tags": []
   },
   "source": [
    "# Lets Check Model is Under Fitting or Overfitting "
   ]
  },
  {
   "cell_type": "markdown",
   "id": "ef87001f",
   "metadata": {
    "papermill": {
     "duration": 0.01155,
     "end_time": "2023-03-08T10:35:51.187442",
     "exception": false,
     "start_time": "2023-03-08T10:35:51.175892",
     "status": "completed"
    },
    "tags": []
   },
   "source": [
    "# Train"
   ]
  },
  {
   "cell_type": "code",
   "execution_count": 22,
   "id": "8dfd8565",
   "metadata": {
    "execution": {
     "iopub.execute_input": "2023-03-08T10:35:51.213713Z",
     "iopub.status.busy": "2023-03-08T10:35:51.212839Z",
     "iopub.status.idle": "2023-03-08T10:35:51.227741Z",
     "shell.execute_reply": "2023-03-08T10:35:51.226369Z"
    },
    "papermill": {
     "duration": 0.032393,
     "end_time": "2023-03-08T10:35:51.231754",
     "exception": false,
     "start_time": "2023-03-08T10:35:51.199361",
     "status": "completed"
    },
    "tags": []
   },
   "outputs": [
    {
     "data": {
      "text/plain": [
       "99.98590105748974"
      ]
     },
     "execution_count": 22,
     "metadata": {},
     "output_type": "execute_result"
    }
   ],
   "source": [
    "from sklearn.linear_model import LinearRegression \n",
    "l1=LinearRegression()\n",
    "l1.fit(x_train,y_train)\n",
    "\n",
    "\n",
    "y_pred_test=l1.predict(x_train)\n",
    "# y_reg1_score\n",
    "\n",
    "from sklearn.metrics import mean_squared_error, r2_score\n",
    "r2_score(y_train,y_pred_test)*100"
   ]
  },
  {
   "cell_type": "code",
   "execution_count": 23,
   "id": "d9dfc4d9",
   "metadata": {
    "execution": {
     "iopub.execute_input": "2023-03-08T10:35:51.272685Z",
     "iopub.status.busy": "2023-03-08T10:35:51.272107Z",
     "iopub.status.idle": "2023-03-08T10:35:51.302486Z",
     "shell.execute_reply": "2023-03-08T10:35:51.301110Z"
    },
    "papermill": {
     "duration": 0.055421,
     "end_time": "2023-03-08T10:35:51.306557",
     "exception": false,
     "start_time": "2023-03-08T10:35:51.251136",
     "status": "completed"
    },
    "tags": []
   },
   "outputs": [
    {
     "data": {
      "text/html": [
       "<div>\n",
       "<style scoped>\n",
       "    .dataframe tbody tr th:only-of-type {\n",
       "        vertical-align: middle;\n",
       "    }\n",
       "\n",
       "    .dataframe tbody tr th {\n",
       "        vertical-align: top;\n",
       "    }\n",
       "\n",
       "    .dataframe thead th {\n",
       "        text-align: right;\n",
       "    }\n",
       "</style>\n",
       "<table border=\"1\" class=\"dataframe\">\n",
       "  <thead>\n",
       "    <tr style=\"text-align: right;\">\n",
       "      <th></th>\n",
       "      <th>diffgr:id</th>\n",
       "      <th>msdata:rowOrder</th>\n",
       "      <th>State</th>\n",
       "      <th>District</th>\n",
       "      <th>Market</th>\n",
       "      <th>Commodity</th>\n",
       "      <th>Variety</th>\n",
       "      <th>Grade</th>\n",
       "      <th>Arrival_Date</th>\n",
       "      <th>Min_x0020_Price</th>\n",
       "      <th>Max_x0020_Price</th>\n",
       "      <th>Modal_x0020_Price</th>\n",
       "    </tr>\n",
       "  </thead>\n",
       "  <tbody>\n",
       "    <tr>\n",
       "      <th>0</th>\n",
       "      <td>Table1</td>\n",
       "      <td>0</td>\n",
       "      <td>Andhra Pradesh</td>\n",
       "      <td>Chittor</td>\n",
       "      <td>124</td>\n",
       "      <td>85</td>\n",
       "      <td>222</td>\n",
       "      <td>0</td>\n",
       "      <td>24/02/2023</td>\n",
       "      <td>4000</td>\n",
       "      <td>4100.0</td>\n",
       "      <td>4000.0</td>\n",
       "    </tr>\n",
       "    <tr>\n",
       "      <th>1</th>\n",
       "      <td>Table2</td>\n",
       "      <td>1</td>\n",
       "      <td>Andhra Pradesh</td>\n",
       "      <td>Chittor</td>\n",
       "      <td>124</td>\n",
       "      <td>85</td>\n",
       "      <td>223</td>\n",
       "      <td>0</td>\n",
       "      <td>24/02/2023</td>\n",
       "      <td>3000</td>\n",
       "      <td>3500.0</td>\n",
       "      <td>3500.0</td>\n",
       "    </tr>\n",
       "    <tr>\n",
       "      <th>2</th>\n",
       "      <td>Table3</td>\n",
       "      <td>2</td>\n",
       "      <td>Andhra Pradesh</td>\n",
       "      <td>Chittor</td>\n",
       "      <td>124</td>\n",
       "      <td>85</td>\n",
       "      <td>224</td>\n",
       "      <td>0</td>\n",
       "      <td>24/02/2023</td>\n",
       "      <td>2300</td>\n",
       "      <td>2300.0</td>\n",
       "      <td>2300.0</td>\n",
       "    </tr>\n",
       "    <tr>\n",
       "      <th>3</th>\n",
       "      <td>Table4</td>\n",
       "      <td>3</td>\n",
       "      <td>Andhra Pradesh</td>\n",
       "      <td>Chittor</td>\n",
       "      <td>453</td>\n",
       "      <td>166</td>\n",
       "      <td>155</td>\n",
       "      <td>0</td>\n",
       "      <td>24/02/2023</td>\n",
       "      <td>1340</td>\n",
       "      <td>2000.0</td>\n",
       "      <td>1670.0</td>\n",
       "    </tr>\n",
       "    <tr>\n",
       "      <th>4</th>\n",
       "      <td>Table5</td>\n",
       "      <td>4</td>\n",
       "      <td>Andhra Pradesh</td>\n",
       "      <td>Chittor</td>\n",
       "      <td>570</td>\n",
       "      <td>166</td>\n",
       "      <td>192</td>\n",
       "      <td>0</td>\n",
       "      <td>24/02/2023</td>\n",
       "      <td>640</td>\n",
       "      <td>2160.0</td>\n",
       "      <td>1400.0</td>\n",
       "    </tr>\n",
       "  </tbody>\n",
       "</table>\n",
       "</div>"
      ],
      "text/plain": [
       "  diffgr:id  msdata:rowOrder           State District  Market  Commodity  \\\n",
       "0    Table1                0  Andhra Pradesh  Chittor     124         85   \n",
       "1    Table2                1  Andhra Pradesh  Chittor     124         85   \n",
       "2    Table3                2  Andhra Pradesh  Chittor     124         85   \n",
       "3    Table4                3  Andhra Pradesh  Chittor     453        166   \n",
       "4    Table5                4  Andhra Pradesh  Chittor     570        166   \n",
       "\n",
       "   Variety  Grade Arrival_Date  Min_x0020_Price  Max_x0020_Price  \\\n",
       "0      222      0   24/02/2023             4000           4100.0   \n",
       "1      223      0   24/02/2023             3000           3500.0   \n",
       "2      224      0   24/02/2023             2300           2300.0   \n",
       "3      155      0   24/02/2023             1340           2000.0   \n",
       "4      192      0   24/02/2023              640           2160.0   \n",
       "\n",
       "   Modal_x0020_Price  \n",
       "0             4000.0  \n",
       "1             3500.0  \n",
       "2             2300.0  \n",
       "3             1670.0  \n",
       "4             1400.0  "
      ]
     },
     "execution_count": 23,
     "metadata": {},
     "output_type": "execute_result"
    }
   ],
   "source": [
    "dataset.head()"
   ]
  },
  {
   "cell_type": "code",
   "execution_count": 24,
   "id": "d0d17894",
   "metadata": {
    "execution": {
     "iopub.execute_input": "2023-03-08T10:35:51.346610Z",
     "iopub.status.busy": "2023-03-08T10:35:51.346154Z",
     "iopub.status.idle": "2023-03-08T10:35:51.352242Z",
     "shell.execute_reply": "2023-03-08T10:35:51.351237Z"
    },
    "papermill": {
     "duration": 0.028091,
     "end_time": "2023-03-08T10:35:51.354674",
     "exception": false,
     "start_time": "2023-03-08T10:35:51.326583",
     "status": "completed"
    },
    "tags": []
   },
   "outputs": [],
   "source": [
    "av=dataset[\"Modal_x0020_Price\"].var()"
   ]
  },
  {
   "cell_type": "code",
   "execution_count": 25,
   "id": "c0125e9d",
   "metadata": {
    "execution": {
     "iopub.execute_input": "2023-03-08T10:35:51.381411Z",
     "iopub.status.busy": "2023-03-08T10:35:51.380950Z",
     "iopub.status.idle": "2023-03-08T10:35:51.389373Z",
     "shell.execute_reply": "2023-03-08T10:35:51.388081Z"
    },
    "papermill": {
     "duration": 0.024866,
     "end_time": "2023-03-08T10:35:51.391861",
     "exception": false,
     "start_time": "2023-03-08T10:35:51.366995",
     "status": "completed"
    },
    "tags": []
   },
   "outputs": [
    {
     "data": {
      "text/plain": [
       "-491045747"
      ]
     },
     "execution_count": 25,
     "metadata": {},
     "output_type": "execute_result"
    }
   ],
   "source": [
    "\n",
    "sse=np.mean(np.mean(y_pred_test-y_train)**2)\n",
    "bais=sse-av\n",
    "bais=round(bais)\n",
    "bais"
   ]
  },
  {
   "cell_type": "markdown",
   "id": "b3f475aa",
   "metadata": {
    "papermill": {
     "duration": 0.011993,
     "end_time": "2023-03-08T10:35:51.416170",
     "exception": false,
     "start_time": "2023-03-08T10:35:51.404177",
     "status": "completed"
    },
    "tags": []
   },
   "source": [
    "# Test"
   ]
  },
  {
   "cell_type": "code",
   "execution_count": 26,
   "id": "d7b8cc22",
   "metadata": {
    "execution": {
     "iopub.execute_input": "2023-03-08T10:35:51.443516Z",
     "iopub.status.busy": "2023-03-08T10:35:51.442446Z",
     "iopub.status.idle": "2023-03-08T10:35:51.454185Z",
     "shell.execute_reply": "2023-03-08T10:35:51.452999Z"
    },
    "papermill": {
     "duration": 0.028422,
     "end_time": "2023-03-08T10:35:51.456991",
     "exception": false,
     "start_time": "2023-03-08T10:35:51.428569",
     "status": "completed"
    },
    "tags": []
   },
   "outputs": [
    {
     "data": {
      "text/plain": [
       "99.98679475505587"
      ]
     },
     "execution_count": 26,
     "metadata": {},
     "output_type": "execute_result"
    }
   ],
   "source": [
    "from sklearn.linear_model import LinearRegression \n",
    "l1=LinearRegression()\n",
    "l1.fit(x_train,y_train)\n",
    "\n",
    "\n",
    "y_pred_test1=l1.predict(x_test)\n",
    "# y_reg1_score\n",
    "\n",
    "from sklearn.metrics import mean_squared_error, r2_score\n",
    "r2_score(y_test,y_pred_test1)*100"
   ]
  },
  {
   "cell_type": "code",
   "execution_count": 27,
   "id": "c5aa30e6",
   "metadata": {
    "execution": {
     "iopub.execute_input": "2023-03-08T10:35:51.485984Z",
     "iopub.status.busy": "2023-03-08T10:35:51.485107Z",
     "iopub.status.idle": "2023-03-08T10:35:51.493324Z",
     "shell.execute_reply": "2023-03-08T10:35:51.492371Z"
    },
    "papermill": {
     "duration": 0.024935,
     "end_time": "2023-03-08T10:35:51.495705",
     "exception": false,
     "start_time": "2023-03-08T10:35:51.470770",
     "status": "completed"
    },
    "tags": []
   },
   "outputs": [
    {
     "data": {
      "text/plain": [
       "-491045743"
      ]
     },
     "execution_count": 27,
     "metadata": {},
     "output_type": "execute_result"
    }
   ],
   "source": [
    "sse=np.mean(np.mean(y_pred_test1-y_test)**2)\n",
    "bais=sse-av\n",
    "bais=round(bais)\n",
    "bais"
   ]
  },
  {
   "cell_type": "markdown",
   "id": "6fd24745",
   "metadata": {
    "papermill": {
     "duration": 0.012391,
     "end_time": "2023-03-08T10:35:51.520875",
     "exception": false,
     "start_time": "2023-03-08T10:35:51.508484",
     "status": "completed"
    },
    "tags": []
   },
   "source": [
    "# Lets work on the Ridge Regression "
   ]
  },
  {
   "cell_type": "code",
   "execution_count": 28,
   "id": "ab2ea47d",
   "metadata": {
    "execution": {
     "iopub.execute_input": "2023-03-08T10:35:51.548907Z",
     "iopub.status.busy": "2023-03-08T10:35:51.548075Z",
     "iopub.status.idle": "2023-03-08T10:35:51.555926Z",
     "shell.execute_reply": "2023-03-08T10:35:51.554950Z"
    },
    "papermill": {
     "duration": 0.024705,
     "end_time": "2023-03-08T10:35:51.558308",
     "exception": false,
     "start_time": "2023-03-08T10:35:51.533603",
     "status": "completed"
    },
    "tags": []
   },
   "outputs": [
    {
     "data": {
      "text/plain": [
       "array([[-0.54122614, -0.92653143,  0.706977  , -0.36849895, -0.05451918,\n",
       "        -0.04900792],\n",
       "       [-0.23460616, -0.86947005, -1.20689185, -0.36849895, -0.15047167,\n",
       "        -0.14694035],\n",
       "       [-1.0778111 , -1.0406542 ,  0.706977  , -0.36849895, -0.12832879,\n",
       "        -0.13235467],\n",
       "       ...,\n",
       "       [ 0.40221995, -0.92653143, -1.242554  , -0.36849895, -0.13054308,\n",
       "        -0.1258953 ],\n",
       "       [-1.18394879, -1.0406542 ,  1.18247237, -0.36849895, -0.10372559,\n",
       "        -0.0906813 ],\n",
       "       [ 0.23711688, -1.49714526,  0.706977  , -0.36849895, -0.09388431,\n",
       "        -0.09901597]])"
      ]
     },
     "execution_count": 28,
     "metadata": {},
     "output_type": "execute_result"
    }
   ],
   "source": [
    "x_train"
   ]
  },
  {
   "cell_type": "code",
   "execution_count": 29,
   "id": "657012bb",
   "metadata": {
    "execution": {
     "iopub.execute_input": "2023-03-08T10:35:51.586373Z",
     "iopub.status.busy": "2023-03-08T10:35:51.585532Z",
     "iopub.status.idle": "2023-03-08T10:35:51.604398Z",
     "shell.execute_reply": "2023-03-08T10:35:51.603099Z"
    },
    "papermill": {
     "duration": 0.03629,
     "end_time": "2023-03-08T10:35:51.607545",
     "exception": false,
     "start_time": "2023-03-08T10:35:51.571255",
     "status": "completed"
    },
    "tags": []
   },
   "outputs": [
    {
     "name": "stdout",
     "output_type": "stream",
     "text": [
      "[ 859.4331714  2355.86218108 3748.277833   ... 1527.22482289 3800.48162692\n",
      "  453.63873214]\n"
     ]
    },
    {
     "data": {
      "text/plain": [
       "99.98679484429026"
      ]
     },
     "execution_count": 29,
     "metadata": {},
     "output_type": "execute_result"
    }
   ],
   "source": [
    "# Ridge\n",
    "from sklearn.linear_model import Ridge\n",
    "rg=Ridge(alpha=0.001)\n",
    "rg.fit(x_train,y_train)\n",
    "\n",
    "y_rg=rg.predict(x_test)\n",
    "print(y_rg)\n",
    "\n",
    "\n",
    "from sklearn.metrics import mean_squared_error, r2_score\n",
    "r2_score(y_test,y_rg)*100\n",
    "\n",
    "\n",
    "\n"
   ]
  },
  {
   "cell_type": "code",
   "execution_count": 30,
   "id": "6ff31d63",
   "metadata": {
    "execution": {
     "iopub.execute_input": "2023-03-08T10:35:51.650972Z",
     "iopub.status.busy": "2023-03-08T10:35:51.650432Z",
     "iopub.status.idle": "2023-03-08T10:35:51.696982Z",
     "shell.execute_reply": "2023-03-08T10:35:51.695613Z"
    },
    "papermill": {
     "duration": 0.07206,
     "end_time": "2023-03-08T10:35:51.700195",
     "exception": false,
     "start_time": "2023-03-08T10:35:51.628135",
     "status": "completed"
    },
    "tags": []
   },
   "outputs": [
    {
     "name": "stdout",
     "output_type": "stream",
     "text": [
      "[ 858.46957451 2357.07901754 3752.20740715 ... 1526.64551371 3794.20565908\n",
      "  453.60840273]\n"
     ]
    },
    {
     "data": {
      "text/plain": [
       "99.98624305650924"
      ]
     },
     "execution_count": 30,
     "metadata": {},
     "output_type": "execute_result"
    }
   ],
   "source": [
    "# Lasso\n",
    "from sklearn.linear_model import Lasso\n",
    "ls=Lasso(alpha=1.144)\n",
    "ls.fit(x_train,y_train)\n",
    "\n",
    "y_ls=ls.predict(x_test)\n",
    "print(y_ls)\n",
    "\n",
    "from sklearn.metrics import mean_squared_error, r2_score\n",
    "r2_score(y_test,y_ls)*100"
   ]
  },
  {
   "cell_type": "markdown",
   "id": "b731b5cc",
   "metadata": {
    "papermill": {
     "duration": 0.020658,
     "end_time": "2023-03-08T10:35:51.741774",
     "exception": false,
     "start_time": "2023-03-08T10:35:51.721116",
     "status": "completed"
    },
    "tags": []
   },
   "source": [
    "# Performance Checking Accuracy\n",
    "# 99.98590105748974 Normal Imple\n",
    "# 99.98624305650924 Ridge\n",
    "# 99.98679484429026 Lasso"
   ]
  },
  {
   "cell_type": "code",
   "execution_count": null,
   "id": "8797a9de",
   "metadata": {
    "papermill": {
     "duration": 0.020072,
     "end_time": "2023-03-08T10:35:51.782825",
     "exception": false,
     "start_time": "2023-03-08T10:35:51.762753",
     "status": "completed"
    },
    "tags": []
   },
   "outputs": [],
   "source": []
  }
 ],
 "metadata": {
  "kernelspec": {
   "display_name": "Python 3 (ipykernel)",
   "language": "python",
   "name": "python3"
  },
  "language_info": {
   "codemirror_mode": {
    "name": "ipython",
    "version": 3
   },
   "file_extension": ".py",
   "mimetype": "text/x-python",
   "name": "python",
   "nbconvert_exporter": "python",
   "pygments_lexer": "ipython3",
   "version": "3.10.9"
  },
  "papermill": {
   "default_parameters": {},
   "duration": 16.246199,
   "end_time": "2023-03-08T10:35:52.518044",
   "environment_variables": {},
   "exception": null,
   "input_path": "__notebook__.ipynb",
   "output_path": "__notebook__.ipynb",
   "parameters": {},
   "start_time": "2023-03-08T10:35:36.271845",
   "version": "2.4.0"
  }
 },
 "nbformat": 4,
 "nbformat_minor": 5
}
